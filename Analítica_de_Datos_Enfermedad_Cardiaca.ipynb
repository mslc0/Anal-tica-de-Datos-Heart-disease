{
  "cells": [
    {
      "cell_type": "markdown",
      "metadata": {
        "id": "view-in-github",
        "colab_type": "text"
      },
      "source": [
        "<a href=\"https://colab.research.google.com/github/mslc0/Anal-tica-de-Datos-Heart-disease/blob/main/Anal%C3%ADtica_de_Datos_Enfermedad_Cardiaca.ipynb\" target=\"_parent\"><img src=\"https://colab.research.google.com/assets/colab-badge.svg\" alt=\"Open In Colab\"/></a>"
      ]
    },
    {
      "cell_type": "markdown",
      "source": [
        "# Miembros del Grupo\n",
        "\n",
        "\n",
        "*   Miguel Santiago Luque Casallas - 20202167051\n",
        "*   Juan Camilo Lozano Cadena - 20181167017\n",
        "*   Julián Andrés López Moreno - 20191167031\n",
        "*   Juan Camilo Rodríguez Pinilla - 20182167087\n",
        "\n",
        "Este documento ya tiene el CSV cargado, no es necesario ejecutar la seccion de carga de datos"
      ],
      "metadata": {
        "id": "ow5h8HLOY3cO"
      }
    },
    {
      "cell_type": "markdown",
      "metadata": {
        "id": "Rj48WyJ9fXH6"
      },
      "source": [
        "# 1. Descripcion del Proyecto:\n"
      ]
    },
    {
      "cell_type": "markdown",
      "metadata": {
        "id": "wPYWPEeDXzNs"
      },
      "source": [
        "## 1.1. Descripción General\n",
        "El proyecto Enfermedad cardíaca: clasificaciones fue escogido  de las bases de datos de Kaggle, la cual es una comunidad en línea de científicos de datos y profesionales del aprendizaje automático. \n",
        "El objetivo general consiste en clasificar la presencia de enfermedad cardíaca en pacientes. La variable dependiente representa la presencia o ausencia de la enfermedad en una escala de 0 a 1, las variables independiente tienen en cuenta aspectos tales como la edad, el sexo, la ubicación del dolor torácico, el tipo de dolor torácico, angina típica, angina atípica, años fumando, presión arterial en reposo entre otros. \n",
        "La base de datos presenta variables de tipo nominal, dicotómicas, ordinales, discreta y continua, dispuestas en 14 columnas y 303 filas con algunos datos faltantes. "
      ]
    },
    {
      "cell_type": "markdown",
      "metadata": {
        "id": "v0u0IYeBIgi0"
      },
      "source": [
        "**Variables** \n",
        "\n",
        "*   age - Edad en años\n",
        "*   sex - Genero (1=Hombre; 0=Mujer)\n",
        "*   cp - tipo de dolor en el pecho (1=angina tipica; 2=angina atipica; 3=dolor no anginoso; 4=asintomatico).\n",
        "\n",
        "**Def** Angina típica: 3 características de: malestar retroesternal, provocado por esfuerzo o estrés emocional y se alivia con reposo. Angina atípica: 2 características de las mencionadas. Dolor no anginoso: 1 o ninguna de las características.\n",
        "*   trestbps  - presión arterial en reposo (en mm Hg al ingreso en el hospital)\n",
        " \n",
        "**Def** fuerza que la sangre ejerce contra las paredes arteriales\n",
        "*   chol - colesterol sérico en mg/dl\n",
        "*   fbs - (azúcar en sangre en ayunas > 120 mg/dl) (1 = verdadero; 0 = falso)\n",
        "*   restecg - resultados electrocardiográficos en reposo\n",
        "\n",
        "**Def** 0=normal, 1= anormalidades del segmento ST u onda T; 2= hipertrofia ventricular izquierda.\n",
        "*   thalach - frecuencia cardíaca máxima alcanzada\n",
        "*   exang - angina inducida por el ejercicio (1 = sí; 0 = no)\n",
        "*   oldpeak - depresión del ST inducida por el ejercicio en relación con el reposo\n",
        "*   slope - la pendiente del segmento ST del ejercicio máximo\n",
        "*   ca - número de vasos principales (0-3) coloreados por fluoroscopia\n",
        "*   thal - 3 = normal; 6 = defecto fijo; 7 = defecto reversible\n",
        "*   target - tiene enfermedad o no (1=sí, 0=no)` "
      ]
    },
    {
      "cell_type": "markdown",
      "metadata": {
        "id": "RjoeDXVcXwCM"
      },
      "source": [
        "## 1.2. Aprendizaje Automático\n",
        "De los algoritmos de Aprendizaje automático, nos enfocaremos en el uso de los clasificadores, estos permitirán predecir dos o más categorías que den cuenta de la ausencia o presencia de la enfermedad.\n",
        "De los algoritmos de clasificación se implementará la regresión logística, las máquinas de soporte vectorial (SVM), k vecinos más próximos (KNN), Naive Bayes, árboles de decisión y bosques aleatorios.\n",
        "Finalmente, evaluaremos de cada modelo la precisión, exactitud y realizaremos la matriz de confusión para determinar cuál de los modelos utilizados se ajusta mejor a nuestros datos y presenta un mejor rendimiento. "
      ]
    },
    {
      "cell_type": "markdown",
      "metadata": {
        "id": "PLTI6vbVf656"
      },
      "source": [
        "# 2. Los Paquetes que Utilizaremos:"
      ]
    },
    {
      "cell_type": "markdown",
      "metadata": {
        "id": "nk_LkYqyf-JJ"
      },
      "source": [
        "## 2.1. Numpy\n",
        "Es una biblioteca para el lenguaje de programación Python que da soporte para crear vectores y matrices grandes multidimensionales, junto con una gran colección de funciones matemáticas de alto nivel para operar con ellas.\n",
        "NumPy es el paquete fundamental para la computación científica en Python. Es una biblioteca de Python que proporciona un objeto de matriz multidimensional, varios objetos derivados (como matrices y matrices enmascaradas) y una variedad de rutinas para operaciones rápidas en matrices, que incluyen manipulación matemática, lógica, de formas, clasificación, selección, E/S. , transformadas discretas de Fourier, álgebra lineal básica, operaciones estadísticas básicas, simulación aleatoria y mucho más.."
      ]
    },
    {
      "cell_type": "code",
      "execution_count": null,
      "metadata": {
        "id": "Hyq71vRDfDZ0"
      },
      "outputs": [],
      "source": [
        "import numpy as np"
      ]
    },
    {
      "cell_type": "markdown",
      "metadata": {
        "id": "GFeWWocpgt-g"
      },
      "source": [
        "## 2.2. Pandas\n",
        "En Computación y Ciencia de datos, pandas es una biblioteca de software escrita como extensión de NumPy para manipulación y análisis de datos para el lenguaje de programación Python. En particular, ofrece estructuras de datos y operaciones para manipular tablas numéricas y series temporales. Es un software libre distribuido bajo la licencia BSD versión tres cláusulas.\n"
      ]
    },
    {
      "cell_type": "code",
      "execution_count": null,
      "metadata": {
        "id": "WtsyKFUJhIqF"
      },
      "outputs": [],
      "source": [
        "import pandas as pd"
      ]
    },
    {
      "cell_type": "markdown",
      "metadata": {
        "id": "zYeqe6Zn_4ga"
      },
      "source": [
        "## 2.3. matplotlib.pyplot\n",
        "Es una interfaz basada en estado para matplotlib. Proporciona una forma de representación gráfica implícita, similar a MATLAB. También abre figuras en su pantalla y actúa como el administrador de GUI de figura"
      ]
    },
    {
      "cell_type": "code",
      "execution_count": null,
      "metadata": {
        "id": "gp9jm-BM_79C"
      },
      "outputs": [],
      "source": [
        "import matplotlib.pyplot as plt"
      ]
    },
    {
      "cell_type": "markdown",
      "metadata": {
        "id": "C_WMzeko_-PR"
      },
      "source": [
        "## 2.4. seaborn\n",
        "Seaborn es una biblioteca de visualización de datos de Python basada en matplotlib. Proporciona una interfaz de alto nivel para dibujar gráficos estadísticos, atractivos e informativos.\n",
        "\n",
        "Para una breve introducción a las ideas detrás de la biblioteca, puede leer las notas introductorias o el artículo. Visite la página de instalación para ver cómo puede descargar el paquete y empezar a utilizarlo. Puede explorar la galería de ejemplos para ver algunas de las cosas que puede hacer con seaborn y luego consultar los tutoriales o la referencia de la API para averiguar cómo hacerlo."
      ]
    },
    {
      "cell_type": "code",
      "execution_count": null,
      "metadata": {
        "id": "aTX3DHycAJ35"
      },
      "outputs": [],
      "source": [
        "import seaborn as sns"
      ]
    },
    {
      "cell_type": "markdown",
      "metadata": {
        "id": "6afQLXliAMG5"
      },
      "source": [
        "## 2.5. sklearn\n",
        "Nos ayuda en los principales aspectos a la hora de afrontar un problema de Machine Learning. Más concretamente, Scikit Learn cuenta con funciones para ayudarnos en:\n",
        "\n",
        "\n",
        "*   Preprocesamiento de los datos, incluyedno:\n",
        "  * Split entre train y test.\n",
        "  * Imputación de valores perdidos.\n",
        "  * Transformación de los datos.\n",
        "  * Feature engineering.\n",
        "  * Feature selection.\n",
        "* Creación de modelos, incluyendo:\n",
        "  * Modelos supervisados\n",
        "  * Modelos no supervisados\n"
      ]
    },
    {
      "cell_type": "code",
      "execution_count": null,
      "metadata": {
        "id": "WOemTkbzA4cS"
      },
      "outputs": [],
      "source": [
        "from sklearn.linear_model import LogisticRegression\n",
        "from sklearn.model_selection import train_test_split"
      ]
    },
    {
      "cell_type": "markdown",
      "metadata": {
        "id": "s4PIyiGhA_54"
      },
      "source": [
        "## 2.6. OS:\n",
        "Este módulo provee una manera versátil de usar funcionalidades dependientes del sistema operativo. Si quieres leer o escribir un archivo mira open(), si quieres manipular rutas, mira el módulo os.path, y si quieres leer todas las líneas en todos los archivos en la línea de comandos mira el módulo fileinput. Para crear archivos temporales y directorios mira el módulo tempfile, y para el manejo de alto nivel de archivos y directorios puedes ver el módulo shutil."
      ]
    },
    {
      "cell_type": "code",
      "execution_count": null,
      "metadata": {
        "id": "i-brAoJtBDpR"
      },
      "outputs": [],
      "source": [
        "import os"
      ]
    },
    {
      "cell_type": "markdown",
      "metadata": {
        "id": "uFbV99WGCIPq"
      },
      "source": [
        "## 2.7. IO:\n",
        "El módulo io provee las facilidades principales de Python para manejar diferentes tipos de E/S. Hay tres diferentes tipos de E/S: texto E/S, binario E/S e E/S sin formato. Estas son categorías generales y varios respaldos de almacenamiento se pueden usar para cada una de ellas. Un objeto concreto perteneciendo a cualquiera de estas categorías se llama un file object. Otros términos comunes son stream y file-like object.\n",
        "\n",
        "Independiente de su categoría, cada objeto stream también tendrá varias capacidades: puede ser solamente para lectura, solo escritura, o lectura y escritura. También permite arbitrariamente acceso aleatorio (buscando adelante o hacia atrás en cualquier lugar) o solamente acceso secuencial (por ejemplo en el caso de un socket o pipe).\n",
        "\n",
        "Todos los streams son cuidadosas del tipo de datos que se les provee. Por ejemplo, dando un objeto de clase str al método write() de un stream binaria lanzará un TypeError. También dándole un objeto de tipo bytes al método write() de un stream de tipo texto."
      ]
    },
    {
      "cell_type": "code",
      "execution_count": null,
      "metadata": {
        "id": "kkzMvewtCVqL"
      },
      "outputs": [],
      "source": [
        "import io "
      ]
    },
    {
      "cell_type": "markdown",
      "metadata": {
        "id": "FwMRu404BFmm"
      },
      "source": [
        "## 2.8. google.colab:\n",
        "No encontre documentacion sobre este paquete, si encuentran poner aca"
      ]
    },
    {
      "cell_type": "code",
      "execution_count": null,
      "metadata": {
        "id": "yZjuDGmQBZX-"
      },
      "outputs": [],
      "source": [
        "from google.colab import files \n",
        "from google.colab import drive"
      ]
    },
    {
      "cell_type": "markdown",
      "metadata": {
        "id": "kWna8sw4dGgc"
      },
      "source": [
        "## 2.10. Statsmodels:\n",
        "Statsmodels es un paquete de Python que permite a los usuarios explorar datos, estimar modelos estadísticos y realizar pruebas estadísticas. Se encuentra disponible una extensa lista de estadísticas descriptivas, pruebas estadísticas, funciones de representación gráfica y estadísticas de resultados para diferentes tipos de datos y cada estimador. Complementa el módulo de estadísticas de SciPy"
      ]
    },
    {
      "cell_type": "code",
      "execution_count": null,
      "metadata": {
        "id": "eGjfOEnrdLhq"
      },
      "outputs": [],
      "source": [
        "import statsmodels.api as sm "
      ]
    },
    {
      "cell_type": "markdown",
      "source": [
        "## 2.10. SciPy:\n",
        "SciPy es una biblioteca libre y de código abierto para Python. Se compone de herramientas y algoritmos matemáticos. "
      ],
      "metadata": {
        "id": "IdvDdrLLaYYF"
      }
    },
    {
      "cell_type": "code",
      "source": [
        "import scipy.stats as sp"
      ],
      "metadata": {
        "id": "tVuOxzq5am6W"
      },
      "execution_count": null,
      "outputs": []
    },
    {
      "cell_type": "markdown",
      "metadata": {
        "id": "4LTtoPt9BbS5"
      },
      "source": [
        "# 3. Importar CSV a Colab (No es necesario para la ejecucion del docente)\n",
        "\n"
      ]
    },
    {
      "cell_type": "markdown",
      "source": [
        "## 3.0. Forma 0: Subir Documento a Colab por Github.\n"
      ],
      "metadata": {
        "id": "YPw9SgoYdspS"
      }
    },
    {
      "cell_type": "code",
      "source": [
        "# Se obtiene el archivo del repositorio.\n",
        "url=\"https://raw.githubusercontent.com/mslc0/base-de-datos/main/Copia%20de%20heart-disease.csv\" \n",
        "# Lectura del DataFrame.\n",
        "df = pd.read_csv(url,lineterminator='\\r')"
      ],
      "metadata": {
        "id": "o5nCO_n0gPUn"
      },
      "execution_count": null,
      "outputs": []
    },
    {
      "cell_type": "markdown",
      "source": [
        "## 3.1. Forma 1: Subir Documento a Colab por Drive. "
      ],
      "metadata": {
        "id": "jK5ijVvbqOkP"
      }
    },
    {
      "cell_type": "code",
      "source": [
        "from google.colab import drive\n",
        "drive.mount('/content/drive')"
      ],
      "metadata": {
        "id": "VJYAX5RwAU-s",
        "colab": {
          "base_uri": "https://localhost:8080/"
        },
        "outputId": "24a3c4a7-0c82-426d-ae1f-169809bf3c92"
      },
      "execution_count": null,
      "outputs": [
        {
          "output_type": "stream",
          "name": "stdout",
          "text": [
            "Mounted at /content/drive\n"
          ]
        }
      ]
    },
    {
      "cell_type": "code",
      "source": [
        "df=pd.read_csv(io.BytesIO(uploaded['heart-disease.csv'])) \n",
        "print(df)"
      ],
      "metadata": {
        "id": "_2zKEQyVAE7n",
        "colab": {
          "base_uri": "https://localhost:8080/",
          "height": 187
        },
        "outputId": "401b0b7e-56a1-4021-91aa-158fcb21e696"
      },
      "execution_count": null,
      "outputs": [
        {
          "output_type": "error",
          "ename": "KeyError",
          "evalue": "ignored",
          "traceback": [
            "\u001b[0;31m---------------------------------------------------------------------------\u001b[0m",
            "\u001b[0;31mKeyError\u001b[0m                                  Traceback (most recent call last)",
            "\u001b[0;32m<ipython-input-186-ee671707d91d>\u001b[0m in \u001b[0;36m<module>\u001b[0;34m\u001b[0m\n\u001b[0;32m----> 1\u001b[0;31m \u001b[0mdf\u001b[0m\u001b[0;34m=\u001b[0m\u001b[0mpd\u001b[0m\u001b[0;34m.\u001b[0m\u001b[0mread_csv\u001b[0m\u001b[0;34m(\u001b[0m\u001b[0mio\u001b[0m\u001b[0;34m.\u001b[0m\u001b[0mBytesIO\u001b[0m\u001b[0;34m(\u001b[0m\u001b[0muploaded\u001b[0m\u001b[0;34m[\u001b[0m\u001b[0;34m'heart-disease.csv'\u001b[0m\u001b[0;34m]\u001b[0m\u001b[0;34m)\u001b[0m\u001b[0;34m)\u001b[0m\u001b[0;34m\u001b[0m\u001b[0;34m\u001b[0m\u001b[0m\n\u001b[0m\u001b[1;32m      2\u001b[0m \u001b[0mprint\u001b[0m\u001b[0;34m(\u001b[0m\u001b[0mdf\u001b[0m\u001b[0;34m)\u001b[0m\u001b[0;34m\u001b[0m\u001b[0;34m\u001b[0m\u001b[0m\n",
            "\u001b[0;31mKeyError\u001b[0m: 'heart-disease.csv'"
          ]
        }
      ]
    },
    {
      "cell_type": "markdown",
      "metadata": {
        "id": "ueaagiZnBjaz"
      },
      "source": [
        "## 3.1. Forma 2: Subir Documento a Colab.\n",
        "Para esto usaremos el comando \n",
        "\n",
        "```\n",
        "files.upload\n",
        "```\n",
        "\n",
        "Que es una instruccion propia de Colaboratory oara subir de manera intuitiva y grafica un documento, en este caso el archivo \".csv\" de nuestros datos\n"
      ]
    },
    {
      "cell_type": "code",
      "execution_count": null,
      "metadata": {
        "id": "FswbDj6iBgHs",
        "colab": {
          "base_uri": "https://localhost:8080/",
          "height": 70
        },
        "outputId": "c6bb242b-4318-4f7e-bb01-bfd68075865b"
      },
      "outputs": [
        {
          "output_type": "display_data",
          "data": {
            "text/plain": [
              "<IPython.core.display.HTML object>"
            ],
            "text/html": [
              "\n",
              "     <input type=\"file\" id=\"files-9077af77-99b2-4949-a48f-e199abf99001\" name=\"files[]\" multiple disabled\n",
              "        style=\"border:none\" />\n",
              "     <output id=\"result-9077af77-99b2-4949-a48f-e199abf99001\">\n",
              "      Upload widget is only available when the cell has been executed in the\n",
              "      current browser session. Please rerun this cell to enable.\n",
              "      </output>\n",
              "      <script>// Copyright 2017 Google LLC\n",
              "//\n",
              "// Licensed under the Apache License, Version 2.0 (the \"License\");\n",
              "// you may not use this file except in compliance with the License.\n",
              "// You may obtain a copy of the License at\n",
              "//\n",
              "//      http://www.apache.org/licenses/LICENSE-2.0\n",
              "//\n",
              "// Unless required by applicable law or agreed to in writing, software\n",
              "// distributed under the License is distributed on an \"AS IS\" BASIS,\n",
              "// WITHOUT WARRANTIES OR CONDITIONS OF ANY KIND, either express or implied.\n",
              "// See the License for the specific language governing permissions and\n",
              "// limitations under the License.\n",
              "\n",
              "/**\n",
              " * @fileoverview Helpers for google.colab Python module.\n",
              " */\n",
              "(function(scope) {\n",
              "function span(text, styleAttributes = {}) {\n",
              "  const element = document.createElement('span');\n",
              "  element.textContent = text;\n",
              "  for (const key of Object.keys(styleAttributes)) {\n",
              "    element.style[key] = styleAttributes[key];\n",
              "  }\n",
              "  return element;\n",
              "}\n",
              "\n",
              "// Max number of bytes which will be uploaded at a time.\n",
              "const MAX_PAYLOAD_SIZE = 100 * 1024;\n",
              "\n",
              "function _uploadFiles(inputId, outputId) {\n",
              "  const steps = uploadFilesStep(inputId, outputId);\n",
              "  const outputElement = document.getElementById(outputId);\n",
              "  // Cache steps on the outputElement to make it available for the next call\n",
              "  // to uploadFilesContinue from Python.\n",
              "  outputElement.steps = steps;\n",
              "\n",
              "  return _uploadFilesContinue(outputId);\n",
              "}\n",
              "\n",
              "// This is roughly an async generator (not supported in the browser yet),\n",
              "// where there are multiple asynchronous steps and the Python side is going\n",
              "// to poll for completion of each step.\n",
              "// This uses a Promise to block the python side on completion of each step,\n",
              "// then passes the result of the previous step as the input to the next step.\n",
              "function _uploadFilesContinue(outputId) {\n",
              "  const outputElement = document.getElementById(outputId);\n",
              "  const steps = outputElement.steps;\n",
              "\n",
              "  const next = steps.next(outputElement.lastPromiseValue);\n",
              "  return Promise.resolve(next.value.promise).then((value) => {\n",
              "    // Cache the last promise value to make it available to the next\n",
              "    // step of the generator.\n",
              "    outputElement.lastPromiseValue = value;\n",
              "    return next.value.response;\n",
              "  });\n",
              "}\n",
              "\n",
              "/**\n",
              " * Generator function which is called between each async step of the upload\n",
              " * process.\n",
              " * @param {string} inputId Element ID of the input file picker element.\n",
              " * @param {string} outputId Element ID of the output display.\n",
              " * @return {!Iterable<!Object>} Iterable of next steps.\n",
              " */\n",
              "function* uploadFilesStep(inputId, outputId) {\n",
              "  const inputElement = document.getElementById(inputId);\n",
              "  inputElement.disabled = false;\n",
              "\n",
              "  const outputElement = document.getElementById(outputId);\n",
              "  outputElement.innerHTML = '';\n",
              "\n",
              "  const pickedPromise = new Promise((resolve) => {\n",
              "    inputElement.addEventListener('change', (e) => {\n",
              "      resolve(e.target.files);\n",
              "    });\n",
              "  });\n",
              "\n",
              "  const cancel = document.createElement('button');\n",
              "  inputElement.parentElement.appendChild(cancel);\n",
              "  cancel.textContent = 'Cancel upload';\n",
              "  const cancelPromise = new Promise((resolve) => {\n",
              "    cancel.onclick = () => {\n",
              "      resolve(null);\n",
              "    };\n",
              "  });\n",
              "\n",
              "  // Wait for the user to pick the files.\n",
              "  const files = yield {\n",
              "    promise: Promise.race([pickedPromise, cancelPromise]),\n",
              "    response: {\n",
              "      action: 'starting',\n",
              "    }\n",
              "  };\n",
              "\n",
              "  cancel.remove();\n",
              "\n",
              "  // Disable the input element since further picks are not allowed.\n",
              "  inputElement.disabled = true;\n",
              "\n",
              "  if (!files) {\n",
              "    return {\n",
              "      response: {\n",
              "        action: 'complete',\n",
              "      }\n",
              "    };\n",
              "  }\n",
              "\n",
              "  for (const file of files) {\n",
              "    const li = document.createElement('li');\n",
              "    li.append(span(file.name, {fontWeight: 'bold'}));\n",
              "    li.append(span(\n",
              "        `(${file.type || 'n/a'}) - ${file.size} bytes, ` +\n",
              "        `last modified: ${\n",
              "            file.lastModifiedDate ? file.lastModifiedDate.toLocaleDateString() :\n",
              "                                    'n/a'} - `));\n",
              "    const percent = span('0% done');\n",
              "    li.appendChild(percent);\n",
              "\n",
              "    outputElement.appendChild(li);\n",
              "\n",
              "    const fileDataPromise = new Promise((resolve) => {\n",
              "      const reader = new FileReader();\n",
              "      reader.onload = (e) => {\n",
              "        resolve(e.target.result);\n",
              "      };\n",
              "      reader.readAsArrayBuffer(file);\n",
              "    });\n",
              "    // Wait for the data to be ready.\n",
              "    let fileData = yield {\n",
              "      promise: fileDataPromise,\n",
              "      response: {\n",
              "        action: 'continue',\n",
              "      }\n",
              "    };\n",
              "\n",
              "    // Use a chunked sending to avoid message size limits. See b/62115660.\n",
              "    let position = 0;\n",
              "    do {\n",
              "      const length = Math.min(fileData.byteLength - position, MAX_PAYLOAD_SIZE);\n",
              "      const chunk = new Uint8Array(fileData, position, length);\n",
              "      position += length;\n",
              "\n",
              "      const base64 = btoa(String.fromCharCode.apply(null, chunk));\n",
              "      yield {\n",
              "        response: {\n",
              "          action: 'append',\n",
              "          file: file.name,\n",
              "          data: base64,\n",
              "        },\n",
              "      };\n",
              "\n",
              "      let percentDone = fileData.byteLength === 0 ?\n",
              "          100 :\n",
              "          Math.round((position / fileData.byteLength) * 100);\n",
              "      percent.textContent = `${percentDone}% done`;\n",
              "\n",
              "    } while (position < fileData.byteLength);\n",
              "  }\n",
              "\n",
              "  // All done.\n",
              "  yield {\n",
              "    response: {\n",
              "      action: 'complete',\n",
              "    }\n",
              "  };\n",
              "}\n",
              "\n",
              "scope.google = scope.google || {};\n",
              "scope.google.colab = scope.google.colab || {};\n",
              "scope.google.colab._files = {\n",
              "  _uploadFiles,\n",
              "  _uploadFilesContinue,\n",
              "};\n",
              "})(self);\n",
              "</script> "
            ]
          },
          "metadata": {}
        },
        {
          "output_type": "stream",
          "name": "stdout",
          "text": [
            "Saving heart-disease.csv to heart-disease.csv\n"
          ]
        }
      ],
      "source": [
        "uploaded = files.upload()"
      ]
    },
    {
      "cell_type": "code",
      "source": [
        "df=pd.read_csv(io.BytesIO(uploaded['heart-disease.csv'])) \n",
        "print(df)"
      ],
      "metadata": {
        "id": "5P3Aqv4Ig6tf",
        "colab": {
          "base_uri": "https://localhost:8080/"
        },
        "outputId": "8abdcf57-c5cf-452f-c8f5-2a6779f30d78"
      },
      "execution_count": null,
      "outputs": [
        {
          "output_type": "stream",
          "name": "stdout",
          "text": [
            "     age  sex  cp  trestbps  chol  fbs  restecg  thalach  exang  oldpeak  \\\n",
            "0     63    1   3       145   233    1        0      150      0      2.3   \n",
            "1     37    1   2       130   250    0        1      187      0      3.5   \n",
            "2     41    0   1       130   204    0        0      172      0      1.4   \n",
            "3     56    1   1       120   236    0        1      178      0      0.8   \n",
            "4     57    0   0       120   354    0        1      163      1      0.6   \n",
            "..   ...  ...  ..       ...   ...  ...      ...      ...    ...      ...   \n",
            "298   57    0   0       140   241    0        1      123      1      0.2   \n",
            "299   45    1   3       110   264    0        1      132      0      1.2   \n",
            "300   68    1   0       144   193    1        1      141      0      3.4   \n",
            "301   57    1   0       130   131    0        1      115      1      1.2   \n",
            "302   57    0   1       130   236    0        0      174      0      0.0   \n",
            "\n",
            "     slope  ca  thal  target  \n",
            "0        0   0     1       1  \n",
            "1        0   0     2       1  \n",
            "2        2   0     2       1  \n",
            "3        2   0     2       1  \n",
            "4        2   0     2       1  \n",
            "..     ...  ..   ...     ...  \n",
            "298      1   0     3       0  \n",
            "299      1   0     3       0  \n",
            "300      1   2     3       0  \n",
            "301      1   1     3       0  \n",
            "302      1   1     2       0  \n",
            "\n",
            "[303 rows x 14 columns]\n"
          ]
        }
      ]
    },
    {
      "cell_type": "markdown",
      "metadata": {
        "id": "B2AM4MraB6Ls"
      },
      "source": [
        "## 3.3. Imprimir Data Frame:\n",
        "En el siguiente bloque de código usamos el comando \n",
        "\n",
        "```\n",
        "pd.read_csv()\n",
        "```\n",
        "Que es una instrucción del paquete pandas que nos permite Leer un archivo de valores separados por comas (csv) en DataFrame. También admite, opcionalmente,iterar o dividir el archivo en fragmentos.Se puede encontrar ayuda adicional en los documentos en línea de IO Tools.\n",
        "\n",
        "Dentro de esta instrucción usamos la instrucción\n",
        "\n",
        "```\n",
        "io.BytesIO()\n",
        "```\n",
        "\n",
        "Que nos ayuda a guardar los datos del DataFrame en un búfer de memoria.\n",
        "Luego, dentro de la instrucción anterior, llamamos finalmente al documento que subimos en la sección anterior.\n",
        "A esta concatenación de instrucciones le llamamos \"df\", para posteriormente imprimirlo\n"
      ]
    },
    {
      "cell_type": "code",
      "execution_count": null,
      "metadata": {
        "id": "xECguIGWB89y",
        "colab": {
          "base_uri": "https://localhost:8080/"
        },
        "outputId": "48f4ffa5-d7ac-4cfc-e6cc-52fcd9b7c2c7"
      },
      "outputs": [
        {
          "output_type": "stream",
          "name": "stdout",
          "text": [
            "     age  sex  cp  trestbps  chol  fbs  restecg  thalach  exang  oldpeak  \\\n",
            "0     63    1   3       145   233    1        0      150      0      2.3   \n",
            "1     37    1   2       130   250    0        1      187      0      3.5   \n",
            "2     41    0   1       130   204    0        0      172      0      1.4   \n",
            "3     56    1   1       120   236    0        1      178      0      0.8   \n",
            "4     57    0   0       120   354    0        1      163      1      0.6   \n",
            "..   ...  ...  ..       ...   ...  ...      ...      ...    ...      ...   \n",
            "298   57    0   0       140   241    0        1      123      1      0.2   \n",
            "299   45    1   3       110   264    0        1      132      0      1.2   \n",
            "300   68    1   0       144   193    1        1      141      0      3.4   \n",
            "301   57    1   0       130   131    0        1      115      1      1.2   \n",
            "302   57    0   1       130   236    0        0      174      0      0.0   \n",
            "\n",
            "     slope  ca  thal  target  \n",
            "0        0   0     1       1  \n",
            "1        0   0     2       1  \n",
            "2        2   0     2       1  \n",
            "3        2   0     2       1  \n",
            "4        2   0     2       1  \n",
            "..     ...  ..   ...     ...  \n",
            "298      1   0     3       0  \n",
            "299      1   0     3       0  \n",
            "300      1   2     3       0  \n",
            "301      1   1     3       0  \n",
            "302      1   1     2       0  \n",
            "\n",
            "[303 rows x 14 columns]\n"
          ]
        }
      ],
      "source": [
        "df = pd.read_csv(io.BytesIO(uploaded['heart-disease.csv'])) \n",
        "print(df)"
      ]
    },
    {
      "cell_type": "markdown",
      "metadata": {
        "id": "iVm5VvuiC_FK"
      },
      "source": [
        "## 3.4. Mostrar Data Frame\n",
        "La siguiente instruccion nos permite imprimir de mejor forma el DataFrame"
      ]
    },
    {
      "cell_type": "code",
      "execution_count": null,
      "metadata": {
        "id": "jpad1tJHC96R",
        "colab": {
          "base_uri": "https://localhost:8080/",
          "height": 206
        },
        "outputId": "9c266ba1-2566-4658-ffcc-817e93f4ee6e"
      },
      "outputs": [
        {
          "output_type": "execute_result",
          "data": {
            "text/plain": [
              "   age  sex  cp  trestbps  chol  fbs  restecg  thalach  exang  oldpeak  slope  \\\n",
              "0   63    1   3       145   233    1        0      150      0      2.3      0   \n",
              "1   37    1   2       130   250    0        1      187      0      3.5      0   \n",
              "2   41    0   1       130   204    0        0      172      0      1.4      2   \n",
              "3   56    1   1       120   236    0        1      178      0      0.8      2   \n",
              "4   57    0   0       120   354    0        1      163      1      0.6      2   \n",
              "\n",
              "   ca  thal  target  \n",
              "0   0     1       1  \n",
              "1   0     2       1  \n",
              "2   0     2       1  \n",
              "3   0     2       1  \n",
              "4   0     2       1  "
            ],
            "text/html": [
              "\n",
              "  <div id=\"df-38191ab0-a4a7-46ce-9e20-84b2eaa87399\">\n",
              "    <div class=\"colab-df-container\">\n",
              "      <div>\n",
              "<style scoped>\n",
              "    .dataframe tbody tr th:only-of-type {\n",
              "        vertical-align: middle;\n",
              "    }\n",
              "\n",
              "    .dataframe tbody tr th {\n",
              "        vertical-align: top;\n",
              "    }\n",
              "\n",
              "    .dataframe thead th {\n",
              "        text-align: right;\n",
              "    }\n",
              "</style>\n",
              "<table border=\"1\" class=\"dataframe\">\n",
              "  <thead>\n",
              "    <tr style=\"text-align: right;\">\n",
              "      <th></th>\n",
              "      <th>age</th>\n",
              "      <th>sex</th>\n",
              "      <th>cp</th>\n",
              "      <th>trestbps</th>\n",
              "      <th>chol</th>\n",
              "      <th>fbs</th>\n",
              "      <th>restecg</th>\n",
              "      <th>thalach</th>\n",
              "      <th>exang</th>\n",
              "      <th>oldpeak</th>\n",
              "      <th>slope</th>\n",
              "      <th>ca</th>\n",
              "      <th>thal</th>\n",
              "      <th>target</th>\n",
              "    </tr>\n",
              "  </thead>\n",
              "  <tbody>\n",
              "    <tr>\n",
              "      <th>0</th>\n",
              "      <td>63</td>\n",
              "      <td>1</td>\n",
              "      <td>3</td>\n",
              "      <td>145</td>\n",
              "      <td>233</td>\n",
              "      <td>1</td>\n",
              "      <td>0</td>\n",
              "      <td>150</td>\n",
              "      <td>0</td>\n",
              "      <td>2.3</td>\n",
              "      <td>0</td>\n",
              "      <td>0</td>\n",
              "      <td>1</td>\n",
              "      <td>1</td>\n",
              "    </tr>\n",
              "    <tr>\n",
              "      <th>1</th>\n",
              "      <td>37</td>\n",
              "      <td>1</td>\n",
              "      <td>2</td>\n",
              "      <td>130</td>\n",
              "      <td>250</td>\n",
              "      <td>0</td>\n",
              "      <td>1</td>\n",
              "      <td>187</td>\n",
              "      <td>0</td>\n",
              "      <td>3.5</td>\n",
              "      <td>0</td>\n",
              "      <td>0</td>\n",
              "      <td>2</td>\n",
              "      <td>1</td>\n",
              "    </tr>\n",
              "    <tr>\n",
              "      <th>2</th>\n",
              "      <td>41</td>\n",
              "      <td>0</td>\n",
              "      <td>1</td>\n",
              "      <td>130</td>\n",
              "      <td>204</td>\n",
              "      <td>0</td>\n",
              "      <td>0</td>\n",
              "      <td>172</td>\n",
              "      <td>0</td>\n",
              "      <td>1.4</td>\n",
              "      <td>2</td>\n",
              "      <td>0</td>\n",
              "      <td>2</td>\n",
              "      <td>1</td>\n",
              "    </tr>\n",
              "    <tr>\n",
              "      <th>3</th>\n",
              "      <td>56</td>\n",
              "      <td>1</td>\n",
              "      <td>1</td>\n",
              "      <td>120</td>\n",
              "      <td>236</td>\n",
              "      <td>0</td>\n",
              "      <td>1</td>\n",
              "      <td>178</td>\n",
              "      <td>0</td>\n",
              "      <td>0.8</td>\n",
              "      <td>2</td>\n",
              "      <td>0</td>\n",
              "      <td>2</td>\n",
              "      <td>1</td>\n",
              "    </tr>\n",
              "    <tr>\n",
              "      <th>4</th>\n",
              "      <td>57</td>\n",
              "      <td>0</td>\n",
              "      <td>0</td>\n",
              "      <td>120</td>\n",
              "      <td>354</td>\n",
              "      <td>0</td>\n",
              "      <td>1</td>\n",
              "      <td>163</td>\n",
              "      <td>1</td>\n",
              "      <td>0.6</td>\n",
              "      <td>2</td>\n",
              "      <td>0</td>\n",
              "      <td>2</td>\n",
              "      <td>1</td>\n",
              "    </tr>\n",
              "  </tbody>\n",
              "</table>\n",
              "</div>\n",
              "      <button class=\"colab-df-convert\" onclick=\"convertToInteractive('df-38191ab0-a4a7-46ce-9e20-84b2eaa87399')\"\n",
              "              title=\"Convert this dataframe to an interactive table.\"\n",
              "              style=\"display:none;\">\n",
              "        \n",
              "  <svg xmlns=\"http://www.w3.org/2000/svg\" height=\"24px\"viewBox=\"0 0 24 24\"\n",
              "       width=\"24px\">\n",
              "    <path d=\"M0 0h24v24H0V0z\" fill=\"none\"/>\n",
              "    <path d=\"M18.56 5.44l.94 2.06.94-2.06 2.06-.94-2.06-.94-.94-2.06-.94 2.06-2.06.94zm-11 1L8.5 8.5l.94-2.06 2.06-.94-2.06-.94L8.5 2.5l-.94 2.06-2.06.94zm10 10l.94 2.06.94-2.06 2.06-.94-2.06-.94-.94-2.06-.94 2.06-2.06.94z\"/><path d=\"M17.41 7.96l-1.37-1.37c-.4-.4-.92-.59-1.43-.59-.52 0-1.04.2-1.43.59L10.3 9.45l-7.72 7.72c-.78.78-.78 2.05 0 2.83L4 21.41c.39.39.9.59 1.41.59.51 0 1.02-.2 1.41-.59l7.78-7.78 2.81-2.81c.8-.78.8-2.07 0-2.86zM5.41 20L4 18.59l7.72-7.72 1.47 1.35L5.41 20z\"/>\n",
              "  </svg>\n",
              "      </button>\n",
              "      \n",
              "  <style>\n",
              "    .colab-df-container {\n",
              "      display:flex;\n",
              "      flex-wrap:wrap;\n",
              "      gap: 12px;\n",
              "    }\n",
              "\n",
              "    .colab-df-convert {\n",
              "      background-color: #E8F0FE;\n",
              "      border: none;\n",
              "      border-radius: 50%;\n",
              "      cursor: pointer;\n",
              "      display: none;\n",
              "      fill: #1967D2;\n",
              "      height: 32px;\n",
              "      padding: 0 0 0 0;\n",
              "      width: 32px;\n",
              "    }\n",
              "\n",
              "    .colab-df-convert:hover {\n",
              "      background-color: #E2EBFA;\n",
              "      box-shadow: 0px 1px 2px rgba(60, 64, 67, 0.3), 0px 1px 3px 1px rgba(60, 64, 67, 0.15);\n",
              "      fill: #174EA6;\n",
              "    }\n",
              "\n",
              "    [theme=dark] .colab-df-convert {\n",
              "      background-color: #3B4455;\n",
              "      fill: #D2E3FC;\n",
              "    }\n",
              "\n",
              "    [theme=dark] .colab-df-convert:hover {\n",
              "      background-color: #434B5C;\n",
              "      box-shadow: 0px 1px 3px 1px rgba(0, 0, 0, 0.15);\n",
              "      filter: drop-shadow(0px 1px 2px rgba(0, 0, 0, 0.3));\n",
              "      fill: #FFFFFF;\n",
              "    }\n",
              "  </style>\n",
              "\n",
              "      <script>\n",
              "        const buttonEl =\n",
              "          document.querySelector('#df-38191ab0-a4a7-46ce-9e20-84b2eaa87399 button.colab-df-convert');\n",
              "        buttonEl.style.display =\n",
              "          google.colab.kernel.accessAllowed ? 'block' : 'none';\n",
              "\n",
              "        async function convertToInteractive(key) {\n",
              "          const element = document.querySelector('#df-38191ab0-a4a7-46ce-9e20-84b2eaa87399');\n",
              "          const dataTable =\n",
              "            await google.colab.kernel.invokeFunction('convertToInteractive',\n",
              "                                                     [key], {});\n",
              "          if (!dataTable) return;\n",
              "\n",
              "          const docLinkHtml = 'Like what you see? Visit the ' +\n",
              "            '<a target=\"_blank\" href=https://colab.research.google.com/notebooks/data_table.ipynb>data table notebook</a>'\n",
              "            + ' to learn more about interactive tables.';\n",
              "          element.innerHTML = '';\n",
              "          dataTable['output_type'] = 'display_data';\n",
              "          await google.colab.output.renderOutput(dataTable, element);\n",
              "          const docLink = document.createElement('div');\n",
              "          docLink.innerHTML = docLinkHtml;\n",
              "          element.appendChild(docLink);\n",
              "        }\n",
              "      </script>\n",
              "    </div>\n",
              "  </div>\n",
              "  "
            ]
          },
          "metadata": {},
          "execution_count": 21
        }
      ],
      "source": [
        "df.head()"
      ]
    },
    {
      "cell_type": "markdown",
      "metadata": {
        "id": "WNE38fzyIUNu"
      },
      "source": [
        "# 4. Sobre el Data Frame:\n",
        "El data frame es sacado de la base de datos de kaggle, viene separado por comas (csv).\n"
      ]
    },
    {
      "cell_type": "markdown",
      "metadata": {
        "id": "EzKdi-0je2wH"
      },
      "source": [
        "##4.1. Informacion General:"
      ]
    },
    {
      "cell_type": "markdown",
      "metadata": {
        "id": "R_CbpUTpYTT9"
      },
      "source": [
        "### 4.1.1. Type():\n",
        "\n",
        "Este metodo muestra el tipo de elemento."
      ]
    },
    {
      "cell_type": "code",
      "execution_count": null,
      "metadata": {
        "id": "P--jENEabUYv",
        "colab": {
          "base_uri": "https://localhost:8080/"
        },
        "outputId": "e7b7f07d-e509-461f-fede-00478114eccf"
      },
      "outputs": [
        {
          "output_type": "execute_result",
          "data": {
            "text/plain": [
              "pandas.core.frame.DataFrame"
            ]
          },
          "metadata": {},
          "execution_count": 22
        }
      ],
      "source": [
        "type(df)"
      ]
    },
    {
      "cell_type": "markdown",
      "metadata": {
        "id": "MIPbWYE2YojE"
      },
      "source": [
        "### 4.1.2. Index\n",
        "El método index() devuelve el índice del elemento especificado en la lista."
      ]
    },
    {
      "cell_type": "code",
      "execution_count": null,
      "metadata": {
        "id": "w7wy5VbUbYcf",
        "colab": {
          "base_uri": "https://localhost:8080/"
        },
        "outputId": "ecef1d2f-9640-451a-e0f9-cb979ffd2379"
      },
      "outputs": [
        {
          "output_type": "execute_result",
          "data": {
            "text/plain": [
              "RangeIndex(start=0, stop=303, step=1)"
            ]
          },
          "metadata": {},
          "execution_count": 23
        }
      ],
      "source": [
        "df.index"
      ]
    },
    {
      "cell_type": "markdown",
      "metadata": {
        "id": "jfL3z3PbYJf7"
      },
      "source": [
        "### 4.1.3. Resumen con .info():\n",
        "Este método imprime información sobre un DataFrame, incluido el tipo de índice y las columnas, los valores no nulos y el uso de la memoria."
      ]
    },
    {
      "cell_type": "code",
      "execution_count": null,
      "metadata": {
        "id": "sbPfjVoebP5w",
        "colab": {
          "base_uri": "https://localhost:8080/"
        },
        "outputId": "0df6a955-dfbd-4e31-eb6e-4ceb24c6eec6"
      },
      "outputs": [
        {
          "output_type": "stream",
          "name": "stdout",
          "text": [
            "<class 'pandas.core.frame.DataFrame'>\n",
            "RangeIndex: 303 entries, 0 to 302\n",
            "Data columns (total 14 columns):\n",
            " #   Column    Non-Null Count  Dtype  \n",
            "---  ------    --------------  -----  \n",
            " 0   age       303 non-null    int64  \n",
            " 1   sex       303 non-null    int64  \n",
            " 2   cp        303 non-null    int64  \n",
            " 3   trestbps  303 non-null    int64  \n",
            " 4   chol      303 non-null    int64  \n",
            " 5   fbs       303 non-null    int64  \n",
            " 6   restecg   303 non-null    int64  \n",
            " 7   thalach   303 non-null    int64  \n",
            " 8   exang     303 non-null    int64  \n",
            " 9   oldpeak   303 non-null    float64\n",
            " 10  slope     303 non-null    int64  \n",
            " 11  ca        303 non-null    int64  \n",
            " 12  thal      303 non-null    int64  \n",
            " 13  target    303 non-null    int64  \n",
            "dtypes: float64(1), int64(13)\n",
            "memory usage: 33.3 KB\n"
          ]
        }
      ],
      "source": [
        "df.info()"
      ]
    },
    {
      "cell_type": "code",
      "execution_count": null,
      "metadata": {
        "id": "TCt7-nV_61SG",
        "colab": {
          "base_uri": "https://localhost:8080/"
        },
        "outputId": "7cc94381-3d6d-4ff7-f0b8-d19d94e9304d"
      },
      "outputs": [
        {
          "output_type": "stream",
          "name": "stdout",
          "text": [
            "<class 'pandas.core.frame.DataFrame'>\n",
            "RangeIndex: 303 entries, 0 to 302\n",
            "Columns: 14 entries, age to target\n",
            "dtypes: float64(1), int64(13)\n",
            "memory usage: 33.3 KB\n"
          ]
        }
      ],
      "source": [
        "df.info(verbose = False)"
      ]
    },
    {
      "cell_type": "markdown",
      "metadata": {
        "id": "AdmeEIYLYzrs"
      },
      "source": [
        "### 4.1.4. Describe():\n",
        "Este método imprime información sobre un DataFrame, incluido el tipo de índice y las columnas, los valores no nulos y el uso de la memoria."
      ]
    },
    {
      "cell_type": "code",
      "execution_count": null,
      "metadata": {
        "id": "gREteKeibbrH",
        "colab": {
          "base_uri": "https://localhost:8080/",
          "height": 364
        },
        "outputId": "33afc813-bdf1-447a-fde8-5e13fe8d2326"
      },
      "outputs": [
        {
          "output_type": "execute_result",
          "data": {
            "text/plain": [
              "              age         sex          cp    trestbps        chol         fbs  \\\n",
              "count  303.000000  303.000000  303.000000  303.000000  303.000000  303.000000   \n",
              "mean    54.366337    0.683168    0.966997  131.623762  246.264026    0.148515   \n",
              "std      9.082101    0.466011    1.032052   17.538143   51.830751    0.356198   \n",
              "min     29.000000    0.000000    0.000000   94.000000  126.000000    0.000000   \n",
              "25%     47.500000    0.000000    0.000000  120.000000  211.000000    0.000000   \n",
              "50%     55.000000    1.000000    1.000000  130.000000  240.000000    0.000000   \n",
              "75%     61.000000    1.000000    2.000000  140.000000  274.500000    0.000000   \n",
              "max     77.000000    1.000000    3.000000  200.000000  564.000000    1.000000   \n",
              "\n",
              "          restecg     thalach       exang     oldpeak       slope          ca  \\\n",
              "count  303.000000  303.000000  303.000000  303.000000  303.000000  303.000000   \n",
              "mean     0.528053  149.646865    0.326733    1.039604    1.399340    0.729373   \n",
              "std      0.525860   22.905161    0.469794    1.161075    0.616226    1.022606   \n",
              "min      0.000000   71.000000    0.000000    0.000000    0.000000    0.000000   \n",
              "25%      0.000000  133.500000    0.000000    0.000000    1.000000    0.000000   \n",
              "50%      1.000000  153.000000    0.000000    0.800000    1.000000    0.000000   \n",
              "75%      1.000000  166.000000    1.000000    1.600000    2.000000    1.000000   \n",
              "max      2.000000  202.000000    1.000000    6.200000    2.000000    4.000000   \n",
              "\n",
              "             thal      target  \n",
              "count  303.000000  303.000000  \n",
              "mean     2.313531    0.544554  \n",
              "std      0.612277    0.498835  \n",
              "min      0.000000    0.000000  \n",
              "25%      2.000000    0.000000  \n",
              "50%      2.000000    1.000000  \n",
              "75%      3.000000    1.000000  \n",
              "max      3.000000    1.000000  "
            ],
            "text/html": [
              "\n",
              "  <div id=\"df-f981a43b-d02c-4ae3-8236-af43fb558e6e\">\n",
              "    <div class=\"colab-df-container\">\n",
              "      <div>\n",
              "<style scoped>\n",
              "    .dataframe tbody tr th:only-of-type {\n",
              "        vertical-align: middle;\n",
              "    }\n",
              "\n",
              "    .dataframe tbody tr th {\n",
              "        vertical-align: top;\n",
              "    }\n",
              "\n",
              "    .dataframe thead th {\n",
              "        text-align: right;\n",
              "    }\n",
              "</style>\n",
              "<table border=\"1\" class=\"dataframe\">\n",
              "  <thead>\n",
              "    <tr style=\"text-align: right;\">\n",
              "      <th></th>\n",
              "      <th>age</th>\n",
              "      <th>sex</th>\n",
              "      <th>cp</th>\n",
              "      <th>trestbps</th>\n",
              "      <th>chol</th>\n",
              "      <th>fbs</th>\n",
              "      <th>restecg</th>\n",
              "      <th>thalach</th>\n",
              "      <th>exang</th>\n",
              "      <th>oldpeak</th>\n",
              "      <th>slope</th>\n",
              "      <th>ca</th>\n",
              "      <th>thal</th>\n",
              "      <th>target</th>\n",
              "    </tr>\n",
              "  </thead>\n",
              "  <tbody>\n",
              "    <tr>\n",
              "      <th>count</th>\n",
              "      <td>303.000000</td>\n",
              "      <td>303.000000</td>\n",
              "      <td>303.000000</td>\n",
              "      <td>303.000000</td>\n",
              "      <td>303.000000</td>\n",
              "      <td>303.000000</td>\n",
              "      <td>303.000000</td>\n",
              "      <td>303.000000</td>\n",
              "      <td>303.000000</td>\n",
              "      <td>303.000000</td>\n",
              "      <td>303.000000</td>\n",
              "      <td>303.000000</td>\n",
              "      <td>303.000000</td>\n",
              "      <td>303.000000</td>\n",
              "    </tr>\n",
              "    <tr>\n",
              "      <th>mean</th>\n",
              "      <td>54.366337</td>\n",
              "      <td>0.683168</td>\n",
              "      <td>0.966997</td>\n",
              "      <td>131.623762</td>\n",
              "      <td>246.264026</td>\n",
              "      <td>0.148515</td>\n",
              "      <td>0.528053</td>\n",
              "      <td>149.646865</td>\n",
              "      <td>0.326733</td>\n",
              "      <td>1.039604</td>\n",
              "      <td>1.399340</td>\n",
              "      <td>0.729373</td>\n",
              "      <td>2.313531</td>\n",
              "      <td>0.544554</td>\n",
              "    </tr>\n",
              "    <tr>\n",
              "      <th>std</th>\n",
              "      <td>9.082101</td>\n",
              "      <td>0.466011</td>\n",
              "      <td>1.032052</td>\n",
              "      <td>17.538143</td>\n",
              "      <td>51.830751</td>\n",
              "      <td>0.356198</td>\n",
              "      <td>0.525860</td>\n",
              "      <td>22.905161</td>\n",
              "      <td>0.469794</td>\n",
              "      <td>1.161075</td>\n",
              "      <td>0.616226</td>\n",
              "      <td>1.022606</td>\n",
              "      <td>0.612277</td>\n",
              "      <td>0.498835</td>\n",
              "    </tr>\n",
              "    <tr>\n",
              "      <th>min</th>\n",
              "      <td>29.000000</td>\n",
              "      <td>0.000000</td>\n",
              "      <td>0.000000</td>\n",
              "      <td>94.000000</td>\n",
              "      <td>126.000000</td>\n",
              "      <td>0.000000</td>\n",
              "      <td>0.000000</td>\n",
              "      <td>71.000000</td>\n",
              "      <td>0.000000</td>\n",
              "      <td>0.000000</td>\n",
              "      <td>0.000000</td>\n",
              "      <td>0.000000</td>\n",
              "      <td>0.000000</td>\n",
              "      <td>0.000000</td>\n",
              "    </tr>\n",
              "    <tr>\n",
              "      <th>25%</th>\n",
              "      <td>47.500000</td>\n",
              "      <td>0.000000</td>\n",
              "      <td>0.000000</td>\n",
              "      <td>120.000000</td>\n",
              "      <td>211.000000</td>\n",
              "      <td>0.000000</td>\n",
              "      <td>0.000000</td>\n",
              "      <td>133.500000</td>\n",
              "      <td>0.000000</td>\n",
              "      <td>0.000000</td>\n",
              "      <td>1.000000</td>\n",
              "      <td>0.000000</td>\n",
              "      <td>2.000000</td>\n",
              "      <td>0.000000</td>\n",
              "    </tr>\n",
              "    <tr>\n",
              "      <th>50%</th>\n",
              "      <td>55.000000</td>\n",
              "      <td>1.000000</td>\n",
              "      <td>1.000000</td>\n",
              "      <td>130.000000</td>\n",
              "      <td>240.000000</td>\n",
              "      <td>0.000000</td>\n",
              "      <td>1.000000</td>\n",
              "      <td>153.000000</td>\n",
              "      <td>0.000000</td>\n",
              "      <td>0.800000</td>\n",
              "      <td>1.000000</td>\n",
              "      <td>0.000000</td>\n",
              "      <td>2.000000</td>\n",
              "      <td>1.000000</td>\n",
              "    </tr>\n",
              "    <tr>\n",
              "      <th>75%</th>\n",
              "      <td>61.000000</td>\n",
              "      <td>1.000000</td>\n",
              "      <td>2.000000</td>\n",
              "      <td>140.000000</td>\n",
              "      <td>274.500000</td>\n",
              "      <td>0.000000</td>\n",
              "      <td>1.000000</td>\n",
              "      <td>166.000000</td>\n",
              "      <td>1.000000</td>\n",
              "      <td>1.600000</td>\n",
              "      <td>2.000000</td>\n",
              "      <td>1.000000</td>\n",
              "      <td>3.000000</td>\n",
              "      <td>1.000000</td>\n",
              "    </tr>\n",
              "    <tr>\n",
              "      <th>max</th>\n",
              "      <td>77.000000</td>\n",
              "      <td>1.000000</td>\n",
              "      <td>3.000000</td>\n",
              "      <td>200.000000</td>\n",
              "      <td>564.000000</td>\n",
              "      <td>1.000000</td>\n",
              "      <td>2.000000</td>\n",
              "      <td>202.000000</td>\n",
              "      <td>1.000000</td>\n",
              "      <td>6.200000</td>\n",
              "      <td>2.000000</td>\n",
              "      <td>4.000000</td>\n",
              "      <td>3.000000</td>\n",
              "      <td>1.000000</td>\n",
              "    </tr>\n",
              "  </tbody>\n",
              "</table>\n",
              "</div>\n",
              "      <button class=\"colab-df-convert\" onclick=\"convertToInteractive('df-f981a43b-d02c-4ae3-8236-af43fb558e6e')\"\n",
              "              title=\"Convert this dataframe to an interactive table.\"\n",
              "              style=\"display:none;\">\n",
              "        \n",
              "  <svg xmlns=\"http://www.w3.org/2000/svg\" height=\"24px\"viewBox=\"0 0 24 24\"\n",
              "       width=\"24px\">\n",
              "    <path d=\"M0 0h24v24H0V0z\" fill=\"none\"/>\n",
              "    <path d=\"M18.56 5.44l.94 2.06.94-2.06 2.06-.94-2.06-.94-.94-2.06-.94 2.06-2.06.94zm-11 1L8.5 8.5l.94-2.06 2.06-.94-2.06-.94L8.5 2.5l-.94 2.06-2.06.94zm10 10l.94 2.06.94-2.06 2.06-.94-2.06-.94-.94-2.06-.94 2.06-2.06.94z\"/><path d=\"M17.41 7.96l-1.37-1.37c-.4-.4-.92-.59-1.43-.59-.52 0-1.04.2-1.43.59L10.3 9.45l-7.72 7.72c-.78.78-.78 2.05 0 2.83L4 21.41c.39.39.9.59 1.41.59.51 0 1.02-.2 1.41-.59l7.78-7.78 2.81-2.81c.8-.78.8-2.07 0-2.86zM5.41 20L4 18.59l7.72-7.72 1.47 1.35L5.41 20z\"/>\n",
              "  </svg>\n",
              "      </button>\n",
              "      \n",
              "  <style>\n",
              "    .colab-df-container {\n",
              "      display:flex;\n",
              "      flex-wrap:wrap;\n",
              "      gap: 12px;\n",
              "    }\n",
              "\n",
              "    .colab-df-convert {\n",
              "      background-color: #E8F0FE;\n",
              "      border: none;\n",
              "      border-radius: 50%;\n",
              "      cursor: pointer;\n",
              "      display: none;\n",
              "      fill: #1967D2;\n",
              "      height: 32px;\n",
              "      padding: 0 0 0 0;\n",
              "      width: 32px;\n",
              "    }\n",
              "\n",
              "    .colab-df-convert:hover {\n",
              "      background-color: #E2EBFA;\n",
              "      box-shadow: 0px 1px 2px rgba(60, 64, 67, 0.3), 0px 1px 3px 1px rgba(60, 64, 67, 0.15);\n",
              "      fill: #174EA6;\n",
              "    }\n",
              "\n",
              "    [theme=dark] .colab-df-convert {\n",
              "      background-color: #3B4455;\n",
              "      fill: #D2E3FC;\n",
              "    }\n",
              "\n",
              "    [theme=dark] .colab-df-convert:hover {\n",
              "      background-color: #434B5C;\n",
              "      box-shadow: 0px 1px 3px 1px rgba(0, 0, 0, 0.15);\n",
              "      filter: drop-shadow(0px 1px 2px rgba(0, 0, 0, 0.3));\n",
              "      fill: #FFFFFF;\n",
              "    }\n",
              "  </style>\n",
              "\n",
              "      <script>\n",
              "        const buttonEl =\n",
              "          document.querySelector('#df-f981a43b-d02c-4ae3-8236-af43fb558e6e button.colab-df-convert');\n",
              "        buttonEl.style.display =\n",
              "          google.colab.kernel.accessAllowed ? 'block' : 'none';\n",
              "\n",
              "        async function convertToInteractive(key) {\n",
              "          const element = document.querySelector('#df-f981a43b-d02c-4ae3-8236-af43fb558e6e');\n",
              "          const dataTable =\n",
              "            await google.colab.kernel.invokeFunction('convertToInteractive',\n",
              "                                                     [key], {});\n",
              "          if (!dataTable) return;\n",
              "\n",
              "          const docLinkHtml = 'Like what you see? Visit the ' +\n",
              "            '<a target=\"_blank\" href=https://colab.research.google.com/notebooks/data_table.ipynb>data table notebook</a>'\n",
              "            + ' to learn more about interactive tables.';\n",
              "          element.innerHTML = '';\n",
              "          dataTable['output_type'] = 'display_data';\n",
              "          await google.colab.output.renderOutput(dataTable, element);\n",
              "          const docLink = document.createElement('div');\n",
              "          docLink.innerHTML = docLinkHtml;\n",
              "          element.appendChild(docLink);\n",
              "        }\n",
              "      </script>\n",
              "    </div>\n",
              "  </div>\n",
              "  "
            ]
          },
          "metadata": {},
          "execution_count": 26
        }
      ],
      "source": [
        "df.describe()  "
      ]
    },
    {
      "cell_type": "markdown",
      "metadata": {
        "id": "cdfbZN_pAsCI"
      },
      "source": [
        "###4.1.5. Size:\n",
        "\n",
        "En Python, la función `numpy.size` cuenta el número de elementos a lo largo de un eje dado."
      ]
    },
    {
      "cell_type": "code",
      "execution_count": null,
      "metadata": {
        "id": "bOC5yAGRAwXf",
        "colab": {
          "base_uri": "https://localhost:8080/"
        },
        "outputId": "6f9a3db1-676d-4731-f2d1-5315a7af7d81"
      },
      "outputs": [
        {
          "output_type": "execute_result",
          "data": {
            "text/plain": [
              "4242"
            ]
          },
          "metadata": {},
          "execution_count": 27
        }
      ],
      "source": [
        "df.size"
      ]
    },
    {
      "cell_type": "markdown",
      "metadata": {
        "id": "6Kxyg06lAy9A"
      },
      "source": [
        "###4.1.6. Shape\n",
        "Las matrices NumPy tienen un atributo llamado shape que devuelve una tupla con cada índice que tiene el número de elementos correspondientes."
      ]
    },
    {
      "cell_type": "code",
      "execution_count": null,
      "metadata": {
        "id": "ZRaoxx0VA23K",
        "colab": {
          "base_uri": "https://localhost:8080/"
        },
        "outputId": "f2739027-8338-4ebd-fd34-5de63d772a5f"
      },
      "outputs": [
        {
          "output_type": "execute_result",
          "data": {
            "text/plain": [
              "(303, 14)"
            ]
          },
          "metadata": {},
          "execution_count": 28
        }
      ],
      "source": [
        "df.shape"
      ]
    },
    {
      "cell_type": "markdown",
      "metadata": {
        "id": "9-QgegctA9Mx"
      },
      "source": [
        "###4.1.7. Isnull\n",
        "Los métodos `isnull()` y `notnull()` de Pandas se utilizan para verificar y administrar valores NULL en un marco de datos.\n",
        "\n",
        "A estos metodos, `isnull()` y `notnull()` los concatenamos con la Propiedad `.values` que lo que hace es devolver una representación Numpy del Data Frame y a su vez lo volvemos a concatenar con el metodo `.any()` que devuelve si algún elemento es Verdadero, potencialmente sobre un eje.\n",
        "\n",
        "Asi pues obtenemos `df.isnull().values.any()` y `df.notnull().values.any()`, en el caso de la siguiente subseccion, y funcionará para un objeto DataFrame para indicar si falta algún valor, en algunos casos puede ser útil contar también la cantidad de valores faltantes en todo el DataFrame. Dado que los DataFrames son inherentemente multidimensionales, debemos invocar dos métodos de suma."
      ]
    },
    {
      "cell_type": "code",
      "execution_count": null,
      "metadata": {
        "id": "5kr14hrGA886",
        "colab": {
          "base_uri": "https://localhost:8080/"
        },
        "outputId": "229a6d4c-daab-4a71-a30a-3065e9194f8e"
      },
      "outputs": [
        {
          "output_type": "execute_result",
          "data": {
            "text/plain": [
              "False"
            ]
          },
          "metadata": {},
          "execution_count": 29
        }
      ],
      "source": [
        "df.isnull().values.any()"
      ]
    },
    {
      "cell_type": "markdown",
      "metadata": {
        "id": "5st0ELc6Mx7g"
      },
      "source": [
        "###4.1.8. notnull"
      ]
    },
    {
      "cell_type": "code",
      "execution_count": null,
      "metadata": {
        "id": "ELCYYSUaM2UP",
        "colab": {
          "base_uri": "https://localhost:8080/"
        },
        "outputId": "cbbc1677-6590-4ee6-ba78-75e9b7f6c99c"
      },
      "outputs": [
        {
          "output_type": "execute_result",
          "data": {
            "text/plain": [
              "True"
            ]
          },
          "metadata": {},
          "execution_count": 30
        }
      ],
      "source": [
        "df.notnull().values.any()"
      ]
    },
    {
      "cell_type": "markdown",
      "metadata": {
        "id": "-lBhMsZnN-9S"
      },
      "source": [
        "### 4.1.9. Dropna\n",
        "\n",
        "El metodo `dropna()` Elimina valores faltantes"
      ]
    },
    {
      "cell_type": "code",
      "execution_count": null,
      "metadata": {
        "id": "oh2XHM6DOV__",
        "colab": {
          "base_uri": "https://localhost:8080/",
          "height": 423
        },
        "outputId": "79a72b31-1cd8-4361-9f5b-7e0282ce9ed3"
      },
      "outputs": [
        {
          "output_type": "execute_result",
          "data": {
            "text/plain": [
              "     age  sex  cp  trestbps  chol  fbs  restecg  thalach  exang  oldpeak  \\\n",
              "0     63    1   3       145   233    1        0      150      0      2.3   \n",
              "1     37    1   2       130   250    0        1      187      0      3.5   \n",
              "2     41    0   1       130   204    0        0      172      0      1.4   \n",
              "3     56    1   1       120   236    0        1      178      0      0.8   \n",
              "4     57    0   0       120   354    0        1      163      1      0.6   \n",
              "..   ...  ...  ..       ...   ...  ...      ...      ...    ...      ...   \n",
              "298   57    0   0       140   241    0        1      123      1      0.2   \n",
              "299   45    1   3       110   264    0        1      132      0      1.2   \n",
              "300   68    1   0       144   193    1        1      141      0      3.4   \n",
              "301   57    1   0       130   131    0        1      115      1      1.2   \n",
              "302   57    0   1       130   236    0        0      174      0      0.0   \n",
              "\n",
              "     slope  ca  thal  target  \n",
              "0        0   0     1       1  \n",
              "1        0   0     2       1  \n",
              "2        2   0     2       1  \n",
              "3        2   0     2       1  \n",
              "4        2   0     2       1  \n",
              "..     ...  ..   ...     ...  \n",
              "298      1   0     3       0  \n",
              "299      1   0     3       0  \n",
              "300      1   2     3       0  \n",
              "301      1   1     3       0  \n",
              "302      1   1     2       0  \n",
              "\n",
              "[303 rows x 14 columns]"
            ],
            "text/html": [
              "\n",
              "  <div id=\"df-eca6d2eb-8ac3-46d9-9272-b4f12c3a3a9d\">\n",
              "    <div class=\"colab-df-container\">\n",
              "      <div>\n",
              "<style scoped>\n",
              "    .dataframe tbody tr th:only-of-type {\n",
              "        vertical-align: middle;\n",
              "    }\n",
              "\n",
              "    .dataframe tbody tr th {\n",
              "        vertical-align: top;\n",
              "    }\n",
              "\n",
              "    .dataframe thead th {\n",
              "        text-align: right;\n",
              "    }\n",
              "</style>\n",
              "<table border=\"1\" class=\"dataframe\">\n",
              "  <thead>\n",
              "    <tr style=\"text-align: right;\">\n",
              "      <th></th>\n",
              "      <th>age</th>\n",
              "      <th>sex</th>\n",
              "      <th>cp</th>\n",
              "      <th>trestbps</th>\n",
              "      <th>chol</th>\n",
              "      <th>fbs</th>\n",
              "      <th>restecg</th>\n",
              "      <th>thalach</th>\n",
              "      <th>exang</th>\n",
              "      <th>oldpeak</th>\n",
              "      <th>slope</th>\n",
              "      <th>ca</th>\n",
              "      <th>thal</th>\n",
              "      <th>target</th>\n",
              "    </tr>\n",
              "  </thead>\n",
              "  <tbody>\n",
              "    <tr>\n",
              "      <th>0</th>\n",
              "      <td>63</td>\n",
              "      <td>1</td>\n",
              "      <td>3</td>\n",
              "      <td>145</td>\n",
              "      <td>233</td>\n",
              "      <td>1</td>\n",
              "      <td>0</td>\n",
              "      <td>150</td>\n",
              "      <td>0</td>\n",
              "      <td>2.3</td>\n",
              "      <td>0</td>\n",
              "      <td>0</td>\n",
              "      <td>1</td>\n",
              "      <td>1</td>\n",
              "    </tr>\n",
              "    <tr>\n",
              "      <th>1</th>\n",
              "      <td>37</td>\n",
              "      <td>1</td>\n",
              "      <td>2</td>\n",
              "      <td>130</td>\n",
              "      <td>250</td>\n",
              "      <td>0</td>\n",
              "      <td>1</td>\n",
              "      <td>187</td>\n",
              "      <td>0</td>\n",
              "      <td>3.5</td>\n",
              "      <td>0</td>\n",
              "      <td>0</td>\n",
              "      <td>2</td>\n",
              "      <td>1</td>\n",
              "    </tr>\n",
              "    <tr>\n",
              "      <th>2</th>\n",
              "      <td>41</td>\n",
              "      <td>0</td>\n",
              "      <td>1</td>\n",
              "      <td>130</td>\n",
              "      <td>204</td>\n",
              "      <td>0</td>\n",
              "      <td>0</td>\n",
              "      <td>172</td>\n",
              "      <td>0</td>\n",
              "      <td>1.4</td>\n",
              "      <td>2</td>\n",
              "      <td>0</td>\n",
              "      <td>2</td>\n",
              "      <td>1</td>\n",
              "    </tr>\n",
              "    <tr>\n",
              "      <th>3</th>\n",
              "      <td>56</td>\n",
              "      <td>1</td>\n",
              "      <td>1</td>\n",
              "      <td>120</td>\n",
              "      <td>236</td>\n",
              "      <td>0</td>\n",
              "      <td>1</td>\n",
              "      <td>178</td>\n",
              "      <td>0</td>\n",
              "      <td>0.8</td>\n",
              "      <td>2</td>\n",
              "      <td>0</td>\n",
              "      <td>2</td>\n",
              "      <td>1</td>\n",
              "    </tr>\n",
              "    <tr>\n",
              "      <th>4</th>\n",
              "      <td>57</td>\n",
              "      <td>0</td>\n",
              "      <td>0</td>\n",
              "      <td>120</td>\n",
              "      <td>354</td>\n",
              "      <td>0</td>\n",
              "      <td>1</td>\n",
              "      <td>163</td>\n",
              "      <td>1</td>\n",
              "      <td>0.6</td>\n",
              "      <td>2</td>\n",
              "      <td>0</td>\n",
              "      <td>2</td>\n",
              "      <td>1</td>\n",
              "    </tr>\n",
              "    <tr>\n",
              "      <th>...</th>\n",
              "      <td>...</td>\n",
              "      <td>...</td>\n",
              "      <td>...</td>\n",
              "      <td>...</td>\n",
              "      <td>...</td>\n",
              "      <td>...</td>\n",
              "      <td>...</td>\n",
              "      <td>...</td>\n",
              "      <td>...</td>\n",
              "      <td>...</td>\n",
              "      <td>...</td>\n",
              "      <td>...</td>\n",
              "      <td>...</td>\n",
              "      <td>...</td>\n",
              "    </tr>\n",
              "    <tr>\n",
              "      <th>298</th>\n",
              "      <td>57</td>\n",
              "      <td>0</td>\n",
              "      <td>0</td>\n",
              "      <td>140</td>\n",
              "      <td>241</td>\n",
              "      <td>0</td>\n",
              "      <td>1</td>\n",
              "      <td>123</td>\n",
              "      <td>1</td>\n",
              "      <td>0.2</td>\n",
              "      <td>1</td>\n",
              "      <td>0</td>\n",
              "      <td>3</td>\n",
              "      <td>0</td>\n",
              "    </tr>\n",
              "    <tr>\n",
              "      <th>299</th>\n",
              "      <td>45</td>\n",
              "      <td>1</td>\n",
              "      <td>3</td>\n",
              "      <td>110</td>\n",
              "      <td>264</td>\n",
              "      <td>0</td>\n",
              "      <td>1</td>\n",
              "      <td>132</td>\n",
              "      <td>0</td>\n",
              "      <td>1.2</td>\n",
              "      <td>1</td>\n",
              "      <td>0</td>\n",
              "      <td>3</td>\n",
              "      <td>0</td>\n",
              "    </tr>\n",
              "    <tr>\n",
              "      <th>300</th>\n",
              "      <td>68</td>\n",
              "      <td>1</td>\n",
              "      <td>0</td>\n",
              "      <td>144</td>\n",
              "      <td>193</td>\n",
              "      <td>1</td>\n",
              "      <td>1</td>\n",
              "      <td>141</td>\n",
              "      <td>0</td>\n",
              "      <td>3.4</td>\n",
              "      <td>1</td>\n",
              "      <td>2</td>\n",
              "      <td>3</td>\n",
              "      <td>0</td>\n",
              "    </tr>\n",
              "    <tr>\n",
              "      <th>301</th>\n",
              "      <td>57</td>\n",
              "      <td>1</td>\n",
              "      <td>0</td>\n",
              "      <td>130</td>\n",
              "      <td>131</td>\n",
              "      <td>0</td>\n",
              "      <td>1</td>\n",
              "      <td>115</td>\n",
              "      <td>1</td>\n",
              "      <td>1.2</td>\n",
              "      <td>1</td>\n",
              "      <td>1</td>\n",
              "      <td>3</td>\n",
              "      <td>0</td>\n",
              "    </tr>\n",
              "    <tr>\n",
              "      <th>302</th>\n",
              "      <td>57</td>\n",
              "      <td>0</td>\n",
              "      <td>1</td>\n",
              "      <td>130</td>\n",
              "      <td>236</td>\n",
              "      <td>0</td>\n",
              "      <td>0</td>\n",
              "      <td>174</td>\n",
              "      <td>0</td>\n",
              "      <td>0.0</td>\n",
              "      <td>1</td>\n",
              "      <td>1</td>\n",
              "      <td>2</td>\n",
              "      <td>0</td>\n",
              "    </tr>\n",
              "  </tbody>\n",
              "</table>\n",
              "<p>303 rows × 14 columns</p>\n",
              "</div>\n",
              "      <button class=\"colab-df-convert\" onclick=\"convertToInteractive('df-eca6d2eb-8ac3-46d9-9272-b4f12c3a3a9d')\"\n",
              "              title=\"Convert this dataframe to an interactive table.\"\n",
              "              style=\"display:none;\">\n",
              "        \n",
              "  <svg xmlns=\"http://www.w3.org/2000/svg\" height=\"24px\"viewBox=\"0 0 24 24\"\n",
              "       width=\"24px\">\n",
              "    <path d=\"M0 0h24v24H0V0z\" fill=\"none\"/>\n",
              "    <path d=\"M18.56 5.44l.94 2.06.94-2.06 2.06-.94-2.06-.94-.94-2.06-.94 2.06-2.06.94zm-11 1L8.5 8.5l.94-2.06 2.06-.94-2.06-.94L8.5 2.5l-.94 2.06-2.06.94zm10 10l.94 2.06.94-2.06 2.06-.94-2.06-.94-.94-2.06-.94 2.06-2.06.94z\"/><path d=\"M17.41 7.96l-1.37-1.37c-.4-.4-.92-.59-1.43-.59-.52 0-1.04.2-1.43.59L10.3 9.45l-7.72 7.72c-.78.78-.78 2.05 0 2.83L4 21.41c.39.39.9.59 1.41.59.51 0 1.02-.2 1.41-.59l7.78-7.78 2.81-2.81c.8-.78.8-2.07 0-2.86zM5.41 20L4 18.59l7.72-7.72 1.47 1.35L5.41 20z\"/>\n",
              "  </svg>\n",
              "      </button>\n",
              "      \n",
              "  <style>\n",
              "    .colab-df-container {\n",
              "      display:flex;\n",
              "      flex-wrap:wrap;\n",
              "      gap: 12px;\n",
              "    }\n",
              "\n",
              "    .colab-df-convert {\n",
              "      background-color: #E8F0FE;\n",
              "      border: none;\n",
              "      border-radius: 50%;\n",
              "      cursor: pointer;\n",
              "      display: none;\n",
              "      fill: #1967D2;\n",
              "      height: 32px;\n",
              "      padding: 0 0 0 0;\n",
              "      width: 32px;\n",
              "    }\n",
              "\n",
              "    .colab-df-convert:hover {\n",
              "      background-color: #E2EBFA;\n",
              "      box-shadow: 0px 1px 2px rgba(60, 64, 67, 0.3), 0px 1px 3px 1px rgba(60, 64, 67, 0.15);\n",
              "      fill: #174EA6;\n",
              "    }\n",
              "\n",
              "    [theme=dark] .colab-df-convert {\n",
              "      background-color: #3B4455;\n",
              "      fill: #D2E3FC;\n",
              "    }\n",
              "\n",
              "    [theme=dark] .colab-df-convert:hover {\n",
              "      background-color: #434B5C;\n",
              "      box-shadow: 0px 1px 3px 1px rgba(0, 0, 0, 0.15);\n",
              "      filter: drop-shadow(0px 1px 2px rgba(0, 0, 0, 0.3));\n",
              "      fill: #FFFFFF;\n",
              "    }\n",
              "  </style>\n",
              "\n",
              "      <script>\n",
              "        const buttonEl =\n",
              "          document.querySelector('#df-eca6d2eb-8ac3-46d9-9272-b4f12c3a3a9d button.colab-df-convert');\n",
              "        buttonEl.style.display =\n",
              "          google.colab.kernel.accessAllowed ? 'block' : 'none';\n",
              "\n",
              "        async function convertToInteractive(key) {\n",
              "          const element = document.querySelector('#df-eca6d2eb-8ac3-46d9-9272-b4f12c3a3a9d');\n",
              "          const dataTable =\n",
              "            await google.colab.kernel.invokeFunction('convertToInteractive',\n",
              "                                                     [key], {});\n",
              "          if (!dataTable) return;\n",
              "\n",
              "          const docLinkHtml = 'Like what you see? Visit the ' +\n",
              "            '<a target=\"_blank\" href=https://colab.research.google.com/notebooks/data_table.ipynb>data table notebook</a>'\n",
              "            + ' to learn more about interactive tables.';\n",
              "          element.innerHTML = '';\n",
              "          dataTable['output_type'] = 'display_data';\n",
              "          await google.colab.output.renderOutput(dataTable, element);\n",
              "          const docLink = document.createElement('div');\n",
              "          docLink.innerHTML = docLinkHtml;\n",
              "          element.appendChild(docLink);\n",
              "        }\n",
              "      </script>\n",
              "    </div>\n",
              "  </div>\n",
              "  "
            ]
          },
          "metadata": {},
          "execution_count": 31
        }
      ],
      "source": [
        "df.dropna()"
      ]
    },
    {
      "cell_type": "code",
      "execution_count": null,
      "metadata": {
        "id": "csmIob5HN-t9",
        "colab": {
          "base_uri": "https://localhost:8080/"
        },
        "outputId": "8631fb0a-8e95-4c0b-95d1-6b244dd3be4a"
      },
      "outputs": [
        {
          "output_type": "execute_result",
          "data": {
            "text/plain": [
              "True"
            ]
          },
          "metadata": {},
          "execution_count": 32
        }
      ],
      "source": [
        "df.dropna().values.any()"
      ]
    },
    {
      "cell_type": "markdown",
      "source": [
        "# 5. Análisis descriptivo variables individuales"
      ],
      "metadata": {
        "id": "5LlUtF60o3Lx"
      }
    },
    {
      "cell_type": "markdown",
      "metadata": {
        "id": "Df2VAp83dXLK"
      },
      "source": [
        "## 5.1. Edad:\n",
        " "
      ]
    },
    {
      "cell_type": "markdown",
      "metadata": {
        "id": "XCt6_0SgdY-J"
      },
      "source": [
        "### 5.1.1. Resultados:\n",
        "Se realizo un análisis de descriptivo de la variable \"edad\". No hubo valores faltantes, media $54.36$, mediana $55$, moda $58$, rango de $20$ a $60$, sesgo $0.201$, curtosis $-0.552$, desviación estándar $9.08$, sin datos atípicos y un resultado de prueba de normalidad de Shapiro Will de $0.986$ con un p-valor de $0.005$. Finalmente se realizaron las gráficas de violín, histograma, bigotes y diagrama de enjambres."
      ]
    },
    {
      "cell_type": "markdown",
      "metadata": {
        "id": "8A2OL11Tda4v"
      },
      "source": [
        "### 5.1.2. Discusión:\n",
        "La evaluación de la  distribución de normalidad se evaluó a través del método gráfico y del coeficiente de Shapiro Will, se concluye que los datos se distribuyeron normalmente. \n",
        "\n",
        "La edad promedio de los participantes fue de 54.36 años. El coeficiente de sesgo positivo, la curtosis y la desviación estándar implica la existencia de observaciones con valores ligeramente altos con menor concentración en torno a la media, lo cual es un resultado esperado para una muestra para investigaciones coronarias. "
      ]
    },
    {
      "cell_type": "markdown",
      "source": [
        "La siguiente instrucción lo que va a hacer es describir la variable \"age\" del DataFrame \"df\""
      ],
      "metadata": {
        "id": "XdG7Ej7RIKoo"
      }
    },
    {
      "cell_type": "code",
      "execution_count": null,
      "metadata": {
        "id": "tTAqZq-ychv2",
        "colab": {
          "base_uri": "https://localhost:8080/"
        },
        "outputId": "c946c5b4-147c-4756-9600-e25899bf3f55"
      },
      "outputs": [
        {
          "output_type": "execute_result",
          "data": {
            "text/plain": [
              "count    303.000000\n",
              "mean      54.366337\n",
              "std        9.082101\n",
              "min       29.000000\n",
              "25%       47.500000\n",
              "50%       55.000000\n",
              "75%       61.000000\n",
              "max       77.000000\n",
              "Name: age, dtype: float64"
            ]
          },
          "metadata": {},
          "execution_count": 33
        }
      ],
      "source": [
        "df.age.describe() "
      ]
    },
    {
      "cell_type": "code",
      "execution_count": null,
      "metadata": {
        "id": "oELumi6pcktS",
        "colab": {
          "base_uri": "https://localhost:8080/"
        },
        "outputId": "6016763a-5460-4e31-f3f1-73f7952fa7b0"
      },
      "outputs": [
        {
          "output_type": "stream",
          "name": "stdout",
          "text": [
            "Media: 54.366336633663366\n",
            "Mediana:: 55.0\n",
            "Moda: 0    58\n",
            "dtype: int64\n",
            "Kurtosis: -0.55299857127345\n",
            "Skewness: -0.2014596901125439\n",
            "Shapiro: ShapiroResult(statistic=0.9863710999488831, pvalue=0.005800189916044474)\n"
          ]
        }
      ],
      "source": [
        "print('Media:', df.age.mean())\n",
        "print('Mediana::', df.age.median())\n",
        "print('Moda:', df.age.mode())\n",
        "print('Kurtosis:', sp.kurtosis(df['age']))\n",
        "print('Skewness:', sp.skew(df['age']))\n",
        "print('Shapiro:', sp.shapiro(df['age']))"
      ]
    },
    {
      "cell_type": "markdown",
      "metadata": {
        "id": "SKEDdxviZErs"
      },
      "source": [
        "### 5.1.3. Graficas:"
      ]
    },
    {
      "cell_type": "markdown",
      "metadata": {
        "id": "InexoK8QS1kT"
      },
      "source": [
        "**Diagrama de Violín:**\n",
        "\n",
        "Un diagrama de violín juega un papel similar al de un diagrama de caja y bigotes. Muestra la distribución de datos cuantitativos a través de varios niveles de una (o más) variables categóricas de modo que esas distribuciones puedan compararse. A diferencia de un diagrama de caja, en el que todos los componentes del diagrama corresponden a puntos de datos reales, el diagrama de violín presenta una estimación de la densidad del núcleo de la distribución subyacente.\n",
        "\n",
        "Esta puede ser una forma eficaz y atractiva de mostrar múltiples distribuciones de datos a la vez, pero tenga en cuenta que el procedimiento de estimación está influenciado por el tamaño de la muestra, y los violines para muestras relativamente pequeñas pueden parecer engañosamente fluidos."
      ]
    },
    {
      "cell_type": "code",
      "execution_count": null,
      "metadata": {
        "id": "C2ntBs34cqou",
        "colab": {
          "base_uri": "https://localhost:8080/",
          "height": 367
        },
        "outputId": "8c851b60-8742-4f83-aeca-de2a4081b4e7"
      },
      "outputs": [
        {
          "output_type": "stream",
          "name": "stderr",
          "text": [
            "/usr/local/lib/python3.8/dist-packages/seaborn/_decorators.py:36: FutureWarning: Pass the following variable as a keyword arg: x. From version 0.12, the only valid positional argument will be `data`, and passing other arguments without an explicit keyword will result in an error or misinterpretation.\n",
            "  warnings.warn(\n"
          ]
        },
        {
          "output_type": "execute_result",
          "data": {
            "text/plain": [
              "Text(0.5, 0, 'Edad')"
            ]
          },
          "metadata": {},
          "execution_count": 35
        },
        {
          "output_type": "display_data",
          "data": {
            "text/plain": [
              "<Figure size 432x288 with 1 Axes>"
            ],
            "image/png": "[encoded data removed]"
          },
          "metadata": {
            "needs_background": "light"
          }
        }
      ],
      "source": [
        "sns.violinplot(df['age'])  \n",
        "plt.title('Diagrama de Violín Edad de los Pacientes')\n",
        "plt.xlabel('Edad')"
      ]
    },
    {
      "cell_type": "markdown",
      "metadata": {
        "id": "pg9sip3YTNKC"
      },
      "source": [
        "**Histograma:**\n",
        "\n",
        "Un histograma es una herramienta de visualización clásica que representa la distribución de una o más variables al contar el número de observaciones que se encuentran dentro de contenedores discretos."
      ]
    },
    {
      "cell_type": "code",
      "execution_count": null,
      "metadata": {
        "id": "XXtKBWNsctfn",
        "colab": {
          "base_uri": "https://localhost:8080/",
          "height": 312
        },
        "outputId": "2479d2ee-6ac3-45c5-b425-35f38e45cddd"
      },
      "outputs": [
        {
          "output_type": "execute_result",
          "data": {
            "text/plain": [
              "Text(0.5, 0, 'Edad')"
            ]
          },
          "metadata": {},
          "execution_count": 36
        },
        {
          "output_type": "display_data",
          "data": {
            "text/plain": [
              "<Figure size 432x288 with 1 Axes>"
            ],
            "image/png": "[encoded data removed]"
          },
          "metadata": {
            "needs_background": "light"
          }
        }
      ],
      "source": [
        "ax = sns.histplot(df['age'], kde = True)\n",
        "plt.title('Histograma de la Edad de los Pacientes')\n",
        "plt.ylabel('Frecuencia')\n",
        "plt.xlabel('Edad')"
      ]
    },
    {
      "cell_type": "markdown",
      "metadata": {
        "id": "9hByvOeKTecA"
      },
      "source": [
        "**Diagrama de Caja:**\n",
        "\n",
        "Un diagrama de caja (o diagrama de bigotes) muestra la distribución de datos cuantitativos de una manera que facilita las comparaciones entre variables o entre niveles de una variable categórica. El cuadro representa los cuartiles del conjunto de datos, mientras que los bigotes se extienden para mostrar el resto de la distribución, excepto los puntos que se determinan como \"valores atípicos\" mediante un método que es una función del rango entre cuartiles."
      ]
    },
    {
      "cell_type": "code",
      "execution_count": null,
      "metadata": {
        "id": "gpCvc7iZczH0",
        "colab": {
          "base_uri": "https://localhost:8080/",
          "height": 384
        },
        "outputId": "39d21d5e-8626-4b80-e58a-c4892624dfcf"
      },
      "outputs": [
        {
          "output_type": "stream",
          "name": "stderr",
          "text": [
            "/usr/local/lib/python3.8/dist-packages/seaborn/_decorators.py:36: FutureWarning: Pass the following variable as a keyword arg: x. From version 0.12, the only valid positional argument will be `data`, and passing other arguments without an explicit keyword will result in an error or misinterpretation.\n",
            "  warnings.warn(\n",
            "/usr/local/lib/python3.8/dist-packages/seaborn/_core.py:1326: UserWarning: Vertical orientation ignored with only `x` specified.\n",
            "  warnings.warn(single_var_warning.format(\"Vertical\", \"x\"))\n"
          ]
        },
        {
          "output_type": "display_data",
          "data": {
            "text/plain": [
              "<Figure size 432x288 with 1 Axes>"
            ],
            "image/png": "[encoded data removed]"
          },
          "metadata": {
            "needs_background": "light"
          }
        }
      ],
      "source": [
        "sns.boxplot(df['age'], color = \"red\", orient = \"v\")\n",
        "plt.title('Diagrama de Caja de la Edad de los Pacientes')\n",
        "plt.grid(True)\n",
        "plt.xticks(np.arange(20,100,5))\n",
        "plt.show()"
      ]
    },
    {
      "cell_type": "code",
      "execution_count": null,
      "metadata": {
        "id": "6hlB61kiKjX3",
        "colab": {
          "base_uri": "https://localhost:8080/",
          "height": 281
        },
        "outputId": "9bb06c07-b3a4-41f3-e4c5-7489df8318b8"
      },
      "outputs": [
        {
          "output_type": "display_data",
          "data": {
            "text/plain": [
              "<Figure size 432x288 with 1 Axes>"
            ],
            "image/png": "[encoded data removed]"
          },
          "metadata": {
            "needs_background": "light"
          }
        }
      ],
      "source": [
        "plt.boxplot(df['age'])\n",
        "plt.title('Diagrama de Caja de la Edad')\n",
        "plt.ylabel('Age')\n",
        "plt.show()"
      ]
    },
    {
      "cell_type": "markdown",
      "metadata": {
        "id": "AnscqHdPTp-I"
      },
      "source": [
        "**Diagrama de Enjambre**\n",
        "\n",
        "Un diagrama de enjambre es un buen complemento para un diagrama de caja o de violín en los casos en los que desea mostrar todas las observaciones junto con alguna representación de la distribución subyacente."
      ]
    },
    {
      "cell_type": "code",
      "execution_count": null,
      "metadata": {
        "id": "oPftFT0tc5KA",
        "colab": {
          "base_uri": "https://localhost:8080/",
          "height": 367
        },
        "outputId": "c5894f02-4af7-42e3-93ac-32f6aeb13d67"
      },
      "outputs": [
        {
          "output_type": "stream",
          "name": "stderr",
          "text": [
            "/usr/local/lib/python3.8/dist-packages/seaborn/_decorators.py:36: FutureWarning: Pass the following variable as a keyword arg: x. From version 0.12, the only valid positional argument will be `data`, and passing other arguments without an explicit keyword will result in an error or misinterpretation.\n",
            "  warnings.warn(\n"
          ]
        },
        {
          "output_type": "execute_result",
          "data": {
            "text/plain": [
              "Text(0.5, 0, 'Edad')"
            ]
          },
          "metadata": {},
          "execution_count": 39
        },
        {
          "output_type": "display_data",
          "data": {
            "text/plain": [
              "<Figure size 432x288 with 1 Axes>"
            ],
            "image/png": "[encoded data removed]"
          },
          "metadata": {
            "needs_background": "light"
          }
        }
      ],
      "source": [
        "sns.swarmplot(df['age'])\n",
        "plt.title('Diagrama de Enjambre de la Edad de los Pacientes')\n",
        "plt.xlabel('Edad')"
      ]
    },
    {
      "cell_type": "markdown",
      "metadata": {
        "id": "1dVBkQBiEbyJ"
      },
      "source": [
        "**QQ-plot** \n",
        "\n",
        "Cuando los cuantiles de dos variables se grafican uno contra el otro, el gráfico obtenido se conoce como gráfico cuantil - cuantil o qqplot. Este gráfico permite determinar si la distribucion de una variable es normal. "
      ]
    },
    {
      "cell_type": "code",
      "execution_count": null,
      "metadata": {
        "id": "NnbWNwuAc9YX",
        "colab": {
          "base_uri": "https://localhost:8080/",
          "height": 312
        },
        "outputId": "7b0f75c0-2af5-4789-8145-e21056472ce8"
      },
      "outputs": [
        {
          "output_type": "execute_result",
          "data": {
            "text/plain": [
              "Text(0.5, 0, 'Cuartiles Teoricos')"
            ]
          },
          "metadata": {},
          "execution_count": 40
        },
        {
          "output_type": "display_data",
          "data": {
            "text/plain": [
              "<Figure size 432x288 with 1 Axes>"
            ],
            "image/png": "[encoded data removed]"
          },
          "metadata": {
            "needs_background": "light"
          }
        }
      ],
      "source": [
        "sm.qqplot(df['age'],fit=True, line=\"45\")\n",
        "plt.title('Diagrama Cuantil-Cuantil de la Edad de los Pacientes')\n",
        "plt.ylabel('Cuartiles de Muestra')\n",
        "plt.xlabel('Cuartiles Teoricos')"
      ]
    },
    {
      "cell_type": "markdown",
      "metadata": {
        "id": "17RaMngDdTan"
      },
      "source": [
        "## 5.2. Presión Arterial:"
      ]
    },
    {
      "cell_type": "markdown",
      "metadata": {
        "id": "3Re-AGWIdhO4"
      },
      "source": [
        "### 5.2.1. Resultados:\n",
        "Se realizo un análisis de descriptivo de la variable \"Presión arterial\". No hubo valores faltantes, media 131.623, mediana 130, moda 120, rango de 94 a 200, sesgo 0.894, curtosis 0.710, desviación estándar 17.538, sin datos atípicos y y un resultado de prueba de normalidad de Shapiro Will de 0.965 con un p-valor de 0.000014. Finalmente se realizaron las gráficas de violín, histograma, bigotes y diagrama de enjambres."
      ]
    },
    {
      "cell_type": "markdown",
      "metadata": {
        "id": "szWVwglOdl7n"
      },
      "source": [
        "### 5.2.2. Discusión:\n",
        "La evaluación de la  distribución de normalidad se evaluó a través del método gráfico y del coeficiente de Shapiro Will, se concluye que los datos se distribuyeron normalmente. \n",
        "\n",
        "La Presión arterial promedio de los participantes fue de 131.623. Los coeficientes de sesgo y curtosis positivo junto a la desviación estándar implican la existencia de observaciones con valores ligeramente bajos concentrados en torno a la media.  "
      ]
    },
    {
      "cell_type": "code",
      "execution_count": null,
      "metadata": {
        "id": "uCkK01KWds4w",
        "colab": {
          "base_uri": "https://localhost:8080/"
        },
        "outputId": "9fd953bc-8384-4343-920c-aa1c3cb43da4"
      },
      "outputs": [
        {
          "output_type": "execute_result",
          "data": {
            "text/plain": [
              "count    303.000000\n",
              "mean     131.623762\n",
              "std       17.538143\n",
              "min       94.000000\n",
              "25%      120.000000\n",
              "50%      130.000000\n",
              "75%      140.000000\n",
              "max      200.000000\n",
              "Name: trestbps, dtype: float64"
            ]
          },
          "metadata": {},
          "execution_count": 41
        }
      ],
      "source": [
        "df.trestbps.describe() "
      ]
    },
    {
      "cell_type": "code",
      "execution_count": null,
      "metadata": {
        "id": "XKnSY2NIdvpg",
        "colab": {
          "base_uri": "https://localhost:8080/"
        },
        "outputId": "cbacbc71-6105-427b-8bdb-395e51a23b7b"
      },
      "outputs": [
        {
          "output_type": "stream",
          "name": "stdout",
          "text": [
            "Media: 131.62376237623764\n",
            "Mediana:: 130.0\n",
            "Moda: 0    120\n",
            "dtype: int64\n",
            "Kursotis: 0.8940569555069118\n",
            "Skewness: 0.7102300604861443\n",
            "Shapiro: ShapiroResult(statistic=0.965917706489563, pvalue=1.4579997014152468e-06)\n"
          ]
        }
      ],
      "source": [
        "import scipy.stats as sp  \n",
        "print('Media:', df.trestbps.mean())\n",
        "print('Mediana::', df.trestbps.median())\n",
        "print('Moda:', df.trestbps.mode())\n",
        "print('Kursotis:', sp.kurtosis(df['trestbps']))\n",
        "print('Skewness:', sp.skew(df['trestbps']))\n",
        "print('Shapiro:', sp.shapiro(df['trestbps']))"
      ]
    },
    {
      "cell_type": "markdown",
      "metadata": {
        "id": "ENFJ1TD9ZKG9"
      },
      "source": [
        "### 5.2.3. Graficas:"
      ]
    },
    {
      "cell_type": "code",
      "execution_count": null,
      "metadata": {
        "id": "GYJL9Gbgd2Wn",
        "colab": {
          "base_uri": "https://localhost:8080/",
          "height": 367
        },
        "outputId": "0fef2a11-673f-4235-d065-6472cb3b7f85"
      },
      "outputs": [
        {
          "output_type": "stream",
          "name": "stderr",
          "text": [
            "/usr/local/lib/python3.8/dist-packages/seaborn/_decorators.py:36: FutureWarning: Pass the following variable as a keyword arg: x. From version 0.12, the only valid positional argument will be `data`, and passing other arguments without an explicit keyword will result in an error or misinterpretation.\n",
            "  warnings.warn(\n"
          ]
        },
        {
          "output_type": "execute_result",
          "data": {
            "text/plain": [
              "Text(0.5, 0, 'Presión arterial')"
            ]
          },
          "metadata": {},
          "execution_count": 43
        },
        {
          "output_type": "display_data",
          "data": {
            "text/plain": [
              "<Figure size 432x288 with 1 Axes>"
            ],
            "image/png": "[encoded data removed]"
          },
          "metadata": {
            "needs_background": "light"
          }
        }
      ],
      "source": [
        "sns.violinplot(df['trestbps'])  \n",
        "plt.title('Diagrama de Violín de la Presión arterial')\n",
        "plt.xlabel('Presión arterial')"
      ]
    },
    {
      "cell_type": "code",
      "execution_count": null,
      "metadata": {
        "id": "aphOUF4ed5L_",
        "colab": {
          "base_uri": "https://localhost:8080/",
          "height": 312
        },
        "outputId": "77b27a02-495f-4b70-fadf-3ef19b80741a"
      },
      "outputs": [
        {
          "output_type": "execute_result",
          "data": {
            "text/plain": [
              "Text(0.5, 0, 'Presión arterial')"
            ]
          },
          "metadata": {},
          "execution_count": 44
        },
        {
          "output_type": "display_data",
          "data": {
            "text/plain": [
              "<Figure size 432x288 with 1 Axes>"
            ],
            "image/png": "[encoded data removed]"
          },
          "metadata": {
            "needs_background": "light"
          }
        }
      ],
      "source": [
        "ax = sns.histplot(df['trestbps'], kde = True)\n",
        "plt.title('Histograma de la Presión arterial')\n",
        "plt.ylabel('Frecuencia')\n",
        "plt.xlabel('Presión arterial')\n"
      ]
    },
    {
      "cell_type": "code",
      "execution_count": null,
      "metadata": {
        "id": "IGaTHXcqd-HA",
        "colab": {
          "base_uri": "https://localhost:8080/",
          "height": 384
        },
        "outputId": "6e5e4962-7ab6-435b-d0e7-9634258cda84"
      },
      "outputs": [
        {
          "output_type": "stream",
          "name": "stderr",
          "text": [
            "/usr/local/lib/python3.8/dist-packages/seaborn/_decorators.py:36: FutureWarning: Pass the following variable as a keyword arg: x. From version 0.12, the only valid positional argument will be `data`, and passing other arguments without an explicit keyword will result in an error or misinterpretation.\n",
            "  warnings.warn(\n",
            "/usr/local/lib/python3.8/dist-packages/seaborn/_core.py:1326: UserWarning: Vertical orientation ignored with only `x` specified.\n",
            "  warnings.warn(single_var_warning.format(\"Vertical\", \"x\"))\n"
          ]
        },
        {
          "output_type": "display_data",
          "data": {
            "text/plain": [
              "<Figure size 432x288 with 1 Axes>"
            ],
            "image/png": "[encoded data removed]"
          },
          "metadata": {
            "needs_background": "light"
          }
        }
      ],
      "source": [
        "sns.boxplot(df['trestbps'], color = \"red\", orient = \"v\")\n",
        "plt.title('Diagrama de Caja de la Presión arterial')\n",
        "plt.grid(True)\n",
        "plt.xticks(np.arange(90,200,10))\n",
        "plt.show()"
      ]
    },
    {
      "cell_type": "code",
      "execution_count": null,
      "metadata": {
        "id": "xWhkUbvIKWHb",
        "colab": {
          "base_uri": "https://localhost:8080/",
          "height": 281
        },
        "outputId": "d646c51f-34e9-4ed9-9a85-c49e3c9d24fb"
      },
      "outputs": [
        {
          "output_type": "display_data",
          "data": {
            "text/plain": [
              "<Figure size 432x288 with 1 Axes>"
            ],
            "image/png": "[encoded data removed]"
          },
          "metadata": {
            "needs_background": "light"
          }
        }
      ],
      "source": [
        "plt.boxplot(df['trestbps'])\n",
        "\n",
        "plt.title('Diagrama de Caja de la Presión Arterial')\n",
        "plt.ylabel('Age')\n",
        "plt.show()"
      ]
    },
    {
      "cell_type": "code",
      "execution_count": null,
      "metadata": {
        "id": "x6DyQvNod_23",
        "colab": {
          "base_uri": "https://localhost:8080/",
          "height": 367
        },
        "outputId": "63e1af2f-7803-4220-b6e1-c21e83cfdd0f"
      },
      "outputs": [
        {
          "output_type": "stream",
          "name": "stderr",
          "text": [
            "/usr/local/lib/python3.8/dist-packages/seaborn/_decorators.py:36: FutureWarning: Pass the following variable as a keyword arg: x. From version 0.12, the only valid positional argument will be `data`, and passing other arguments without an explicit keyword will result in an error or misinterpretation.\n",
            "  warnings.warn(\n"
          ]
        },
        {
          "output_type": "execute_result",
          "data": {
            "text/plain": [
              "Text(0.5, 0, 'Presión arterial')"
            ]
          },
          "metadata": {},
          "execution_count": 47
        },
        {
          "output_type": "display_data",
          "data": {
            "text/plain": [
              "<Figure size 432x288 with 1 Axes>"
            ],
            "image/png": "[encoded data removed]"
          },
          "metadata": {
            "needs_background": "light"
          }
        }
      ],
      "source": [
        "sns.swarmplot(df['trestbps'])\n",
        "plt.title('Presión arterial')\n",
        "plt.xlabel('Presión arterial')\n"
      ]
    },
    {
      "cell_type": "code",
      "execution_count": null,
      "metadata": {
        "id": "5R6Y6af7eDTw",
        "colab": {
          "base_uri": "https://localhost:8080/",
          "height": 312
        },
        "outputId": "0ecb1c47-ca2d-4363-c040-fa98570c21cc"
      },
      "outputs": [
        {
          "output_type": "execute_result",
          "data": {
            "text/plain": [
              "Text(0.5, 0, 'Cuartiles Teoricos')"
            ]
          },
          "metadata": {},
          "execution_count": 48
        },
        {
          "output_type": "display_data",
          "data": {
            "text/plain": [
              "<Figure size 432x288 with 1 Axes>"
            ],
            "image/png": "[encoded data removed]"
          },
          "metadata": {
            "needs_background": "light"
          }
        }
      ],
      "source": [
        "sm.qqplot(df['trestbps'],fit=True, line=\"45\")\n",
        "plt.title('Diagrama Cuantil-Cuantil de la Presión Arterial de los Pacientes')\n",
        "plt.ylabel('Cuartiles de Muestra')\n",
        "plt.xlabel('Cuartiles Teoricos')"
      ]
    },
    {
      "cell_type": "markdown",
      "metadata": {
        "id": "JA-0_GrBeGnK"
      },
      "source": [
        "## 5.3. Sexo:"
      ]
    },
    {
      "cell_type": "markdown",
      "metadata": {
        "id": "lq8obAhAeJlA"
      },
      "source": [
        "### 5.3.1. Resultados:\n",
        "Se realizo un análisis de descriptivo de la variable \"Sexo\". No hubo valores faltantes, de los 303 datos, 68.3 % corresponde a hombres y 31.7 a mujeres. Finalmente se realizaron las gráficas de barras y torta. "
      ]
    },
    {
      "cell_type": "markdown",
      "metadata": {
        "id": "CAFGmERheOAv"
      },
      "source": [
        "### 5.3.2. Discusión:\n",
        "La muestra podria no ser representativa, teniendo en cuenta que las mujeres tienen a desarrollar problemas coronario. "
      ]
    },
    {
      "cell_type": "markdown",
      "metadata": {
        "id": "IUiiT1wmZNlc"
      },
      "source": [
        "### 5.3.3. Graficas:"
      ]
    },
    {
      "cell_type": "code",
      "execution_count": null,
      "metadata": {
        "id": "WrLDlTYNeT5g",
        "colab": {
          "base_uri": "https://localhost:8080/",
          "height": 350
        },
        "outputId": "e58d62c0-2b0b-4728-85b4-80bb3bcc261a"
      },
      "outputs": [
        {
          "output_type": "stream",
          "name": "stderr",
          "text": [
            "/usr/local/lib/python3.8/dist-packages/seaborn/_decorators.py:36: FutureWarning: Pass the following variable as a keyword arg: x. From version 0.12, the only valid positional argument will be `data`, and passing other arguments without an explicit keyword will result in an error or misinterpretation.\n",
            "  warnings.warn(\n"
          ]
        },
        {
          "output_type": "display_data",
          "data": {
            "text/plain": [
              "<Figure size 432x288 with 1 Axes>"
            ],
            "image/png": "[encoded data removed]"
          },
          "metadata": {
            "needs_background": "light"
          }
        }
      ],
      "source": [
        "sns.countplot(\"sex\", data=df, palette=\"bwr\" )\n",
        "plt.xlabel(\"Sex (0 = Mujer, 1= Hombre)\")\n",
        "plt.title('Sexo')\n",
        "plt.ylabel('Frecuencia')\n",
        "plt.show()"
      ]
    },
    {
      "cell_type": "code",
      "execution_count": null,
      "metadata": {
        "id": "jD0BKe7aeXhn",
        "colab": {
          "base_uri": "https://localhost:8080/",
          "height": 373
        },
        "outputId": "edf40ef3-ab19-4efb-d0a5-1fcd31e5823c"
      },
      "outputs": [
        {
          "output_type": "display_data",
          "data": {
            "text/plain": [
              "<Figure size 576x432 with 1 Axes>"
            ],
            "image/png": "[encoded data removed]"
          },
          "metadata": {}
        }
      ],
      "source": [
        "nombres = [\"Hombre\", \"Mujer\"]\n",
        "sexo = df['sex'].value_counts()\n",
        "extraccion = 0,0.1\n",
        "fig, ax = plt.subplots(figsize = (8,6))\n",
        "plt.pie(sexo, labels = nombres, autopct= \"%0.1f %%\", explode = extraccion, shadow = True, labeldistance=1.2)\n",
        "ax.set_title('Sexo')\n",
        "plt.legend()\n",
        "plt.show()"
      ]
    },
    {
      "cell_type": "markdown",
      "metadata": {
        "id": "UhUHiZ9Kebdn"
      },
      "source": [
        "##5.4. Tipo de Dolor en el Pecho:"
      ]
    },
    {
      "cell_type": "markdown",
      "metadata": {
        "id": "bRQwMS03egav"
      },
      "source": [
        "### 5.4.1. Resultados: \n",
        "Se realizo un análisis de descriptivo de la variable \"Tipos de dolor en el pecho\". No hubo valores faltantes, de los 303 datos, 68.3 % corresponde a hombres y 31.7 a mujeres. Finalmente se realizaron las gráficas de barras y torta. "
      ]
    },
    {
      "cell_type": "markdown",
      "metadata": {
        "id": "v2-YDauJelbn"
      },
      "source": [
        "### 5.4.2. Discusión:\n",
        "El dolor mas frecuente en los participnates corresponde a el dolor anginoso tipico. "
      ]
    },
    {
      "cell_type": "markdown",
      "metadata": {
        "id": "ix1sVg2IZS2E"
      },
      "source": [
        "### 5.4.3. Graficas:"
      ]
    },
    {
      "cell_type": "code",
      "execution_count": null,
      "metadata": {
        "id": "Opmbre45eonX",
        "colab": {
          "base_uri": "https://localhost:8080/",
          "height": 296
        },
        "outputId": "92dd3eee-a3c4-43ea-955a-2a70aec1b080"
      },
      "outputs": [
        {
          "output_type": "display_data",
          "data": {
            "text/plain": [
              "<Figure size 432x288 with 1 Axes>"
            ],
            "image/png": "[encoded data removed]"
          },
          "metadata": {
            "needs_background": "light"
          }
        }
      ],
      "source": [
        "sns.countplot(x=\"cp\", data=df, palette=\"bwr\")\n",
        "plt.xlabel(\"Tipo de dolor (0 = Angina típica, 1 = atípica, 2 = no anginoso, 3 = asintomático)\")\n",
        "plt.title('Tipo de dolor en el pecho')\n",
        "plt.ylabel(\"Frecuencia\")\n",
        "plt.show()"
      ]
    },
    {
      "cell_type": "code",
      "execution_count": null,
      "metadata": {
        "id": "mcv4T-GbesKg",
        "colab": {
          "base_uri": "https://localhost:8080/",
          "height": 373
        },
        "outputId": "b001f39a-8456-488d-f939-dfd21fa3eb5d"
      },
      "outputs": [
        {
          "output_type": "display_data",
          "data": {
            "text/plain": [
              "<Figure size 576x432 with 1 Axes>"
            ],
            "image/png": "[encoded data removed]"
          },
          "metadata": {}
        }
      ],
      "source": [
        "nombres = [\"Angina típica\", \"atípica\", \"no anginoso\", \"asintomático\"]\n",
        "tiposDolor = df['cp'].value_counts()\n",
        "extraccion = 0,0.1,0,0\n",
        "fig, ax = plt.subplots(figsize = (8,6))\n",
        "plt.pie(tiposDolor, labels = nombres, autopct= \"%0.1f %%\", explode = extraccion, shadow = True, labeldistance= 1.2)\n",
        "ax.set_title('Tipo de dolor en el pecho')\n",
        "plt.legend()\n",
        "plt.show()"
      ]
    },
    {
      "cell_type": "markdown",
      "metadata": {
        "id": "-GvhMQWzMX_F"
      },
      "source": [
        "Ahora, con los resultados anteriores realizaremos un diagrama de barras con la cantidad de pacientes enfermos y no enfermos"
      ]
    },
    {
      "cell_type": "code",
      "execution_count": null,
      "metadata": {
        "id": "-zq47t5xKkn9",
        "colab": {
          "base_uri": "https://localhost:8080/",
          "height": 279
        },
        "outputId": "c91c88b3-b65b-46f7-f9de-ad094a708d39"
      },
      "outputs": [
        {
          "output_type": "display_data",
          "data": {
            "text/plain": [
              "<Figure size 432x288 with 1 Axes>"
            ],
            "image/png": "[encoded data removed]"
          },
          "metadata": {
            "needs_background": "light"
          }
        }
      ],
      "source": [
        "sns.countplot(x='sex', data=df, palette=\"mako_r\")\n",
        "plt.xlabel(\"Sex (0 = Mujer, 1= Hombre)\")\n",
        "plt.show()"
      ]
    },
    {
      "cell_type": "markdown",
      "metadata": {
        "id": "0roTzPezJteP"
      },
      "source": [
        "# 6. Análisis descriptivo a dos variables "
      ]
    },
    {
      "cell_type": "markdown",
      "source": [
        "## 6.1 Edad VS Colesterol\n"
      ],
      "metadata": {
        "id": "FxKl7CdVrfqU"
      }
    },
    {
      "cell_type": "code",
      "source": [
        "plt.plot(df['chol'], df['age'], \"*\", color = \"r\")\n",
        "plt.xlabel('colesterol sérico en mg/dl')\n",
        "plt.ylabel('edad')\n",
        "plt.title('Colesterol sérico vs edad')\n",
        "plt.show"
      ],
      "metadata": {
        "id": "Qnm_8D75VOCG",
        "colab": {
          "base_uri": "https://localhost:8080/",
          "height": 313
        },
        "outputId": "d95bd60c-9ee6-4c80-e8c7-0d90eb2baefa"
      },
      "execution_count": null,
      "outputs": [
        {
          "output_type": "execute_result",
          "data": {
            "text/plain": [
              "<function matplotlib.pyplot.show(*args, **kw)>"
            ]
          },
          "metadata": {},
          "execution_count": 54
        },
        {
          "output_type": "display_data",
          "data": {
            "text/plain": [
              "<Figure size 432x288 with 1 Axes>"
            ],
            "image/png": "[encoded data removed]"
          },
          "metadata": {
            "needs_background": "light"
          }
        }
      ]
    },
    {
      "cell_type": "markdown",
      "source": [
        "### Analísis\n",
        "En los diferentes grupos de edad no existe diferencias notables en los valores de colesterol, dado que en todas las edades la mayor parte de las participantes muestran un colesterol elevado."
      ],
      "metadata": {
        "id": "hh4sVXMapagx"
      }
    },
    {
      "cell_type": "markdown",
      "source": [
        "## 6.3.  Presión arterial vs edad\n",
        "\n"
      ],
      "metadata": {
        "id": "ETq61sPxYJXI"
      }
    },
    {
      "cell_type": "code",
      "source": [
        "plt.plot(df['age'],df['trestbps'], \".\", color = \"red\")\n",
        "plt.ylabel('Presión arterial en reposo')\n",
        "plt.xlabel('edad')\n",
        "plt.title('Presión arterial vs edad')\n",
        "plt.show"
      ],
      "metadata": {
        "id": "NIs7TiBRY4nd",
        "colab": {
          "base_uri": "https://localhost:8080/",
          "height": 312
        },
        "outputId": "bee70e29-2734-4ef1-d924-5aaeb2a7a661"
      },
      "execution_count": null,
      "outputs": [
        {
          "output_type": "execute_result",
          "data": {
            "text/plain": [
              "<function matplotlib.pyplot.show(*args, **kw)>"
            ]
          },
          "metadata": {},
          "execution_count": 55
        },
        {
          "output_type": "display_data",
          "data": {
            "text/plain": [
              "<Figure size 432x288 with 1 Axes>"
            ],
            "image/png": "[encoded data removed]"
          },
          "metadata": {
            "needs_background": "light"
          }
        }
      ]
    },
    {
      "cell_type": "markdown",
      "source": [
        "### Analísis\n",
        "\n",
        "La mayoria de los participantes presentan una presion arterial mas elevada. Ademas, es importante resaltar que las personas de mayor edad son las que presetan los valores mas altos en la presion arterial."
      ],
      "metadata": {
        "id": "mP5c4JHj7Npb"
      }
    },
    {
      "cell_type": "markdown",
      "source": [
        "## 6.4. Frecuencia cardiaca vs Edad"
      ],
      "metadata": {
        "id": "BQ-Z4RpSqf0i"
      }
    },
    {
      "cell_type": "code",
      "source": [
        "plt.hist2d(df['trestbps'], df['age']);\n",
        "plt.colorbar();"
      ],
      "metadata": {
        "id": "D83g8w2Vqj78",
        "colab": {
          "base_uri": "https://localhost:8080/",
          "height": 265
        },
        "outputId": "a9cf1bf7-b836-4adb-eebf-6c6a84be71c3"
      },
      "execution_count": null,
      "outputs": [
        {
          "output_type": "display_data",
          "data": {
            "text/plain": [
              "<Figure size 432x288 with 2 Axes>"
            ],
            "image/png": "[encoded data removed]"
          },
          "metadata": {
            "needs_background": "light"
          }
        }
      ]
    },
    {
      "cell_type": "markdown",
      "source": [
        "### Analísis\n",
        "\n",
        "La frecuencia cardica y la edad mas frecuente fue  130 y 55 respectivamente. "
      ],
      "metadata": {
        "id": "ebS95iGG7nT4"
      }
    },
    {
      "cell_type": "code",
      "execution_count": null,
      "metadata": {
        "id": "kxLvDEJ9KC8j",
        "colab": {
          "base_uri": "https://localhost:8080/",
          "height": 279
        },
        "outputId": "0aa28e50-5b24-429c-c1f2-e3200cbe1235"
      },
      "outputs": [
        {
          "output_type": "display_data",
          "data": {
            "text/plain": [
              "<Figure size 432x288 with 1 Axes>"
            ],
            "image/png": "[encoded data removed]"
          },
          "metadata": {
            "needs_background": "light"
          }
        }
      ],
      "source": [
        "sns.countplot(x=\"target\", data=df, palette=\"bwr\")\n",
        "plt.xlabel(\"Sex (0 = Sin enfermedad cardiaca, 1= Con enfermedad cardiaca)\")\n",
        "plt.show()"
      ]
    },
    {
      "cell_type": "markdown",
      "metadata": {
        "id": "_905Qp7ANL4J"
      },
      "source": [
        "Luego, calculamos los porcentajes de personas enfermas y no enfermos."
      ]
    },
    {
      "cell_type": "code",
      "execution_count": null,
      "metadata": {
        "id": "l4mVC2-3Khc7",
        "colab": {
          "base_uri": "https://localhost:8080/"
        },
        "outputId": "b2412947-4025-4b37-d1a3-b5594dc6b888"
      },
      "outputs": [
        {
          "output_type": "stream",
          "name": "stdout",
          "text": [
            "Porcentaje de pacientes que no tienen enfermedades del corazón: 45.54%\n",
            "Porcentaje de pacientes con enfermedad cardíaca: 54.46%\n"
          ]
        }
      ],
      "source": [
        "countNoDisease = len(df[df.target == 0])\n",
        "countHaveDisease = len(df[df.target == 1])\n",
        "print(\"Porcentaje de pacientes que no tienen enfermedades del corazón: {:.2f}%\".format((countNoDisease / (len(df.target))*100)))\n",
        "print(\"Porcentaje de pacientes con enfermedad cardíaca: {:.2f}%\".format((countHaveDisease / (len(df.target))*100)))\n"
      ]
    },
    {
      "cell_type": "markdown",
      "metadata": {
        "id": "7Iu1VhoNVqHb"
      },
      "source": [
        "## 6.5. Frecuencia de Enfermedades Cardíacas por Edades\n",
        "En un diagrama de barras pondremos la distribucion de enfermedades caricadas por edad"
      ]
    },
    {
      "cell_type": "code",
      "execution_count": null,
      "metadata": {
        "id": "ojx7WdWKP1Os",
        "colab": {
          "base_uri": "https://localhost:8080/",
          "height": 384
        },
        "outputId": "8997a6a4-8f40-4fd6-bf3b-0e1d4bf6d5f8"
      },
      "outputs": [
        {
          "output_type": "display_data",
          "data": {
            "text/plain": [
              "<Figure size 1440x432 with 1 Axes>"
            ],
            "image/png": "[encoded data removed]"
          },
          "metadata": {
            "needs_background": "light"
          }
        }
      ],
      "source": [
        "pd.crosstab(df.age,df.target).plot(kind=\"bar\",figsize=(20,6))\n",
        "plt.title('Frecuencia de enfermedades cardíacas por edades')\n",
        "plt.xlabel('Edad')\n",
        "plt.ylabel('Frecuencia')\n",
        "plt.savefig('heartDiseaseAndAges.png')\n",
        "plt.show()"
      ]
    },
    {
      "cell_type": "markdown",
      "source": [
        "### Analísis\n",
        "\n",
        "Los grupos de edades mas jovenes se caracteriza por una mayor frecuencia de personas con enfermedad cardiaca aun cuando la mayor parte de la muestra corresponde a mayores de 50 años. Es decir las personas mayores son más sanas con respecto a enfermedades cardiacas.\n"
      ],
      "metadata": {
        "id": "H0pbsUyqD8oU"
      }
    },
    {
      "cell_type": "markdown",
      "metadata": {
        "id": "bGtccH6s2rMp"
      },
      "source": [
        "## 6.7. Diagrama de Distribucion Entre pacientes Enfermos, no Enfermos Vs. Frecuencia Cardiaca Maxima"
      ]
    },
    {
      "cell_type": "code",
      "execution_count": null,
      "metadata": {
        "id": "Z2JfDShdQTWF",
        "colab": {
          "base_uri": "https://localhost:8080/",
          "height": 279
        },
        "outputId": "0ad60075-7678-4d88-c1ab-003090dd969d"
      },
      "outputs": [
        {
          "output_type": "display_data",
          "data": {
            "text/plain": [
              "<Figure size 432x288 with 1 Axes>"
            ],
            "image/png": "[encoded data removed]"
          },
          "metadata": {
            "needs_background": "light"
          }
        }
      ],
      "source": [
        "plt.scatter(x=df.age[df.target==1], y=df.thalach[(df.target==1)])\n",
        "plt.scatter(x=df.age[df.target==0], y=df.thalach[(df.target==0)])\n",
        "plt.legend([\"Enfermo\", \"No Enfermo\"])\n",
        "plt.xlabel(\"Edad\")\n",
        "plt.ylabel(\"Frecuencia cardíaca máxima\")\n",
        "plt.show()"
      ]
    },
    {
      "cell_type": "markdown",
      "source": [
        "### Analísis\n",
        "\n",
        "Las personas sanas presentan una menor frecuencia cardiaca maxima. \n",
        "Los enfermos se distribuyen en edades menores, lo cual no es habitual con la clinica.  \n"
      ],
      "metadata": {
        "id": "VsJGaA5kHtsF"
      }
    },
    {
      "cell_type": "markdown",
      "source": [
        "## 6.8. Frecuencia cardiaca maxima y colestero segun la presencia de la enfermedad"
      ],
      "metadata": {
        "id": "kEiogwHDdQc1"
      }
    },
    {
      "cell_type": "code",
      "source": [
        "plt.scatter(x=df.chol[df.target==1], y=df.thalach[(df.target==1)])\n",
        "plt.scatter(x=df.chol[df.target==0], y=df.thalach[(df.target==0)])\n",
        "plt.legend([\"Enfermo\", \"No Enfermo\"])\n",
        "plt.xlabel(\"Colesterol\")\n",
        "plt.ylabel(\"Frecuencia cardíaca máxima\")\n",
        "plt.show()"
      ],
      "metadata": {
        "id": "jkv5Yp4hdRna",
        "colab": {
          "base_uri": "https://localhost:8080/",
          "height": 279
        },
        "outputId": "d289afc5-1c5a-41c9-e0e2-bd916c9f8023"
      },
      "execution_count": null,
      "outputs": [
        {
          "output_type": "display_data",
          "data": {
            "text/plain": [
              "<Figure size 432x288 with 1 Axes>"
            ],
            "image/png": "[encoded data removed]"
          },
          "metadata": {
            "needs_background": "light"
          }
        }
      ]
    },
    {
      "cell_type": "markdown",
      "source": [
        "### Analísis\n",
        "\n",
        "La mayor parte de la muestra presenta niveles elevados de colesterol y frecuencias cardiacas maximas elevadas. \n",
        "\n",
        "Las personas sanas presentan niveles mas bajos de frecuencias cardiaca maxima con respecto a los enfermos.\n",
        "\n",
        "Se puede concluir que el colestero es un factor de riesgo con mayor relevancia en comparacion con la frecuencia cardiaca maxima en enfermedades cardiacas. "
      ],
      "metadata": {
        "id": "PIhs77OiInHb"
      }
    },
    {
      "cell_type": "markdown",
      "metadata": {
        "id": "UND2qOeb3Cvm"
      },
      "source": [
        "## 6.9. Frecuencia de Enfermedades Cardíaca para la Pendiente del Segmento ST del Ejercicio Máximo"
      ]
    },
    {
      "cell_type": "code",
      "execution_count": null,
      "metadata": {
        "id": "QbFQBt9C3DbC",
        "colab": {
          "base_uri": "https://localhost:8080/",
          "height": 405
        },
        "outputId": "1368eaf6-39e1-4773-848b-518926b2f14e"
      },
      "outputs": [
        {
          "output_type": "display_data",
          "data": {
            "text/plain": [
              "<Figure size 1080x432 with 1 Axes>"
            ],
            "image/png": "[encoded data removed]"
          },
          "metadata": {
            "needs_background": "light"
          }
        }
      ],
      "source": [
        "pd.crosstab(df.slope,df.target).plot(kind=\"bar\",figsize=(15,6),color=['#DAF7A6','#FF5733' ])\n",
        "plt.title('Frecuencia de enfermedades cardíacas para la pendiente')\n",
        "plt.xlabel('La pendiente del segmento ST del ejercicio máximo')\n",
        "plt.xticks(rotation = 0)\n",
        "plt.ylabel('Frecuencia')\n",
        "plt.show()"
      ]
    },
    {
      "cell_type": "markdown",
      "source": [
        "### Analísis\n",
        "\n",
        "Se concluye que a mayor pendiente mayor presencia de enfermedad.\n"
      ],
      "metadata": {
        "id": "jmMEmQE7Kd54"
      }
    },
    {
      "cell_type": "markdown",
      "metadata": {
        "id": "hQbu2RyY37i8"
      },
      "source": [
        "## 6.12. Frecuencia de cardiopatías según el tipo de dolor torácico"
      ]
    },
    {
      "cell_type": "code",
      "execution_count": null,
      "metadata": {
        "id": "QQkE01uA38Be",
        "colab": {
          "base_uri": "https://localhost:8080/",
          "height": 404
        },
        "outputId": "846c5f35-a8c7-40e7-bc58-8067c35bf662"
      },
      "outputs": [
        {
          "output_type": "display_data",
          "data": {
            "text/plain": [
              "<Figure size 1080x432 with 1 Axes>"
            ],
            "image/png": "[encoded data removed]"
          },
          "metadata": {
            "needs_background": "light"
          }
        }
      ],
      "source": [
        "pd.crosstab(df.cp,df.target).plot(kind=\"bar\",figsize=(15,6),color=['#11A5AA','#AA1190' ])\n",
        "plt.title('Frecuencia de cardiopatías según el tipo de dolor torácico')\n",
        "plt.xlabel('Tipo de dolor de pecho')\n",
        "plt.xticks(rotation = 0)\n",
        "plt.ylabel('Frecuencia')\n",
        "plt.show()"
      ]
    },
    {
      "cell_type": "markdown",
      "source": [
        "### Analísis\n",
        "\n",
        "El dolor anginoso tipico es mas frecuente en las personas sanas.\n",
        "El dolor anginoso atipico o no anginoso es mas frecuente en personas enfermas. \n",
        "\n",
        "Nota. Los datos pueden estar invertidos. La distribucion de las frecuencias no coindicen con la realidad medica"
      ],
      "metadata": {
        "id": "xcIxJSmbL2gr"
      }
    },
    {
      "cell_type": "markdown",
      "source": [
        "# Modelos de aprendizaje de maquina: Naive Bayes, Análisis de componentes principales y K vecinos más cercanos."
      ],
      "metadata": {
        "id": "fw5GEJ5lczVx"
      }
    },
    {
      "cell_type": "markdown",
      "metadata": {
        "id": "J3H9L3af4jrn"
      },
      "source": [
        "# 7. Creación de variables ficticias\n",
        "Dado que 'cp', 'thal' y 'slope' son variables categóricas, las convertiremos en variables ficticias.\n",
        "Una variable ficticia es una variable utilizada para explicar valores cualitativos en un modelo de regresión. Los modelos de regresión intentan explicar una variable en función de otras. Por ejemplo, el salario de una persona en función de su edad, su educación y su experiencia. Estas variables se pueden cuantificar.\n",
        "\n",
        "Usaremos la instruccion\n",
        "\n",
        "```\n",
        "pd.get_dummies()\n",
        "```\n",
        "Que convierte variables categóricas en variables ficticias/indicadoras.\n",
        "Dentro del parentesis de la instruccion anterior pondremos lo siguiente\n",
        "\n",
        "```\n",
        "df['-'], prefix=\"+\"\n",
        "```\n",
        "Donde \"df\" es el nombre del DataFrame original, y '-' es el nombre de la variable que volveremos ficticias y \"+\" es el prefijo que usaremos para las nuevas variables ficticias.\n",
        "\n",
        "\n"
      ]
    },
    {
      "cell_type": "code",
      "execution_count": null,
      "metadata": {
        "id": "msNjALmr4zFW",
        "colab": {
          "base_uri": "https://localhost:8080/",
          "height": 299
        },
        "outputId": "7282c938-0c63-4f43-84ae-31fc8ed8c595"
      },
      "outputs": [
        {
          "output_type": "execute_result",
          "data": {
            "text/plain": [
              "   age  sex  cp  trestbps  chol  fbs  restecg  thalach  exang  oldpeak  ...  \\\n",
              "0   63    1   3       145   233    1        0      150      0      2.3  ...   \n",
              "1   37    1   2       130   250    0        1      187      0      3.5  ...   \n",
              "2   41    0   1       130   204    0        0      172      0      1.4  ...   \n",
              "3   56    1   1       120   236    0        1      178      0      0.8  ...   \n",
              "4   57    0   0       120   354    0        1      163      1      0.6  ...   \n",
              "\n",
              "   cp_1  cp_2  cp_3  thal_0  thal_1  thal_2  thal_3  slope_0  slope_1  slope_2  \n",
              "0     0     0     1       0       1       0       0        1        0        0  \n",
              "1     0     1     0       0       0       1       0        1        0        0  \n",
              "2     1     0     0       0       0       1       0        0        0        1  \n",
              "3     1     0     0       0       0       1       0        0        0        1  \n",
              "4     0     0     0       0       0       1       0        0        0        1  \n",
              "\n",
              "[5 rows x 25 columns]"
            ],
            "text/html": [
              "\n",
              "  <div id=\"df-64234791-9bd0-4230-95ad-c36264d572de\">\n",
              "    <div class=\"colab-df-container\">\n",
              "      <div>\n",
              "<style scoped>\n",
              "    .dataframe tbody tr th:only-of-type {\n",
              "        vertical-align: middle;\n",
              "    }\n",
              "\n",
              "    .dataframe tbody tr th {\n",
              "        vertical-align: top;\n",
              "    }\n",
              "\n",
              "    .dataframe thead th {\n",
              "        text-align: right;\n",
              "    }\n",
              "</style>\n",
              "<table border=\"1\" class=\"dataframe\">\n",
              "  <thead>\n",
              "    <tr style=\"text-align: right;\">\n",
              "      <th></th>\n",
              "      <th>age</th>\n",
              "      <th>sex</th>\n",
              "      <th>cp</th>\n",
              "      <th>trestbps</th>\n",
              "      <th>chol</th>\n",
              "      <th>fbs</th>\n",
              "      <th>restecg</th>\n",
              "      <th>thalach</th>\n",
              "      <th>exang</th>\n",
              "      <th>oldpeak</th>\n",
              "      <th>...</th>\n",
              "      <th>cp_1</th>\n",
              "      <th>cp_2</th>\n",
              "      <th>cp_3</th>\n",
              "      <th>thal_0</th>\n",
              "      <th>thal_1</th>\n",
              "      <th>thal_2</th>\n",
              "      <th>thal_3</th>\n",
              "      <th>slope_0</th>\n",
              "      <th>slope_1</th>\n",
              "      <th>slope_2</th>\n",
              "    </tr>\n",
              "  </thead>\n",
              "  <tbody>\n",
              "    <tr>\n",
              "      <th>0</th>\n",
              "      <td>63</td>\n",
              "      <td>1</td>\n",
              "      <td>3</td>\n",
              "      <td>145</td>\n",
              "      <td>233</td>\n",
              "      <td>1</td>\n",
              "      <td>0</td>\n",
              "      <td>150</td>\n",
              "      <td>0</td>\n",
              "      <td>2.3</td>\n",
              "      <td>...</td>\n",
              "      <td>0</td>\n",
              "      <td>0</td>\n",
              "      <td>1</td>\n",
              "      <td>0</td>\n",
              "      <td>1</td>\n",
              "      <td>0</td>\n",
              "      <td>0</td>\n",
              "      <td>1</td>\n",
              "      <td>0</td>\n",
              "      <td>0</td>\n",
              "    </tr>\n",
              "    <tr>\n",
              "      <th>1</th>\n",
              "      <td>37</td>\n",
              "      <td>1</td>\n",
              "      <td>2</td>\n",
              "      <td>130</td>\n",
              "      <td>250</td>\n",
              "      <td>0</td>\n",
              "      <td>1</td>\n",
              "      <td>187</td>\n",
              "      <td>0</td>\n",
              "      <td>3.5</td>\n",
              "      <td>...</td>\n",
              "      <td>0</td>\n",
              "      <td>1</td>\n",
              "      <td>0</td>\n",
              "      <td>0</td>\n",
              "      <td>0</td>\n",
              "      <td>1</td>\n",
              "      <td>0</td>\n",
              "      <td>1</td>\n",
              "      <td>0</td>\n",
              "      <td>0</td>\n",
              "    </tr>\n",
              "    <tr>\n",
              "      <th>2</th>\n",
              "      <td>41</td>\n",
              "      <td>0</td>\n",
              "      <td>1</td>\n",
              "      <td>130</td>\n",
              "      <td>204</td>\n",
              "      <td>0</td>\n",
              "      <td>0</td>\n",
              "      <td>172</td>\n",
              "      <td>0</td>\n",
              "      <td>1.4</td>\n",
              "      <td>...</td>\n",
              "      <td>1</td>\n",
              "      <td>0</td>\n",
              "      <td>0</td>\n",
              "      <td>0</td>\n",
              "      <td>0</td>\n",
              "      <td>1</td>\n",
              "      <td>0</td>\n",
              "      <td>0</td>\n",
              "      <td>0</td>\n",
              "      <td>1</td>\n",
              "    </tr>\n",
              "    <tr>\n",
              "      <th>3</th>\n",
              "      <td>56</td>\n",
              "      <td>1</td>\n",
              "      <td>1</td>\n",
              "      <td>120</td>\n",
              "      <td>236</td>\n",
              "      <td>0</td>\n",
              "      <td>1</td>\n",
              "      <td>178</td>\n",
              "      <td>0</td>\n",
              "      <td>0.8</td>\n",
              "      <td>...</td>\n",
              "      <td>1</td>\n",
              "      <td>0</td>\n",
              "      <td>0</td>\n",
              "      <td>0</td>\n",
              "      <td>0</td>\n",
              "      <td>1</td>\n",
              "      <td>0</td>\n",
              "      <td>0</td>\n",
              "      <td>0</td>\n",
              "      <td>1</td>\n",
              "    </tr>\n",
              "    <tr>\n",
              "      <th>4</th>\n",
              "      <td>57</td>\n",
              "      <td>0</td>\n",
              "      <td>0</td>\n",
              "      <td>120</td>\n",
              "      <td>354</td>\n",
              "      <td>0</td>\n",
              "      <td>1</td>\n",
              "      <td>163</td>\n",
              "      <td>1</td>\n",
              "      <td>0.6</td>\n",
              "      <td>...</td>\n",
              "      <td>0</td>\n",
              "      <td>0</td>\n",
              "      <td>0</td>\n",
              "      <td>0</td>\n",
              "      <td>0</td>\n",
              "      <td>1</td>\n",
              "      <td>0</td>\n",
              "      <td>0</td>\n",
              "      <td>0</td>\n",
              "      <td>1</td>\n",
              "    </tr>\n",
              "  </tbody>\n",
              "</table>\n",
              "<p>5 rows × 25 columns</p>\n",
              "</div>\n",
              "      <button class=\"colab-df-convert\" onclick=\"convertToInteractive('df-64234791-9bd0-4230-95ad-c36264d572de')\"\n",
              "              title=\"Convert this dataframe to an interactive table.\"\n",
              "              style=\"display:none;\">\n",
              "        \n",
              "  <svg xmlns=\"http://www.w3.org/2000/svg\" height=\"24px\"viewBox=\"0 0 24 24\"\n",
              "       width=\"24px\">\n",
              "    <path d=\"M0 0h24v24H0V0z\" fill=\"none\"/>\n",
              "    <path d=\"M18.56 5.44l.94 2.06.94-2.06 2.06-.94-2.06-.94-.94-2.06-.94 2.06-2.06.94zm-11 1L8.5 8.5l.94-2.06 2.06-.94-2.06-.94L8.5 2.5l-.94 2.06-2.06.94zm10 10l.94 2.06.94-2.06 2.06-.94-2.06-.94-.94-2.06-.94 2.06-2.06.94z\"/><path d=\"M17.41 7.96l-1.37-1.37c-.4-.4-.92-.59-1.43-.59-.52 0-1.04.2-1.43.59L10.3 9.45l-7.72 7.72c-.78.78-.78 2.05 0 2.83L4 21.41c.39.39.9.59 1.41.59.51 0 1.02-.2 1.41-.59l7.78-7.78 2.81-2.81c.8-.78.8-2.07 0-2.86zM5.41 20L4 18.59l7.72-7.72 1.47 1.35L5.41 20z\"/>\n",
              "  </svg>\n",
              "      </button>\n",
              "      \n",
              "  <style>\n",
              "    .colab-df-container {\n",
              "      display:flex;\n",
              "      flex-wrap:wrap;\n",
              "      gap: 12px;\n",
              "    }\n",
              "\n",
              "    .colab-df-convert {\n",
              "      background-color: #E8F0FE;\n",
              "      border: none;\n",
              "      border-radius: 50%;\n",
              "      cursor: pointer;\n",
              "      display: none;\n",
              "      fill: #1967D2;\n",
              "      height: 32px;\n",
              "      padding: 0 0 0 0;\n",
              "      width: 32px;\n",
              "    }\n",
              "\n",
              "    .colab-df-convert:hover {\n",
              "      background-color: #E2EBFA;\n",
              "      box-shadow: 0px 1px 2px rgba(60, 64, 67, 0.3), 0px 1px 3px 1px rgba(60, 64, 67, 0.15);\n",
              "      fill: #174EA6;\n",
              "    }\n",
              "\n",
              "    [theme=dark] .colab-df-convert {\n",
              "      background-color: #3B4455;\n",
              "      fill: #D2E3FC;\n",
              "    }\n",
              "\n",
              "    [theme=dark] .colab-df-convert:hover {\n",
              "      background-color: #434B5C;\n",
              "      box-shadow: 0px 1px 3px 1px rgba(0, 0, 0, 0.15);\n",
              "      filter: drop-shadow(0px 1px 2px rgba(0, 0, 0, 0.3));\n",
              "      fill: #FFFFFF;\n",
              "    }\n",
              "  </style>\n",
              "\n",
              "      <script>\n",
              "        const buttonEl =\n",
              "          document.querySelector('#df-64234791-9bd0-4230-95ad-c36264d572de button.colab-df-convert');\n",
              "        buttonEl.style.display =\n",
              "          google.colab.kernel.accessAllowed ? 'block' : 'none';\n",
              "\n",
              "        async function convertToInteractive(key) {\n",
              "          const element = document.querySelector('#df-64234791-9bd0-4230-95ad-c36264d572de');\n",
              "          const dataTable =\n",
              "            await google.colab.kernel.invokeFunction('convertToInteractive',\n",
              "                                                     [key], {});\n",
              "          if (!dataTable) return;\n",
              "\n",
              "          const docLinkHtml = 'Like what you see? Visit the ' +\n",
              "            '<a target=\"_blank\" href=https://colab.research.google.com/notebooks/data_table.ipynb>data table notebook</a>'\n",
              "            + ' to learn more about interactive tables.';\n",
              "          element.innerHTML = '';\n",
              "          dataTable['output_type'] = 'display_data';\n",
              "          await google.colab.output.renderOutput(dataTable, element);\n",
              "          const docLink = document.createElement('div');\n",
              "          docLink.innerHTML = docLinkHtml;\n",
              "          element.appendChild(docLink);\n",
              "        }\n",
              "      </script>\n",
              "    </div>\n",
              "  </div>\n",
              "  "
            ]
          },
          "metadata": {},
          "execution_count": 64
        }
      ],
      "source": [
        "a = pd.get_dummies(df['cp'], prefix = \"cp\")\n",
        "b = pd.get_dummies(df['thal'], prefix = \"thal\")\n",
        "c = pd.get_dummies(df['slope'], prefix = \"slope\")\n",
        "frames = [df, a, b, c]\n",
        "df = pd.concat(frames, axis = 1)\n",
        "df.head()"
      ]
    },
    {
      "cell_type": "markdown",
      "metadata": {
        "id": "YoxMj6eq7DVu"
      },
      "source": [
        "Ahora modificaremos el DataFrame \"df\", para ello usaremos la instruccion\n",
        "\n",
        "\n",
        "```\n",
        "df=df.drop()\n",
        "```\n",
        "Que elimina filas o columnas especificadas. Luego dentro de la instruccion anterior usaremos la instruccion \"columns\" para especificar que deseamos eliminar las columnas especificadas, quedando asi:\n",
        "\n",
        "```\n",
        "df = df.drop(columns = ['cp', 'thal', 'slope'])\n",
        "```\n",
        "\n",
        "\n"
      ]
    },
    {
      "cell_type": "code",
      "execution_count": null,
      "metadata": {
        "id": "r_3BPUKZ69qW",
        "colab": {
          "base_uri": "https://localhost:8080/",
          "height": 299
        },
        "outputId": "ff3abb15-9fc2-4f9e-c97c-3564fa1006f6"
      },
      "outputs": [
        {
          "output_type": "execute_result",
          "data": {
            "text/plain": [
              "   age  sex  trestbps  chol  fbs  restecg  thalach  exang  oldpeak  ca  ...  \\\n",
              "0   63    1       145   233    1        0      150      0      2.3   0  ...   \n",
              "1   37    1       130   250    0        1      187      0      3.5   0  ...   \n",
              "2   41    0       130   204    0        0      172      0      1.4   0  ...   \n",
              "3   56    1       120   236    0        1      178      0      0.8   0  ...   \n",
              "4   57    0       120   354    0        1      163      1      0.6   0  ...   \n",
              "\n",
              "   cp_1  cp_2  cp_3  thal_0  thal_1  thal_2  thal_3  slope_0  slope_1  slope_2  \n",
              "0     0     0     1       0       1       0       0        1        0        0  \n",
              "1     0     1     0       0       0       1       0        1        0        0  \n",
              "2     1     0     0       0       0       1       0        0        0        1  \n",
              "3     1     0     0       0       0       1       0        0        0        1  \n",
              "4     0     0     0       0       0       1       0        0        0        1  \n",
              "\n",
              "[5 rows x 22 columns]"
            ],
            "text/html": [
              "\n",
              "  <div id=\"df-75f97cde-75cd-4e9c-b3d1-8aa198b22d38\">\n",
              "    <div class=\"colab-df-container\">\n",
              "      <div>\n",
              "<style scoped>\n",
              "    .dataframe tbody tr th:only-of-type {\n",
              "        vertical-align: middle;\n",
              "    }\n",
              "\n",
              "    .dataframe tbody tr th {\n",
              "        vertical-align: top;\n",
              "    }\n",
              "\n",
              "    .dataframe thead th {\n",
              "        text-align: right;\n",
              "    }\n",
              "</style>\n",
              "<table border=\"1\" class=\"dataframe\">\n",
              "  <thead>\n",
              "    <tr style=\"text-align: right;\">\n",
              "      <th></th>\n",
              "      <th>age</th>\n",
              "      <th>sex</th>\n",
              "      <th>trestbps</th>\n",
              "      <th>chol</th>\n",
              "      <th>fbs</th>\n",
              "      <th>restecg</th>\n",
              "      <th>thalach</th>\n",
              "      <th>exang</th>\n",
              "      <th>oldpeak</th>\n",
              "      <th>ca</th>\n",
              "      <th>...</th>\n",
              "      <th>cp_1</th>\n",
              "      <th>cp_2</th>\n",
              "      <th>cp_3</th>\n",
              "      <th>thal_0</th>\n",
              "      <th>thal_1</th>\n",
              "      <th>thal_2</th>\n",
              "      <th>thal_3</th>\n",
              "      <th>slope_0</th>\n",
              "      <th>slope_1</th>\n",
              "      <th>slope_2</th>\n",
              "    </tr>\n",
              "  </thead>\n",
              "  <tbody>\n",
              "    <tr>\n",
              "      <th>0</th>\n",
              "      <td>63</td>\n",
              "      <td>1</td>\n",
              "      <td>145</td>\n",
              "      <td>233</td>\n",
              "      <td>1</td>\n",
              "      <td>0</td>\n",
              "      <td>150</td>\n",
              "      <td>0</td>\n",
              "      <td>2.3</td>\n",
              "      <td>0</td>\n",
              "      <td>...</td>\n",
              "      <td>0</td>\n",
              "      <td>0</td>\n",
              "      <td>1</td>\n",
              "      <td>0</td>\n",
              "      <td>1</td>\n",
              "      <td>0</td>\n",
              "      <td>0</td>\n",
              "      <td>1</td>\n",
              "      <td>0</td>\n",
              "      <td>0</td>\n",
              "    </tr>\n",
              "    <tr>\n",
              "      <th>1</th>\n",
              "      <td>37</td>\n",
              "      <td>1</td>\n",
              "      <td>130</td>\n",
              "      <td>250</td>\n",
              "      <td>0</td>\n",
              "      <td>1</td>\n",
              "      <td>187</td>\n",
              "      <td>0</td>\n",
              "      <td>3.5</td>\n",
              "      <td>0</td>\n",
              "      <td>...</td>\n",
              "      <td>0</td>\n",
              "      <td>1</td>\n",
              "      <td>0</td>\n",
              "      <td>0</td>\n",
              "      <td>0</td>\n",
              "      <td>1</td>\n",
              "      <td>0</td>\n",
              "      <td>1</td>\n",
              "      <td>0</td>\n",
              "      <td>0</td>\n",
              "    </tr>\n",
              "    <tr>\n",
              "      <th>2</th>\n",
              "      <td>41</td>\n",
              "      <td>0</td>\n",
              "      <td>130</td>\n",
              "      <td>204</td>\n",
              "      <td>0</td>\n",
              "      <td>0</td>\n",
              "      <td>172</td>\n",
              "      <td>0</td>\n",
              "      <td>1.4</td>\n",
              "      <td>0</td>\n",
              "      <td>...</td>\n",
              "      <td>1</td>\n",
              "      <td>0</td>\n",
              "      <td>0</td>\n",
              "      <td>0</td>\n",
              "      <td>0</td>\n",
              "      <td>1</td>\n",
              "      <td>0</td>\n",
              "      <td>0</td>\n",
              "      <td>0</td>\n",
              "      <td>1</td>\n",
              "    </tr>\n",
              "    <tr>\n",
              "      <th>3</th>\n",
              "      <td>56</td>\n",
              "      <td>1</td>\n",
              "      <td>120</td>\n",
              "      <td>236</td>\n",
              "      <td>0</td>\n",
              "      <td>1</td>\n",
              "      <td>178</td>\n",
              "      <td>0</td>\n",
              "      <td>0.8</td>\n",
              "      <td>0</td>\n",
              "      <td>...</td>\n",
              "      <td>1</td>\n",
              "      <td>0</td>\n",
              "      <td>0</td>\n",
              "      <td>0</td>\n",
              "      <td>0</td>\n",
              "      <td>1</td>\n",
              "      <td>0</td>\n",
              "      <td>0</td>\n",
              "      <td>0</td>\n",
              "      <td>1</td>\n",
              "    </tr>\n",
              "    <tr>\n",
              "      <th>4</th>\n",
              "      <td>57</td>\n",
              "      <td>0</td>\n",
              "      <td>120</td>\n",
              "      <td>354</td>\n",
              "      <td>0</td>\n",
              "      <td>1</td>\n",
              "      <td>163</td>\n",
              "      <td>1</td>\n",
              "      <td>0.6</td>\n",
              "      <td>0</td>\n",
              "      <td>...</td>\n",
              "      <td>0</td>\n",
              "      <td>0</td>\n",
              "      <td>0</td>\n",
              "      <td>0</td>\n",
              "      <td>0</td>\n",
              "      <td>1</td>\n",
              "      <td>0</td>\n",
              "      <td>0</td>\n",
              "      <td>0</td>\n",
              "      <td>1</td>\n",
              "    </tr>\n",
              "  </tbody>\n",
              "</table>\n",
              "<p>5 rows × 22 columns</p>\n",
              "</div>\n",
              "      <button class=\"colab-df-convert\" onclick=\"convertToInteractive('df-75f97cde-75cd-4e9c-b3d1-8aa198b22d38')\"\n",
              "              title=\"Convert this dataframe to an interactive table.\"\n",
              "              style=\"display:none;\">\n",
              "        \n",
              "  <svg xmlns=\"http://www.w3.org/2000/svg\" height=\"24px\"viewBox=\"0 0 24 24\"\n",
              "       width=\"24px\">\n",
              "    <path d=\"M0 0h24v24H0V0z\" fill=\"none\"/>\n",
              "    <path d=\"M18.56 5.44l.94 2.06.94-2.06 2.06-.94-2.06-.94-.94-2.06-.94 2.06-2.06.94zm-11 1L8.5 8.5l.94-2.06 2.06-.94-2.06-.94L8.5 2.5l-.94 2.06-2.06.94zm10 10l.94 2.06.94-2.06 2.06-.94-2.06-.94-.94-2.06-.94 2.06-2.06.94z\"/><path d=\"M17.41 7.96l-1.37-1.37c-.4-.4-.92-.59-1.43-.59-.52 0-1.04.2-1.43.59L10.3 9.45l-7.72 7.72c-.78.78-.78 2.05 0 2.83L4 21.41c.39.39.9.59 1.41.59.51 0 1.02-.2 1.41-.59l7.78-7.78 2.81-2.81c.8-.78.8-2.07 0-2.86zM5.41 20L4 18.59l7.72-7.72 1.47 1.35L5.41 20z\"/>\n",
              "  </svg>\n",
              "      </button>\n",
              "      \n",
              "  <style>\n",
              "    .colab-df-container {\n",
              "      display:flex;\n",
              "      flex-wrap:wrap;\n",
              "      gap: 12px;\n",
              "    }\n",
              "\n",
              "    .colab-df-convert {\n",
              "      background-color: #E8F0FE;\n",
              "      border: none;\n",
              "      border-radius: 50%;\n",
              "      cursor: pointer;\n",
              "      display: none;\n",
              "      fill: #1967D2;\n",
              "      height: 32px;\n",
              "      padding: 0 0 0 0;\n",
              "      width: 32px;\n",
              "    }\n",
              "\n",
              "    .colab-df-convert:hover {\n",
              "      background-color: #E2EBFA;\n",
              "      box-shadow: 0px 1px 2px rgba(60, 64, 67, 0.3), 0px 1px 3px 1px rgba(60, 64, 67, 0.15);\n",
              "      fill: #174EA6;\n",
              "    }\n",
              "\n",
              "    [theme=dark] .colab-df-convert {\n",
              "      background-color: #3B4455;\n",
              "      fill: #D2E3FC;\n",
              "    }\n",
              "\n",
              "    [theme=dark] .colab-df-convert:hover {\n",
              "      background-color: #434B5C;\n",
              "      box-shadow: 0px 1px 3px 1px rgba(0, 0, 0, 0.15);\n",
              "      filter: drop-shadow(0px 1px 2px rgba(0, 0, 0, 0.3));\n",
              "      fill: #FFFFFF;\n",
              "    }\n",
              "  </style>\n",
              "\n",
              "      <script>\n",
              "        const buttonEl =\n",
              "          document.querySelector('#df-75f97cde-75cd-4e9c-b3d1-8aa198b22d38 button.colab-df-convert');\n",
              "        buttonEl.style.display =\n",
              "          google.colab.kernel.accessAllowed ? 'block' : 'none';\n",
              "\n",
              "        async function convertToInteractive(key) {\n",
              "          const element = document.querySelector('#df-75f97cde-75cd-4e9c-b3d1-8aa198b22d38');\n",
              "          const dataTable =\n",
              "            await google.colab.kernel.invokeFunction('convertToInteractive',\n",
              "                                                     [key], {});\n",
              "          if (!dataTable) return;\n",
              "\n",
              "          const docLinkHtml = 'Like what you see? Visit the ' +\n",
              "            '<a target=\"_blank\" href=https://colab.research.google.com/notebooks/data_table.ipynb>data table notebook</a>'\n",
              "            + ' to learn more about interactive tables.';\n",
              "          element.innerHTML = '';\n",
              "          dataTable['output_type'] = 'display_data';\n",
              "          await google.colab.output.renderOutput(dataTable, element);\n",
              "          const docLink = document.createElement('div');\n",
              "          docLink.innerHTML = docLinkHtml;\n",
              "          element.appendChild(docLink);\n",
              "        }\n",
              "      </script>\n",
              "    </div>\n",
              "  </div>\n",
              "  "
            ]
          },
          "metadata": {},
          "execution_count": 65
        }
      ],
      "source": [
        "df = df.drop(columns = ['cp', 'thal', 'slope'])\n",
        "df.head()"
      ]
    },
    {
      "cell_type": "code",
      "source": [
        "y = df.target.values\n",
        "x_data = df.drop(['target'], axis = 1)\n",
        "# Normalizar\n",
        "x = (x_data - np.min(x_data)) / (np.max(x_data) - np.min(x_data)).values\n",
        "x_train, x_test, y_train, y_test = train_test_split(x,y,test_size = 0.2,random_state=0)\n",
        "#transponer matrices\n",
        "x_train = x_train.T\n",
        "y_train = y_train.T\n",
        "x_test = x_test.T\n",
        "y_test = y_test.T\n",
        "#inicializar\n",
        "def initialize(dimension):\n",
        "    \n",
        "    weight = np.full((dimension,1),0.01)\n",
        "    bias = 0.0\n",
        "    return weight,bias\n",
        "def sigmoid(z):\n",
        "    \n",
        "    y_head = 1/(1+ np.exp(-z))\n",
        "    return y_head"
      ],
      "metadata": {
        "id": "ssBwZDDthpFJ"
      },
      "execution_count": null,
      "outputs": []
    },
    {
      "cell_type": "code",
      "source": [
        "def forwardBackward(weight,bias,x_train,y_train):\n",
        "    # Delantera\n",
        "    \n",
        "    y_head = sigmoid(np.dot(weight.T,x_train) + bias)\n",
        "    loss = -(y_train*np.log(y_head) + (1-y_train)*np.log(1-y_head))\n",
        "    cost = np.sum(loss) / x_train.shape[1]\n",
        "    \n",
        "    # Hacia atrás\n",
        "    derivative_weight = np.dot(x_train,((y_head-y_train).T))/x_train.shape[1]\n",
        "    derivative_bias = np.sum(y_head-y_train)/x_train.shape[1]\n",
        "    gradients = {\"Derivative Weight\" : derivative_weight, \"Derivative Bias\" : derivative_bias}\n",
        "    \n",
        "    return cost,gradients\n",
        "def update(weight,bias,x_train,y_train,learningRate,iteration) :\n",
        "    costList = []\n",
        "    index = []\n",
        "    \n",
        "    #para cada iteración, actualice los valores de peso y sesgo\n",
        "    for i in range(iteration):\n",
        "        cost,gradients = forwardBackward(weight,bias,x_train,y_train)\n",
        "        weight = weight - learningRate * gradients[\"Derivative Weight\"]\n",
        "        bias = bias - learningRate * gradients[\"Derivative Bias\"]\n",
        "        \n",
        "        costList.append(cost)\n",
        "        index.append(i)\n",
        "\n",
        "    parameters = {\"weight\": weight,\"bias\": bias}\n",
        "    \n",
        "    print(\"iteración:\",iteration)\n",
        "    print(\"costo:\",cost)\n",
        "\n",
        "    plt.plot(index,costList)\n",
        "    plt.xlabel(\"Number of Iteration\")\n",
        "    plt.ylabel(\"Cost\")\n",
        "    plt.show()\n",
        "\n",
        "    return parameters, gradients\n",
        "\n",
        "def predict(weight,bias,x_test):\n",
        "    z = np.dot(weight.T,x_test) + bias\n",
        "    y_head = sigmoid(z)\n",
        "\n",
        "    y_prediction = np.zeros((1,x_test.shape[1]))\n",
        "    \n",
        "    for i in range(y_head.shape[1]):\n",
        "        if y_head[0,i] <= 0.5:\n",
        "            y_prediction[0,i] = 0\n",
        "        else:\n",
        "            y_prediction[0,i] = 1\n",
        "    return y_prediction\n",
        "\n",
        "def logistic_regression(x_train,y_train,x_test,y_test,learningRate,iteration):\n",
        "    dimension = x_train.shape[0]\n",
        "    weight,bias = initialize(dimension)\n",
        "    \n",
        "    parameters, gradients = update(weight,bias,x_train,y_train,learningRate,iteration)\n",
        "\n",
        "    y_prediction = predict(parameters[\"weight\"],parameters[\"bias\"],x_test)\n",
        "    \n",
        "    print(\"Precisión de la prueba de Manuel: {:.2f}%\".format((100 - np.mean(np.abs(y_prediction - y_test))*100)))\n",
        "\n",
        "logistic_regression(x_train,y_train,x_test,y_test,1,100)"
      ],
      "metadata": {
        "id": "smChpHbFh7or",
        "colab": {
          "base_uri": "https://localhost:8080/",
          "height": 331
        },
        "outputId": "497f651c-ce30-43d2-8c39-2a6ec0e4a112"
      },
      "execution_count": null,
      "outputs": [
        {
          "output_type": "stream",
          "name": "stdout",
          "text": [
            "iteración: 100\n",
            "costo: 0.3597736123664534\n"
          ]
        },
        {
          "output_type": "display_data",
          "data": {
            "text/plain": [
              "<Figure size 432x288 with 1 Axes>"
            ],
            "image/png": "[encoded data removed]"
          },
          "metadata": {
            "needs_background": "light"
          }
        },
        {
          "output_type": "stream",
          "name": "stdout",
          "text": [
            "Precisión de la prueba de Manuel: 86.89%\n"
          ]
        }
      ]
    },
    {
      "cell_type": "markdown",
      "metadata": {
        "id": "sBv0aH_H70cP"
      },
      "source": [
        "# 8. Naive Bayes Algorithm\n"
      ]
    },
    {
      "cell_type": "markdown",
      "source": [
        "### 8.1 Teorema de Bayes\n",
        "El teorema de Bayes es una fórmula para calcular la probabilidad de un evento utilizando el conocimiento previo de las condiciones relacionadas. Dada por \n",
        "\n",
        "$$P(A|B)=\\frac{P(B|A)P(A)}{P(B)}$$\n",
        "\n",
        "A y B son eventos; P(A) es la probabilidad de observar el evento A, P(B) es la probabilidad de observar B, P(A|B) es la probabilidad condicional de observar A dado que B fue observado.\n",
        "\n",
        "El teorema de Bayes es una ecuación que describe la relación de las probabilidades condicionales de cantidades estadísticas. En clasificación bayesiana estamos interesados en encontrar la probabilidad de que ocurra una \"Clase\" dadas unas características observadas (Datos). Lo podemos observar como P(Clase|Datos), luego el teorema de bayes nos dice que esto será: \n",
        "\n",
        "$$P(Clase|Datos)=\\frac{P(Datos|Clase)P(Clase)}{P(Datos)}$$\n",
        "\n",
        "En este caso\n",
        "\n",
        " ***Clase*** :  Es una salida en particular, por ejemplo \"Enfermo\".\n",
        " \n",
        " ***Datos*** : Son las caracteristicas del dataframe, edad, sexo, frecuencia cardiaca, etc.\n",
        " \n",
        " ***P(Clase|Datos)***: Se llama probabilidad a posteriori y es la que queremos encontrar.\n",
        "\n",
        " ***P(Datos|Clase)***: Se conoce como \"verosimilitud\" (en ingles likelihood).\n",
        "\n",
        "***P(Clase)***: Se llama probabilidad a priori, ya la tenemos.\n",
        "\n",
        "***P(Datos)***: Se llama probabilidad marginal y es como la probabilidad de todo el fenomeno. \n",
        "\n",
        "El modelo que buscamos entrenar, necesita \"decidir\" cuando le demos nuevos datos, si una persona esta enferma o no lo esta. Una manera de que se tome esa \"Decisión\" es :\n",
        "\n",
        "$$\\frac{P(Enfermo|Datos)}{P(No\\_enfermo|Datos)}=\\frac{P(Datos|Enfermo)P(Enfermo)}{P(Datos|No\\_enfermo)P(No\\_enfermo)}$$\n",
        "\n",
        "Esto con el objetivo de eliminar P(Datos), que puede ser bastante tedioso calcularlo, debido a la cantidad de registros y de caracteristicas.\n",
        "\n",
        "\n",
        "## Clasificador Gaussian Naive Bayes.\n",
        "\n",
        "Es uno de los clasificadores mas populares y es que es uno de los que permite valores continuos y no discretizados, se le dice \"naive\" por la \"ingenuidad\" de considerar independientes todas las caracteristicas de nuestro dataframe. Lo cual se verifica que no es cierto con el analisis de correlacion de pearson, eso nos puede indicar que puede haber cierto sesgo en el modelo, pero pues trabajaremos asi, luego con el accuracy del modelo verificaremos que el modelo predice con un buen porcentaje, y que el \"sesgo intuitivo\", no es tan grande.\n",
        "\n",
        "La formula detras de Gaussian naive bayes es:\n",
        "\n",
        "$$Posteriori(Enfermo)=\\frac{P(Enfermo)P(Edad|Enfermo)P(Sexo|Enfermo)...}{P(Datos)}$$\n",
        "\n",
        "\n",
        "$$Posteriori(No\\_enfermo)=\\frac{P(No\\_enfermo)P(Edad|No\\_enfermo)P(Sexo|No\\_enfermo)...}{P(Datos)}$$\n",
        "\n",
        "\n",
        "*$P(Enfermo)$ como tal, no es una probabilidad pero lo tomamos de la frecuencia relativa de nuestro dataframe, (Cuantos enfermos de todos los registros.) de igual manera con $P(No\\_enfermo)$.\n",
        "\n",
        "*Como ya se habia dicho, se asume que las caracteristicas de verosimilitud no estan correlacionadas, una suposición ingenua, de ahi \"naive\" bayes.\n",
        "\n",
        "$$ P(x_{i}|y) = P(x_{i}|y, x_{j})$$\n",
        "\n",
        "Donde $x_{i}$ denota caracteristicas del dataframe y $y$ una clase.\n",
        "\n",
        "*Asumimos que el valor de las caracteristicas (edad, sexo, frecuencia cardiaca, etc) tendra una distribución normal (gaussiana). Esto con el fin de usar la función de probabilidad de densidad normal.\n",
        "\n",
        "GaussianNB implementa el algoritmo Gaussiano Naive Bayes para la clasificacion. se supone que la probabilidad de las caracteristicas es gaussiana:\n",
        "\n",
        "\n",
        "$$ P(x_{i}|y)=-\\frac{1}{\\sqrt{2\\pi\\sigma^{2}_{y}}}exp \\left( -\\frac{(x_{i}-\\mu_{y})^{2}}{2\\sigma^{2}_{y}} \\right) $$\n",
        "\n",
        "Donde los parametros $\\sigma_{y}$ y $\\mu_{y}$ se estiman utilizando la maxima verosimilitud."
      ],
      "metadata": {
        "id": "Ch5Uflk8gYaA"
      }
    },
    {
      "cell_type": "markdown",
      "source": [
        "## 8.2  División de los datos en funciones y etiquetas caracteristicas\n",
        "\n",
        "Se hace entonces la división de los datos del dataframe, X, son las caracteristicas, que son todas las columnas menos \"target\" e y es precisamente solamente \"target\"."
      ],
      "metadata": {
        "id": "rRIdn6nhhr0Z"
      }
    },
    {
      "cell_type": "code",
      "source": [
        "y = df.target.values\n",
        "x_data = df.drop(['target'], axis = 1)"
      ],
      "metadata": {
        "id": "dk0WNzh0ht5O"
      },
      "execution_count": null,
      "outputs": []
    },
    {
      "cell_type": "markdown",
      "source": [
        "## 8.3 División de datos en conjuntos de prueba y entrenamiento\n",
        "\n",
        "El conjunto de datos se entrena a traves del conjunto de entrenamiento y se evalúa con el conjunto de prueba, se usa un metodo de Sklearn, conocido como train_test_split(), como se muestra a continuación. La siguiente secuencia divide el conjunto de entrenamiento en el 80% de los datos y el conjunto de prueba en el restante 20%. "
      ],
      "metadata": {
        "id": "mac3baQQh2te"
      }
    },
    {
      "cell_type": "code",
      "source": [
        "from sklearn.model_selection import train_test_split\n",
        "\n",
        "x_train, x_test, y_train, y_test = train_test_split(x_data, y, test_size = 0.20 ,random_state=0)\n"
      ],
      "metadata": {
        "id": "-7GSZWehh7cX"
      },
      "execution_count": null,
      "outputs": []
    },
    {
      "cell_type": "code",
      "source": [
        "from sklearn.naive_bayes import GaussianNB\n",
        "\n",
        "nb = GaussianNB()\n",
        "nb.fit(x_train, y_train)\n",
        "y_pred = nb.predict(x_test)\n",
        "\n",
        "\n"
      ],
      "metadata": {
        "id": "n3ptvJMFBVYb"
      },
      "execution_count": null,
      "outputs": []
    },
    {
      "cell_type": "markdown",
      "source": [
        "## 8.4 Matriz de confusión\n",
        "Ahora utilizaremos la matriz de confusión que nos dira que tan efectivo fue el modelo, un reporte y el accuracy."
      ],
      "metadata": {
        "id": "K2voifNAh--k"
      }
    },
    {
      "cell_type": "code",
      "source": [
        "from sklearn.metrics import classification_report, confusion_matrix, accuracy_score\n",
        "\n",
        "print(confusion_matrix(y_test, y_pred))\n",
        "print(classification_report(y_test, y_pred))\n",
        "print(\"Precisión = \",accuracy_score(y_test, y_pred))"
      ],
      "metadata": {
        "id": "dOPcyYzeiGLx",
        "colab": {
          "base_uri": "https://localhost:8080/"
        },
        "outputId": "1d38b787-e3fa-473b-e7fb-acea7e4724df"
      },
      "execution_count": null,
      "outputs": [
        {
          "output_type": "stream",
          "name": "stdout",
          "text": [
            "[[21  6]\n",
            " [ 3 31]]\n",
            "              precision    recall  f1-score   support\n",
            "\n",
            "           0       0.88      0.78      0.82        27\n",
            "           1       0.84      0.91      0.87        34\n",
            "\n",
            "    accuracy                           0.85        61\n",
            "   macro avg       0.86      0.84      0.85        61\n",
            "weighted avg       0.85      0.85      0.85        61\n",
            "\n",
            "Precisión =  0.8524590163934426\n"
          ]
        }
      ]
    },
    {
      "cell_type": "markdown",
      "source": [
        "El resultado muestra que para el 85.24% de los registros en el conjunto de prueba, naive bayes predijo correctamente si una persona tiene la enfermedad cardiaca o no."
      ],
      "metadata": {
        "id": "OmKxYC4FiS-R"
      }
    },
    {
      "cell_type": "markdown",
      "source": [
        "## 8.5 Predecir a partir del modelo creado \n",
        "Se intentaran una predicción más para saber como responde el modelo "
      ],
      "metadata": {
        "id": "fZhHN6DxiX2Y"
      }
    },
    {
      "cell_type": "code",
      "source": [
        "# print(nb.predict([[23, 1, 0, 120, 110, 0, 1, 188, 0, 0.2, 0, 0, 3 ]]))"
      ],
      "metadata": {
        "id": "7Wh3zRqIiZnn",
        "colab": {
          "base_uri": "https://localhost:8080/"
        },
        "outputId": "97d65a93-9b5f-483c-cfde-3526ca42a351"
      },
      "execution_count": null,
      "outputs": [
        {
          "output_type": "stream",
          "name": "stdout",
          "text": [
            "[1]\n"
          ]
        },
        {
          "output_type": "stream",
          "name": "stderr",
          "text": [
            "/usr/local/lib/python3.8/dist-packages/sklearn/base.py:450: UserWarning: X does not have valid feature names, but GaussianNB was fitted with feature names\n",
            "  warnings.warn(\n"
          ]
        }
      ]
    },
    {
      "cell_type": "markdown",
      "source": [
        "Entonces bajo este nuevo registro, el modelo nos dice que esta persona, tiene enfermedad cardiaca.\n"
      ],
      "metadata": {
        "id": "QCqdIhYdicc5"
      }
    },
    {
      "cell_type": "markdown",
      "source": [
        "# 9. Análisis de componentes principales\n",
        "Se hace con el objeto de reducir las caracteristicas iniciales tomadas en el muestreo para el fenomeno, buscando nuevas componentes que se escriben en forma de combinación lineal de las caracteristicas iniciales."
      ],
      "metadata": {
        "id": "VMprLCv1jb0m"
      }
    },
    {
      "cell_type": "markdown",
      "source": [
        "## 9.1  Teoría de Análisis de componentes principales - PCA"
      ],
      "metadata": {
        "id": "8R0Y5IU-D1-k"
      }
    },
    {
      "cell_type": "markdown",
      "source": [
        "PCA es una técnica de extracción de características, permitiendo simplificar el modelo pero manteniendo la relevancia y el rendimiento. A veces, puedes tener conjuntos de datos con cientos de características, por lo que, en ese caso, solo deseamos extraer muchas menos variables independientes agrupadas en componentes que expliquen al máximo la varianza. Es importante aclarar que los componentes no corresponden a una de las variables independientes originales, estos son nuevas variables producto de la combinacion lineal de las variables independientes originales."
      ],
      "metadata": {
        "id": "0wEEfe7mEYPj"
      }
    },
    {
      "cell_type": "markdown",
      "source": [
        "## 9.2 Librerias, métodos y visualización.  \n",
        "Se preparan las librerias que se usaran y los metodos sobre los objetos creados."
      ],
      "metadata": {
        "id": "mlvOZjUBguJt"
      }
    },
    {
      "cell_type": "code",
      "execution_count": null,
      "metadata": {
        "id": "RgHQXcSk82hU",
        "colab": {
          "base_uri": "https://localhost:8080/",
          "height": 206
        },
        "outputId": "fc1b0a62-fe77-4acc-fc23-2699c09cba21"
      },
      "outputs": [
        {
          "output_type": "execute_result",
          "data": {
            "text/plain": [
              "  age sex cp trestbps chol fbs restecg thalach exang oldpeak slope ca thal  \\\n",
              "1  63   1  3      145  233   1       0     150     0     2.3     0  0    1   \n",
              "2  37   1  2      130  250   0       1     187     0     3.5     0  0    2   \n",
              "3  41   0  1      130  204   0       0     172     0     1.4     2  0    2   \n",
              "4  56   1  1      120  236   0       1     178     0     0.8     2  0    2   \n",
              "5  57   0  0      120  354   0       1     163     1     0.6     2  0    2   \n",
              "\n",
              "  target  \n",
              "1      1  \n",
              "2      1  \n",
              "3      1  \n",
              "4      1  \n",
              "5      1  "
            ],
            "text/html": [
              "\n",
              "  <div id=\"df-0a99f0c5-b909-4ac1-af5b-b2d1b2822962\">\n",
              "    <div class=\"colab-df-container\">\n",
              "      <div>\n",
              "<style scoped>\n",
              "    .dataframe tbody tr th:only-of-type {\n",
              "        vertical-align: middle;\n",
              "    }\n",
              "\n",
              "    .dataframe tbody tr th {\n",
              "        vertical-align: top;\n",
              "    }\n",
              "\n",
              "    .dataframe thead th {\n",
              "        text-align: right;\n",
              "    }\n",
              "</style>\n",
              "<table border=\"1\" class=\"dataframe\">\n",
              "  <thead>\n",
              "    <tr style=\"text-align: right;\">\n",
              "      <th></th>\n",
              "      <th>age</th>\n",
              "      <th>sex</th>\n",
              "      <th>cp</th>\n",
              "      <th>trestbps</th>\n",
              "      <th>chol</th>\n",
              "      <th>fbs</th>\n",
              "      <th>restecg</th>\n",
              "      <th>thalach</th>\n",
              "      <th>exang</th>\n",
              "      <th>oldpeak</th>\n",
              "      <th>slope</th>\n",
              "      <th>ca</th>\n",
              "      <th>thal</th>\n",
              "      <th>target</th>\n",
              "    </tr>\n",
              "  </thead>\n",
              "  <tbody>\n",
              "    <tr>\n",
              "      <th>1</th>\n",
              "      <td>63</td>\n",
              "      <td>1</td>\n",
              "      <td>3</td>\n",
              "      <td>145</td>\n",
              "      <td>233</td>\n",
              "      <td>1</td>\n",
              "      <td>0</td>\n",
              "      <td>150</td>\n",
              "      <td>0</td>\n",
              "      <td>2.3</td>\n",
              "      <td>0</td>\n",
              "      <td>0</td>\n",
              "      <td>1</td>\n",
              "      <td>1</td>\n",
              "    </tr>\n",
              "    <tr>\n",
              "      <th>2</th>\n",
              "      <td>37</td>\n",
              "      <td>1</td>\n",
              "      <td>2</td>\n",
              "      <td>130</td>\n",
              "      <td>250</td>\n",
              "      <td>0</td>\n",
              "      <td>1</td>\n",
              "      <td>187</td>\n",
              "      <td>0</td>\n",
              "      <td>3.5</td>\n",
              "      <td>0</td>\n",
              "      <td>0</td>\n",
              "      <td>2</td>\n",
              "      <td>1</td>\n",
              "    </tr>\n",
              "    <tr>\n",
              "      <th>3</th>\n",
              "      <td>41</td>\n",
              "      <td>0</td>\n",
              "      <td>1</td>\n",
              "      <td>130</td>\n",
              "      <td>204</td>\n",
              "      <td>0</td>\n",
              "      <td>0</td>\n",
              "      <td>172</td>\n",
              "      <td>0</td>\n",
              "      <td>1.4</td>\n",
              "      <td>2</td>\n",
              "      <td>0</td>\n",
              "      <td>2</td>\n",
              "      <td>1</td>\n",
              "    </tr>\n",
              "    <tr>\n",
              "      <th>4</th>\n",
              "      <td>56</td>\n",
              "      <td>1</td>\n",
              "      <td>1</td>\n",
              "      <td>120</td>\n",
              "      <td>236</td>\n",
              "      <td>0</td>\n",
              "      <td>1</td>\n",
              "      <td>178</td>\n",
              "      <td>0</td>\n",
              "      <td>0.8</td>\n",
              "      <td>2</td>\n",
              "      <td>0</td>\n",
              "      <td>2</td>\n",
              "      <td>1</td>\n",
              "    </tr>\n",
              "    <tr>\n",
              "      <th>5</th>\n",
              "      <td>57</td>\n",
              "      <td>0</td>\n",
              "      <td>0</td>\n",
              "      <td>120</td>\n",
              "      <td>354</td>\n",
              "      <td>0</td>\n",
              "      <td>1</td>\n",
              "      <td>163</td>\n",
              "      <td>1</td>\n",
              "      <td>0.6</td>\n",
              "      <td>2</td>\n",
              "      <td>0</td>\n",
              "      <td>2</td>\n",
              "      <td>1</td>\n",
              "    </tr>\n",
              "  </tbody>\n",
              "</table>\n",
              "</div>\n",
              "      <button class=\"colab-df-convert\" onclick=\"convertToInteractive('df-0a99f0c5-b909-4ac1-af5b-b2d1b2822962')\"\n",
              "              title=\"Convert this dataframe to an interactive table.\"\n",
              "              style=\"display:none;\">\n",
              "        \n",
              "  <svg xmlns=\"http://www.w3.org/2000/svg\" height=\"24px\"viewBox=\"0 0 24 24\"\n",
              "       width=\"24px\">\n",
              "    <path d=\"M0 0h24v24H0V0z\" fill=\"none\"/>\n",
              "    <path d=\"M18.56 5.44l.94 2.06.94-2.06 2.06-.94-2.06-.94-.94-2.06-.94 2.06-2.06.94zm-11 1L8.5 8.5l.94-2.06 2.06-.94-2.06-.94L8.5 2.5l-.94 2.06-2.06.94zm10 10l.94 2.06.94-2.06 2.06-.94-2.06-.94-.94-2.06-.94 2.06-2.06.94z\"/><path d=\"M17.41 7.96l-1.37-1.37c-.4-.4-.92-.59-1.43-.59-.52 0-1.04.2-1.43.59L10.3 9.45l-7.72 7.72c-.78.78-.78 2.05 0 2.83L4 21.41c.39.39.9.59 1.41.59.51 0 1.02-.2 1.41-.59l7.78-7.78 2.81-2.81c.8-.78.8-2.07 0-2.86zM5.41 20L4 18.59l7.72-7.72 1.47 1.35L5.41 20z\"/>\n",
              "  </svg>\n",
              "      </button>\n",
              "      \n",
              "  <style>\n",
              "    .colab-df-container {\n",
              "      display:flex;\n",
              "      flex-wrap:wrap;\n",
              "      gap: 12px;\n",
              "    }\n",
              "\n",
              "    .colab-df-convert {\n",
              "      background-color: #E8F0FE;\n",
              "      border: none;\n",
              "      border-radius: 50%;\n",
              "      cursor: pointer;\n",
              "      display: none;\n",
              "      fill: #1967D2;\n",
              "      height: 32px;\n",
              "      padding: 0 0 0 0;\n",
              "      width: 32px;\n",
              "    }\n",
              "\n",
              "    .colab-df-convert:hover {\n",
              "      background-color: #E2EBFA;\n",
              "      box-shadow: 0px 1px 2px rgba(60, 64, 67, 0.3), 0px 1px 3px 1px rgba(60, 64, 67, 0.15);\n",
              "      fill: #174EA6;\n",
              "    }\n",
              "\n",
              "    [theme=dark] .colab-df-convert {\n",
              "      background-color: #3B4455;\n",
              "      fill: #D2E3FC;\n",
              "    }\n",
              "\n",
              "    [theme=dark] .colab-df-convert:hover {\n",
              "      background-color: #434B5C;\n",
              "      box-shadow: 0px 1px 3px 1px rgba(0, 0, 0, 0.15);\n",
              "      filter: drop-shadow(0px 1px 2px rgba(0, 0, 0, 0.3));\n",
              "      fill: #FFFFFF;\n",
              "    }\n",
              "  </style>\n",
              "\n",
              "      <script>\n",
              "        const buttonEl =\n",
              "          document.querySelector('#df-0a99f0c5-b909-4ac1-af5b-b2d1b2822962 button.colab-df-convert');\n",
              "        buttonEl.style.display =\n",
              "          google.colab.kernel.accessAllowed ? 'block' : 'none';\n",
              "\n",
              "        async function convertToInteractive(key) {\n",
              "          const element = document.querySelector('#df-0a99f0c5-b909-4ac1-af5b-b2d1b2822962');\n",
              "          const dataTable =\n",
              "            await google.colab.kernel.invokeFunction('convertToInteractive',\n",
              "                                                     [key], {});\n",
              "          if (!dataTable) return;\n",
              "\n",
              "          const docLinkHtml = 'Like what you see? Visit the ' +\n",
              "            '<a target=\"_blank\" href=https://colab.research.google.com/notebooks/data_table.ipynb>data table notebook</a>'\n",
              "            + ' to learn more about interactive tables.';\n",
              "          element.innerHTML = '';\n",
              "          dataTable['output_type'] = 'display_data';\n",
              "          await google.colab.output.renderOutput(dataTable, element);\n",
              "          const docLink = document.createElement('div');\n",
              "          docLink.innerHTML = docLinkHtml;\n",
              "          element.appendChild(docLink);\n",
              "        }\n",
              "      </script>\n",
              "    </div>\n",
              "  </div>\n",
              "  "
            ]
          },
          "metadata": {},
          "execution_count": 68
        }
      ],
      "source": [
        "import pandas as pd\n",
        "import numpy as np\n",
        "import seaborn as sns                                                                #Preparacion de librerias\n",
        "from sklearn.naive_bayes import GaussianNB                                           #Importacion de metodos que se utilizaran\n",
        "from sklearn.model_selection import train_test_split\n",
        "import matplotlib.pyplot as plt\n",
        "from matplotlib import colors\n",
        "\n",
        "%matplotlib inline\n",
        "plt.rcParams['figure.figsize']=(16,12)\n",
        "plt.style.use('ggplot')\n",
        "\n",
        "from sklearn.metrics import classification_report\n",
        "from sklearn.metrics import confusion_matrix \n",
        "from sklearn.naive_bayes import GaussianNB\n",
        "from sklearn.feature_selection import SelectKBest\n",
        "\n",
        "dataset = \"/content/heart-disease.csv\"\n",
        "df = pd.read_csv(dataset, names=['age','sex','cp','trestbps','chol','fbs','restecg','thalach','exang','oldpeak','slope','ca','thal','target'])\n",
        "df = df.iloc[1:]\n",
        "df.head()\n"
      ]
    },
    {
      "cell_type": "markdown",
      "source": [
        "## 9.3 Estandarización de los datos del dataframe\n",
        "Se estandarizan los datos para que los muy pequeños y los muy grandes, sean estandar con los mas centrales. (Opcional)"
      ],
      "metadata": {
        "id": "21NYSTC9ixrS"
      }
    },
    {
      "cell_type": "code",
      "source": [
        "from sklearn.preprocessing import StandardScaler\n",
        "features = ['age','sex','cp','trestbps','chol','fbs','restecg','thalach','exang','oldpeak','slope','ca','thal','target']\n",
        "x = df.loc[:, features].values\n",
        "# Se estandariza las variables\n",
        "X_std = StandardScaler().fit_transform(x)\n",
        "print(X_std)\n",
        "print(\"Se han estandarizado los datos\")"
      ],
      "metadata": {
        "id": "PAg82DOajHKV",
        "colab": {
          "base_uri": "https://localhost:8080/"
        },
        "outputId": "7e27c97a-0a21-4f2a-9e3f-8f23ff001859"
      },
      "execution_count": null,
      "outputs": [
        {
          "output_type": "stream",
          "name": "stdout",
          "text": [
            "[[ 0.9521966   0.68100522  1.97312292 ... -0.71442887 -2.14887271\n",
            "   0.91452919]\n",
            " [-1.91531289  0.68100522  1.00257707 ... -0.71442887 -0.51292188\n",
            "   0.91452919]\n",
            " [-1.47415758 -1.46841752  0.03203122 ... -0.71442887 -0.51292188\n",
            "   0.91452919]\n",
            " ...\n",
            " [ 1.50364073  0.68100522 -0.93851463 ...  1.24459328  1.12302895\n",
            "  -1.09345881]\n",
            " [ 0.29046364  0.68100522 -0.93851463 ...  0.26508221  1.12302895\n",
            "  -1.09345881]\n",
            " [ 0.29046364 -1.46841752  0.03203122 ...  0.26508221 -0.51292188\n",
            "  -1.09345881]]\n",
            "Se han estandarizado los datos\n"
          ]
        }
      ]
    },
    {
      "cell_type": "markdown",
      "source": [
        "## 9.4 Matriz de correlación\n",
        "En esta matriz apreciamos que las caracteristicas realmente no son independientes entre si, esta corrlación es la pearson.\n"
      ],
      "metadata": {
        "id": "NzXPxrrKj6PM"
      }
    },
    {
      "cell_type": "code",
      "source": [
        "corr_matrix = df.iloc[:,0:8].corr()\n",
        "corr_matrix"
      ],
      "metadata": {
        "id": "sldVwAmekWS1",
        "colab": {
          "base_uri": "https://localhost:8080/",
          "height": 49
        },
        "outputId": "a41ef86a-02d5-4a79-ad8a-658bbf2b2944"
      },
      "execution_count": null,
      "outputs": [
        {
          "output_type": "execute_result",
          "data": {
            "text/plain": [
              "Empty DataFrame\n",
              "Columns: []\n",
              "Index: []"
            ],
            "text/html": [
              "\n",
              "  <div id=\"df-6517907d-2fbb-4eb3-8255-7b5189025c2f\">\n",
              "    <div class=\"colab-df-container\">\n",
              "      <div>\n",
              "<style scoped>\n",
              "    .dataframe tbody tr th:only-of-type {\n",
              "        vertical-align: middle;\n",
              "    }\n",
              "\n",
              "    .dataframe tbody tr th {\n",
              "        vertical-align: top;\n",
              "    }\n",
              "\n",
              "    .dataframe thead th {\n",
              "        text-align: right;\n",
              "    }\n",
              "</style>\n",
              "<table border=\"1\" class=\"dataframe\">\n",
              "  <thead>\n",
              "    <tr style=\"text-align: right;\">\n",
              "      <th></th>\n",
              "    </tr>\n",
              "  </thead>\n",
              "  <tbody>\n",
              "  </tbody>\n",
              "</table>\n",
              "</div>\n",
              "      <button class=\"colab-df-convert\" onclick=\"convertToInteractive('df-6517907d-2fbb-4eb3-8255-7b5189025c2f')\"\n",
              "              title=\"Convert this dataframe to an interactive table.\"\n",
              "              style=\"display:none;\">\n",
              "        \n",
              "  <svg xmlns=\"http://www.w3.org/2000/svg\" height=\"24px\"viewBox=\"0 0 24 24\"\n",
              "       width=\"24px\">\n",
              "    <path d=\"M0 0h24v24H0V0z\" fill=\"none\"/>\n",
              "    <path d=\"M18.56 5.44l.94 2.06.94-2.06 2.06-.94-2.06-.94-.94-2.06-.94 2.06-2.06.94zm-11 1L8.5 8.5l.94-2.06 2.06-.94-2.06-.94L8.5 2.5l-.94 2.06-2.06.94zm10 10l.94 2.06.94-2.06 2.06-.94-2.06-.94-.94-2.06-.94 2.06-2.06.94z\"/><path d=\"M17.41 7.96l-1.37-1.37c-.4-.4-.92-.59-1.43-.59-.52 0-1.04.2-1.43.59L10.3 9.45l-7.72 7.72c-.78.78-.78 2.05 0 2.83L4 21.41c.39.39.9.59 1.41.59.51 0 1.02-.2 1.41-.59l7.78-7.78 2.81-2.81c.8-.78.8-2.07 0-2.86zM5.41 20L4 18.59l7.72-7.72 1.47 1.35L5.41 20z\"/>\n",
              "  </svg>\n",
              "      </button>\n",
              "      \n",
              "  <style>\n",
              "    .colab-df-container {\n",
              "      display:flex;\n",
              "      flex-wrap:wrap;\n",
              "      gap: 12px;\n",
              "    }\n",
              "\n",
              "    .colab-df-convert {\n",
              "      background-color: #E8F0FE;\n",
              "      border: none;\n",
              "      border-radius: 50%;\n",
              "      cursor: pointer;\n",
              "      display: none;\n",
              "      fill: #1967D2;\n",
              "      height: 32px;\n",
              "      padding: 0 0 0 0;\n",
              "      width: 32px;\n",
              "    }\n",
              "\n",
              "    .colab-df-convert:hover {\n",
              "      background-color: #E2EBFA;\n",
              "      box-shadow: 0px 1px 2px rgba(60, 64, 67, 0.3), 0px 1px 3px 1px rgba(60, 64, 67, 0.15);\n",
              "      fill: #174EA6;\n",
              "    }\n",
              "\n",
              "    [theme=dark] .colab-df-convert {\n",
              "      background-color: #3B4455;\n",
              "      fill: #D2E3FC;\n",
              "    }\n",
              "\n",
              "    [theme=dark] .colab-df-convert:hover {\n",
              "      background-color: #434B5C;\n",
              "      box-shadow: 0px 1px 3px 1px rgba(0, 0, 0, 0.15);\n",
              "      filter: drop-shadow(0px 1px 2px rgba(0, 0, 0, 0.3));\n",
              "      fill: #FFFFFF;\n",
              "    }\n",
              "  </style>\n",
              "\n",
              "      <script>\n",
              "        const buttonEl =\n",
              "          document.querySelector('#df-6517907d-2fbb-4eb3-8255-7b5189025c2f button.colab-df-convert');\n",
              "        buttonEl.style.display =\n",
              "          google.colab.kernel.accessAllowed ? 'block' : 'none';\n",
              "\n",
              "        async function convertToInteractive(key) {\n",
              "          const element = document.querySelector('#df-6517907d-2fbb-4eb3-8255-7b5189025c2f');\n",
              "          const dataTable =\n",
              "            await google.colab.kernel.invokeFunction('convertToInteractive',\n",
              "                                                     [key], {});\n",
              "          if (!dataTable) return;\n",
              "\n",
              "          const docLinkHtml = 'Like what you see? Visit the ' +\n",
              "            '<a target=\"_blank\" href=https://colab.research.google.com/notebooks/data_table.ipynb>data table notebook</a>'\n",
              "            + ' to learn more about interactive tables.';\n",
              "          element.innerHTML = '';\n",
              "          dataTable['output_type'] = 'display_data';\n",
              "          await google.colab.output.renderOutput(dataTable, element);\n",
              "          const docLink = document.createElement('div');\n",
              "          docLink.innerHTML = docLinkHtml;\n",
              "          element.appendChild(docLink);\n",
              "        }\n",
              "      </script>\n",
              "    </div>\n",
              "  </div>\n",
              "  "
            ]
          },
          "metadata": {},
          "execution_count": 70
        }
      ]
    },
    {
      "cell_type": "markdown",
      "source": [
        "## 9.5 Matriz de covarianza\n",
        "Esta matriz se busca con el fin de ver que tan dispersos estan los datos entre si, entonces nos da una idea de cuales caracteristicas pueden \"juntarse\" para crear una nueva componente que explique a estas caracteristicas \"juntadas\"."
      ],
      "metadata": {
        "id": "zt8CwSpGj6He"
      }
    },
    {
      "cell_type": "code",
      "source": [
        "mean_vec = np.mean(X_std, axis=0)\n",
        "cov_mat = (X_std - mean_vec).T.dot((X_std - mean_vec)) / (X_std.shape[0]-1)\n",
        "print('Matriz de covarianza:')\n",
        "print(cov_mat)\n",
        "\n",
        "cov_mat = np.cov(X_std.T)\n",
        "eig_vals, eig_vecs = np.linalg.eig(cov_mat)\n",
        "print('vectores propios')\n",
        "print(eig_vecs)\n",
        "print('Valores propios')\n",
        "print(eig_vals)\n",
        "\n",
        "# Lista ordenada de eigenvalues (de mayor a menor)\n",
        "eig_pairs = [(np.abs(eig_vals[i]), eig_vecs[:,i]) for i in range(len(eig_vals))]\n",
        "#print(eig_pairs)\n",
        "puntuados=sorted(eig_pairs, key=lambda x: (x[0], x[1]), reverse=True)\n",
        "#print(puntuados)\n",
        "print('Valores propios (varianzas) en orden descendente:')\n",
        "for i in puntuados:\n",
        "  print(i[0])\n",
        "\n",
        "\n",
        "  from sklearn.decomposition import PCA\n",
        "num_components=14\n",
        "pca = PCA(num_components)\n",
        "principalComponents = pca.fit_transform(X_std)\n",
        "eigenvalues = pca.explained_variance_\n",
        "print('Eigenvalues (varianzas) en orden descendente:')\n",
        "for eigenvalue in eigenvalues:\n",
        "  print(eigenvalue)\n",
        "  a = range(num_components)\n",
        "  num_pc= a[::1]\n",
        "\n",
        "principalDf = pd.DataFrame(data = principalComponents\n",
        ", columns = num_pc)\n",
        "\n",
        "\n",
        "principalDf=round(principalDf, 2)\n",
        "print('Componentes Principales:')\n",
        "principalDf"
      ],
      "metadata": {
        "id": "3YYV5AKrlXnk",
        "colab": {
          "base_uri": "https://localhost:8080/",
          "height": 1000
        },
        "outputId": "e544646c-f682-4126-9f1c-0e85258dbc26"
      },
      "execution_count": null,
      "outputs": [
        {
          "output_type": "stream",
          "name": "stdout",
          "text": [
            "Matriz de covarianza:\n",
            "[[ 1.00331126 -0.09877258 -0.06888034  0.28027591  0.2143855   0.12170933\n",
            "  -0.1165957  -0.39984155  0.09712136  0.21070797 -0.16937323  0.27724123\n",
            "   0.06822655 -0.2261852 ]\n",
            " [-0.09877258  1.00331126 -0.0495163  -0.0569568  -0.19856751  0.0451809\n",
            "  -0.05838897 -0.04416567  0.1421329   0.09641107 -0.03081226  0.11865301\n",
            "   0.2107366  -0.28186683]\n",
            " [-0.06888034 -0.0495163   1.00331126  0.0477654  -0.07715904  0.09475676\n",
            "   0.04456768  0.29674147 -0.39558583 -0.1497243   0.120113   -0.18165254\n",
            "  -0.16227112  0.43523468]\n",
            " [ 0.28027591 -0.0569568   0.0477654   1.00331126  0.12358207  0.17811839\n",
            "  -0.11448061 -0.04685236  0.06784001  0.19385626 -0.12187682  0.10172471\n",
            "   0.06241588 -0.14541103]\n",
            " [ 0.2143855  -0.19856751 -0.07715904  0.12358207  1.00331126  0.01333762\n",
            "  -0.15154021 -0.00997275  0.06724471  0.05413057 -0.00405114  0.07074441\n",
            "   0.09913015 -0.08552135]\n",
            " [ 0.12170933  0.0451809   0.09475676  0.17811839  0.01333762  1.00331126\n",
            "  -0.08446783 -0.00859548  0.02575013  0.00576625 -0.0600925   0.13843621\n",
            "  -0.03212536 -0.02813863]\n",
            " [-0.1165957  -0.05838897  0.04456768 -0.11448061 -0.15154021 -0.08446783\n",
            "   1.00331126  0.04426955 -0.07096707 -0.05896483  0.09335292 -0.07228098\n",
            "  -0.01202108  0.13768391]\n",
            " [-0.39984155 -0.04416567  0.29674147 -0.04685236 -0.00997275 -0.00859548\n",
            "   0.04426955  1.00331126 -0.38006644 -0.34532664  0.38806515 -0.21388281\n",
            "  -0.09675847  0.42313743]\n",
            " [ 0.09712136  0.1421329  -0.39558583  0.06784001  0.06724471  0.02575013\n",
            "  -0.07096707 -0.38006644  1.00331126  0.28917719 -0.25860184  0.11612262\n",
            "   0.2074384  -0.4382033 ]\n",
            " [ 0.21070797  0.09641107 -0.1497243   0.19385626  0.05413057  0.00576625\n",
            "  -0.05896483 -0.34532664  0.28917719  1.00331126 -0.57944919  0.22341968\n",
            "   0.2109403  -0.43212215]\n",
            " [-0.16937323 -0.03081226  0.120113   -0.12187682 -0.00405114 -0.0600925\n",
            "   0.09335292  0.38806515 -0.25860184 -0.57944919  1.00331126 -0.08042062\n",
            "  -0.10511069  0.34702237]\n",
            " [ 0.27724123  0.11865301 -0.18165254  0.10172471  0.07074441  0.13843621\n",
            "  -0.07228098 -0.21388281  0.11612262  0.22341968 -0.08042062  1.00331126\n",
            "   0.15233488 -0.39302109]\n",
            " [ 0.06822655  0.2107366  -0.16227112  0.06241588  0.09913015 -0.03212536\n",
            "  -0.01202108 -0.09675847  0.2074384   0.2109403  -0.10511069  0.15233488\n",
            "   1.00331126 -0.34516844]\n",
            " [-0.2261852  -0.28186683  0.43523468 -0.14541103 -0.08552135 -0.02813863\n",
            "   0.13768391  0.42313743 -0.4382033  -0.43212215  0.34702237 -0.39302109\n",
            "  -0.34516844  1.00331126]]\n",
            "vectores propios\n",
            "[[ 0.25395987 -0.44468536 -0.06690997 -0.06635435 -0.14797767  0.19228174\n",
            "   0.52479585 -0.30674004 -0.12641772 -0.13050535 -0.21711854  0.25177975\n",
            "   0.39611172 -0.00765511]\n",
            " [ 0.12203775  0.39157094  0.55956069  0.0812111   0.23326173  0.04637046\n",
            "   0.08310562  0.05612852  0.0620435  -0.23921669 -0.15092487  0.16648215\n",
            "   0.23014486  0.53002082]\n",
            " [-0.27455103 -0.26756302  0.22733463  0.37876048 -0.27265906  0.02340343\n",
            "  -0.22270369  0.15936941 -0.19839869  0.53602415 -0.21899636 -0.05151167\n",
            "   0.3122545   0.18222332]\n",
            " [ 0.14736218 -0.44342889  0.19892862  0.08977285  0.16655686  0.00930944\n",
            "  -0.2097804   0.18688032 -0.18134578 -0.04901491  0.32566901  0.60454889\n",
            "  -0.34193253  0.05930643]\n",
            " [ 0.09219679 -0.35896621 -0.1807147  -0.50929857  0.10061315 -0.01407735\n",
            "  -0.1540306   0.32139792 -0.10343411 -0.10217446  0.05236944 -0.37464123\n",
            "   0.12930897  0.50229403]\n",
            " [ 0.05292799 -0.30597443  0.4680359   0.15827931 -0.03571105 -0.12514336\n",
            "   0.01736697 -0.23098765  0.25336908 -0.15526532  0.51510686 -0.4354492\n",
            "   0.15976466 -0.1417612 ]\n",
            " [-0.11192431  0.21329742 -0.20297114  0.19019467 -0.03453417  0.07671593\n",
            "  -0.01345011 -0.39705338 -0.66839228 -0.10115603  0.39438052 -0.09676309\n",
            "   0.00541844  0.27890213]\n",
            " [-0.36644297  0.00222996  0.267379   -0.12648021 -0.246958    0.33364726\n",
            "   0.55579052  0.32245069 -0.12342603 -0.01711412  0.09422371 -0.13288503\n",
            "  -0.38794578  0.021775  ]\n",
            " [ 0.33567328  0.20511511 -0.12227031 -0.10043565  0.01104909  0.14883112\n",
            "   0.2357403   0.03909709  0.23740956  0.64855371  0.45981215  0.1063909\n",
            "   0.10462192  0.17367162]\n",
            " [ 0.36977228 -0.02602444 -0.08854878  0.36991149  0.00100401 -0.61531822\n",
            "   0.37937701  0.24936586 -0.17123126  0.02922501 -0.11263292 -0.18972014\n",
            "  -0.21412141  0.09211896]\n",
            " [-0.32546054  0.03948423  0.19584514 -0.49776365 -0.16537084 -0.63586253\n",
            "   0.09476727 -0.24444072 -0.06106119  0.16371979  0.05687252  0.26071906\n",
            "   0.03568829  0.0545573 ]\n",
            " [ 0.26157569 -0.09316679  0.30462138 -0.19246754  0.26296559  0.1399123\n",
            "  -0.06708987 -0.43213866 -0.1772099   0.34838491 -0.3319638  -0.25648538\n",
            "  -0.42930891 -0.004764  ]\n",
            " [ 0.22260161  0.19208883  0.24107941 -0.23576839  0.13495904  0.00722222\n",
            "  -0.03503987  0.33747965 -0.50005933  0.04835153  0.07296542 -0.04873436\n",
            "   0.34578576 -0.53553151]\n",
            " [-0.43829464 -0.15114056 -0.12123259  0.11641992  0.79573415 -0.04962147\n",
            "   0.27705034  0.0077465   0.01301936  0.13768406  0.02641932 -0.01781239\n",
            "   0.14487914 -0.05656626]]\n",
            "Valores propios\n",
            "[3.31240732 1.57737062 1.23610856 1.2106344  0.3691578  0.37310751\n",
            " 0.43145758 1.02541325 0.97338089 0.53617184 0.86609311 0.77866275\n",
            " 0.73160926 0.62478273]\n",
            "Valores propios (varianzas) en orden descendente:\n",
            "3.312407320798581\n",
            "1.5773706171661341\n",
            "1.2361085601741693\n",
            "1.2106343999549514\n",
            "1.0254132505409845\n",
            "0.9733808930727532\n",
            "0.8660931071065054\n",
            "0.7786627475327998\n",
            "0.7316092582337478\n",
            "0.6247827338478931\n",
            "0.5361718368257827\n",
            "0.4314575768596028\n",
            "0.37310751232803496\n",
            "0.36915780145209337\n",
            "Eigenvalues (varianzas) en orden descendente:\n",
            "3.312407320798585\n",
            "1.5773706171661397\n",
            "1.2361085601741721\n",
            "1.2106343999549538\n",
            "1.0254132505409872\n",
            "0.9733808930727542\n",
            "0.8660931071065057\n",
            "0.7786627475328005\n",
            "0.7316092582337486\n",
            "0.6247827338478933\n",
            "0.536171836825783\n",
            "0.43145757685960195\n",
            "0.37310751232803524\n",
            "0.3691578014520934\n",
            "Componentes Principales:\n"
          ]
        },
        {
          "output_type": "execute_result",
          "data": {
            "text/plain": [
              "       0     1     2     3     4     5     6     7     8     9     10    11  \\\n",
              "0   -0.05  2.62  0.99  3.48  0.36  1.70 -0.14  0.74 -0.54  0.97 -0.53 -0.47   \n",
              "1   -0.82 -0.73 -0.24  2.77  2.26 -0.81 -0.10  1.50  1.29  1.11 -0.34 -0.47   \n",
              "2   -2.06 -0.04 -0.52  0.08  0.86  0.75 -0.13 -0.10  1.28 -1.19  0.37 -0.16   \n",
              "3   -1.90 -0.60  0.08 -0.08 -0.24 -0.50 -0.14 -0.17 -0.16  0.70 -0.61 -1.15   \n",
              "4   -0.77  0.41 -2.19 -1.99  0.02 -0.07  1.43  0.62 -0.22  0.87  0.53 -0.97   \n",
              "..    ...   ...   ...   ...   ...   ...   ...   ...   ...   ...   ...   ...   \n",
              "298  1.49 -0.42 -1.68 -0.49 -0.19 -0.53  1.54 -0.72 -0.52 -1.08  0.25  0.80   \n",
              "299 -0.14 -1.22  0.14  0.98  0.88 -1.24 -0.71  1.05 -1.48  0.44  0.14  1.63   \n",
              "300  2.68  0.59  1.79  1.30 -1.33 -1.20  0.56  0.71  0.22 -0.91 -1.41 -1.01   \n",
              "301  2.17 -2.17 -0.08  0.89 -1.18 -0.35  0.46 -1.16 -0.46 -0.97  0.35  0.11   \n",
              "302 -0.37  0.79 -0.40 -0.42  0.20  0.56 -0.81  0.11  1.05 -0.98 -0.16  0.20   \n",
              "\n",
              "       12    13  \n",
              "0    0.41  0.15  \n",
              "1    0.24  0.58  \n",
              "2   -1.10 -0.12  \n",
              "3   -0.15 -0.03  \n",
              "4   -0.08  0.13  \n",
              "..    ...   ...  \n",
              "298  0.74 -0.57  \n",
              "299 -0.09 -1.03  \n",
              "300 -0.74 -0.11  \n",
              "301  0.35 -0.04  \n",
              "302  1.27 -1.41  \n",
              "\n",
              "[303 rows x 14 columns]"
            ],
            "text/html": [
              "\n",
              "  <div id=\"df-b88671a6-49b0-4c20-8f7f-551e4a579b10\">\n",
              "    <div class=\"colab-df-container\">\n",
              "      <div>\n",
              "<style scoped>\n",
              "    .dataframe tbody tr th:only-of-type {\n",
              "        vertical-align: middle;\n",
              "    }\n",
              "\n",
              "    .dataframe tbody tr th {\n",
              "        vertical-align: top;\n",
              "    }\n",
              "\n",
              "    .dataframe thead th {\n",
              "        text-align: right;\n",
              "    }\n",
              "</style>\n",
              "<table border=\"1\" class=\"dataframe\">\n",
              "  <thead>\n",
              "    <tr style=\"text-align: right;\">\n",
              "      <th></th>\n",
              "      <th>0</th>\n",
              "      <th>1</th>\n",
              "      <th>2</th>\n",
              "      <th>3</th>\n",
              "      <th>4</th>\n",
              "      <th>5</th>\n",
              "      <th>6</th>\n",
              "      <th>7</th>\n",
              "      <th>8</th>\n",
              "      <th>9</th>\n",
              "      <th>10</th>\n",
              "      <th>11</th>\n",
              "      <th>12</th>\n",
              "      <th>13</th>\n",
              "    </tr>\n",
              "  </thead>\n",
              "  <tbody>\n",
              "    <tr>\n",
              "      <th>0</th>\n",
              "      <td>-0.05</td>\n",
              "      <td>2.62</td>\n",
              "      <td>0.99</td>\n",
              "      <td>3.48</td>\n",
              "      <td>0.36</td>\n",
              "      <td>1.70</td>\n",
              "      <td>-0.14</td>\n",
              "      <td>0.74</td>\n",
              "      <td>-0.54</td>\n",
              "      <td>0.97</td>\n",
              "      <td>-0.53</td>\n",
              "      <td>-0.47</td>\n",
              "      <td>0.41</td>\n",
              "      <td>0.15</td>\n",
              "    </tr>\n",
              "    <tr>\n",
              "      <th>1</th>\n",
              "      <td>-0.82</td>\n",
              "      <td>-0.73</td>\n",
              "      <td>-0.24</td>\n",
              "      <td>2.77</td>\n",
              "      <td>2.26</td>\n",
              "      <td>-0.81</td>\n",
              "      <td>-0.10</td>\n",
              "      <td>1.50</td>\n",
              "      <td>1.29</td>\n",
              "      <td>1.11</td>\n",
              "      <td>-0.34</td>\n",
              "      <td>-0.47</td>\n",
              "      <td>0.24</td>\n",
              "      <td>0.58</td>\n",
              "    </tr>\n",
              "    <tr>\n",
              "      <th>2</th>\n",
              "      <td>-2.06</td>\n",
              "      <td>-0.04</td>\n",
              "      <td>-0.52</td>\n",
              "      <td>0.08</td>\n",
              "      <td>0.86</td>\n",
              "      <td>0.75</td>\n",
              "      <td>-0.13</td>\n",
              "      <td>-0.10</td>\n",
              "      <td>1.28</td>\n",
              "      <td>-1.19</td>\n",
              "      <td>0.37</td>\n",
              "      <td>-0.16</td>\n",
              "      <td>-1.10</td>\n",
              "      <td>-0.12</td>\n",
              "    </tr>\n",
              "    <tr>\n",
              "      <th>3</th>\n",
              "      <td>-1.90</td>\n",
              "      <td>-0.60</td>\n",
              "      <td>0.08</td>\n",
              "      <td>-0.08</td>\n",
              "      <td>-0.24</td>\n",
              "      <td>-0.50</td>\n",
              "      <td>-0.14</td>\n",
              "      <td>-0.17</td>\n",
              "      <td>-0.16</td>\n",
              "      <td>0.70</td>\n",
              "      <td>-0.61</td>\n",
              "      <td>-1.15</td>\n",
              "      <td>-0.15</td>\n",
              "      <td>-0.03</td>\n",
              "    </tr>\n",
              "    <tr>\n",
              "      <th>4</th>\n",
              "      <td>-0.77</td>\n",
              "      <td>0.41</td>\n",
              "      <td>-2.19</td>\n",
              "      <td>-1.99</td>\n",
              "      <td>0.02</td>\n",
              "      <td>-0.07</td>\n",
              "      <td>1.43</td>\n",
              "      <td>0.62</td>\n",
              "      <td>-0.22</td>\n",
              "      <td>0.87</td>\n",
              "      <td>0.53</td>\n",
              "      <td>-0.97</td>\n",
              "      <td>-0.08</td>\n",
              "      <td>0.13</td>\n",
              "    </tr>\n",
              "    <tr>\n",
              "      <th>...</th>\n",
              "      <td>...</td>\n",
              "      <td>...</td>\n",
              "      <td>...</td>\n",
              "      <td>...</td>\n",
              "      <td>...</td>\n",
              "      <td>...</td>\n",
              "      <td>...</td>\n",
              "      <td>...</td>\n",
              "      <td>...</td>\n",
              "      <td>...</td>\n",
              "      <td>...</td>\n",
              "      <td>...</td>\n",
              "      <td>...</td>\n",
              "      <td>...</td>\n",
              "    </tr>\n",
              "    <tr>\n",
              "      <th>298</th>\n",
              "      <td>1.49</td>\n",
              "      <td>-0.42</td>\n",
              "      <td>-1.68</td>\n",
              "      <td>-0.49</td>\n",
              "      <td>-0.19</td>\n",
              "      <td>-0.53</td>\n",
              "      <td>1.54</td>\n",
              "      <td>-0.72</td>\n",
              "      <td>-0.52</td>\n",
              "      <td>-1.08</td>\n",
              "      <td>0.25</td>\n",
              "      <td>0.80</td>\n",
              "      <td>0.74</td>\n",
              "      <td>-0.57</td>\n",
              "    </tr>\n",
              "    <tr>\n",
              "      <th>299</th>\n",
              "      <td>-0.14</td>\n",
              "      <td>-1.22</td>\n",
              "      <td>0.14</td>\n",
              "      <td>0.98</td>\n",
              "      <td>0.88</td>\n",
              "      <td>-1.24</td>\n",
              "      <td>-0.71</td>\n",
              "      <td>1.05</td>\n",
              "      <td>-1.48</td>\n",
              "      <td>0.44</td>\n",
              "      <td>0.14</td>\n",
              "      <td>1.63</td>\n",
              "      <td>-0.09</td>\n",
              "      <td>-1.03</td>\n",
              "    </tr>\n",
              "    <tr>\n",
              "      <th>300</th>\n",
              "      <td>2.68</td>\n",
              "      <td>0.59</td>\n",
              "      <td>1.79</td>\n",
              "      <td>1.30</td>\n",
              "      <td>-1.33</td>\n",
              "      <td>-1.20</td>\n",
              "      <td>0.56</td>\n",
              "      <td>0.71</td>\n",
              "      <td>0.22</td>\n",
              "      <td>-0.91</td>\n",
              "      <td>-1.41</td>\n",
              "      <td>-1.01</td>\n",
              "      <td>-0.74</td>\n",
              "      <td>-0.11</td>\n",
              "    </tr>\n",
              "    <tr>\n",
              "      <th>301</th>\n",
              "      <td>2.17</td>\n",
              "      <td>-2.17</td>\n",
              "      <td>-0.08</td>\n",
              "      <td>0.89</td>\n",
              "      <td>-1.18</td>\n",
              "      <td>-0.35</td>\n",
              "      <td>0.46</td>\n",
              "      <td>-1.16</td>\n",
              "      <td>-0.46</td>\n",
              "      <td>-0.97</td>\n",
              "      <td>0.35</td>\n",
              "      <td>0.11</td>\n",
              "      <td>0.35</td>\n",
              "      <td>-0.04</td>\n",
              "    </tr>\n",
              "    <tr>\n",
              "      <th>302</th>\n",
              "      <td>-0.37</td>\n",
              "      <td>0.79</td>\n",
              "      <td>-0.40</td>\n",
              "      <td>-0.42</td>\n",
              "      <td>0.20</td>\n",
              "      <td>0.56</td>\n",
              "      <td>-0.81</td>\n",
              "      <td>0.11</td>\n",
              "      <td>1.05</td>\n",
              "      <td>-0.98</td>\n",
              "      <td>-0.16</td>\n",
              "      <td>0.20</td>\n",
              "      <td>1.27</td>\n",
              "      <td>-1.41</td>\n",
              "    </tr>\n",
              "  </tbody>\n",
              "</table>\n",
              "<p>303 rows × 14 columns</p>\n",
              "</div>\n",
              "      <button class=\"colab-df-convert\" onclick=\"convertToInteractive('df-b88671a6-49b0-4c20-8f7f-551e4a579b10')\"\n",
              "              title=\"Convert this dataframe to an interactive table.\"\n",
              "              style=\"display:none;\">\n",
              "        \n",
              "  <svg xmlns=\"http://www.w3.org/2000/svg\" height=\"24px\"viewBox=\"0 0 24 24\"\n",
              "       width=\"24px\">\n",
              "    <path d=\"M0 0h24v24H0V0z\" fill=\"none\"/>\n",
              "    <path d=\"M18.56 5.44l.94 2.06.94-2.06 2.06-.94-2.06-.94-.94-2.06-.94 2.06-2.06.94zm-11 1L8.5 8.5l.94-2.06 2.06-.94-2.06-.94L8.5 2.5l-.94 2.06-2.06.94zm10 10l.94 2.06.94-2.06 2.06-.94-2.06-.94-.94-2.06-.94 2.06-2.06.94z\"/><path d=\"M17.41 7.96l-1.37-1.37c-.4-.4-.92-.59-1.43-.59-.52 0-1.04.2-1.43.59L10.3 9.45l-7.72 7.72c-.78.78-.78 2.05 0 2.83L4 21.41c.39.39.9.59 1.41.59.51 0 1.02-.2 1.41-.59l7.78-7.78 2.81-2.81c.8-.78.8-2.07 0-2.86zM5.41 20L4 18.59l7.72-7.72 1.47 1.35L5.41 20z\"/>\n",
              "  </svg>\n",
              "      </button>\n",
              "      \n",
              "  <style>\n",
              "    .colab-df-container {\n",
              "      display:flex;\n",
              "      flex-wrap:wrap;\n",
              "      gap: 12px;\n",
              "    }\n",
              "\n",
              "    .colab-df-convert {\n",
              "      background-color: #E8F0FE;\n",
              "      border: none;\n",
              "      border-radius: 50%;\n",
              "      cursor: pointer;\n",
              "      display: none;\n",
              "      fill: #1967D2;\n",
              "      height: 32px;\n",
              "      padding: 0 0 0 0;\n",
              "      width: 32px;\n",
              "    }\n",
              "\n",
              "    .colab-df-convert:hover {\n",
              "      background-color: #E2EBFA;\n",
              "      box-shadow: 0px 1px 2px rgba(60, 64, 67, 0.3), 0px 1px 3px 1px rgba(60, 64, 67, 0.15);\n",
              "      fill: #174EA6;\n",
              "    }\n",
              "\n",
              "    [theme=dark] .colab-df-convert {\n",
              "      background-color: #3B4455;\n",
              "      fill: #D2E3FC;\n",
              "    }\n",
              "\n",
              "    [theme=dark] .colab-df-convert:hover {\n",
              "      background-color: #434B5C;\n",
              "      box-shadow: 0px 1px 3px 1px rgba(0, 0, 0, 0.15);\n",
              "      filter: drop-shadow(0px 1px 2px rgba(0, 0, 0, 0.3));\n",
              "      fill: #FFFFFF;\n",
              "    }\n",
              "  </style>\n",
              "\n",
              "      <script>\n",
              "        const buttonEl =\n",
              "          document.querySelector('#df-b88671a6-49b0-4c20-8f7f-551e4a579b10 button.colab-df-convert');\n",
              "        buttonEl.style.display =\n",
              "          google.colab.kernel.accessAllowed ? 'block' : 'none';\n",
              "\n",
              "        async function convertToInteractive(key) {\n",
              "          const element = document.querySelector('#df-b88671a6-49b0-4c20-8f7f-551e4a579b10');\n",
              "          const dataTable =\n",
              "            await google.colab.kernel.invokeFunction('convertToInteractive',\n",
              "                                                     [key], {});\n",
              "          if (!dataTable) return;\n",
              "\n",
              "          const docLinkHtml = 'Like what you see? Visit the ' +\n",
              "            '<a target=\"_blank\" href=https://colab.research.google.com/notebooks/data_table.ipynb>data table notebook</a>'\n",
              "            + ' to learn more about interactive tables.';\n",
              "          element.innerHTML = '';\n",
              "          dataTable['output_type'] = 'display_data';\n",
              "          await google.colab.output.renderOutput(dataTable, element);\n",
              "          const docLink = document.createElement('div');\n",
              "          docLink.innerHTML = docLinkHtml;\n",
              "          element.appendChild(docLink);\n",
              "        }\n",
              "      </script>\n",
              "    </div>\n",
              "  </div>\n",
              "  "
            ]
          },
          "metadata": {},
          "execution_count": 71
        }
      ]
    },
    {
      "cell_type": "markdown",
      "source": [
        "Aqui buscamos ver que tan dispersos quedaron nuestras nuevas componentes, con respecto a matriz de covarianza (varianza total)."
      ],
      "metadata": {
        "id": "-Z52VxxMmOpj"
      }
    },
    {
      "cell_type": "code",
      "source": [
        "print('Varianza de cada dimensión con respecto a la varianza total:')\n",
        "explained_variance_ratio_=pca.explained_variance_ratio_\n",
        "for varianza in explained_variance_ratio_:\n",
        "  print(varianza)"
      ],
      "metadata": {
        "id": "Ue58oPAomEZ6",
        "colab": {
          "base_uri": "https://localhost:8080/"
        },
        "outputId": "d2a1d803-8647-4dad-8b2d-53e3c7785c09"
      },
      "execution_count": null,
      "outputs": [
        {
          "output_type": "stream",
          "name": "stdout",
          "text": [
            "Varianza de cada dimensión con respecto a la varianza total:\n",
            "0.23581966310258645\n",
            "0.11229748382465199\n",
            "0.08800207099778398\n",
            "0.08618849334898532\n",
            "0.07300207488528473\n",
            "0.0692977439198424\n",
            "0.061659622429553154\n",
            "0.055435207391538316\n",
            "0.05208533615902684\n",
            "0.04448005318766233\n",
            "0.03817159234356113\n",
            "0.030716687461480357\n",
            "0.026562581028539967\n",
            "0.02628138991950309\n"
          ]
        }
      ]
    },
    {
      "cell_type": "markdown",
      "source": [
        "## 9.6 Varianza "
      ],
      "metadata": {
        "id": "1LMYY4ezJfuC"
      }
    },
    {
      "cell_type": "code",
      "source": [
        "explained_variance_ratio_cumsum=explained_variance_ratio_.cumsum()\n",
        "#print(explained_variance_ratio_cumsum.round(3))\n",
        "num_pc= num_components\n",
        "a = range(1,num_pc+1)\n",
        "num_pc= a[::1]\n",
        "num_pc\n",
        "#Visualización de varianza por componente y varianza acumulada\n",
        "plt.plot(num_pc, explained_variance_ratio_, color='blue', linestyle='dashed', linewidth = 3, \n",
        " marker='o', markerfacecolor='blue', markersize=5, label = 'varianza explicada')\n",
        "plt.plot(num_pc, explained_variance_ratio_cumsum, color='orange', linestyle='dashed', linewidth = 3, \n",
        " marker='o', markerfacecolor='blue', markersize=5, label = 'varianza explicada acumulativa')\n",
        "plt.ylim((0,1.2))\n",
        "plt.title('Varianza con '+str(num_components)+' componentes principales')\n",
        "plt.xlabel('ID Componente Principal')\n",
        "plt.ylabel('Varianza')\n",
        "plt.legend(loc=\"upper right\")\n",
        "plt.show()"
      ],
      "metadata": {
        "id": "nSgGZEeWj5e7",
        "colab": {
          "base_uri": "https://localhost:8080/",
          "height": 734
        },
        "outputId": "ea547960-e35c-49d3-9834-a819b27d9d75"
      },
      "execution_count": null,
      "outputs": [
        {
          "output_type": "display_data",
          "data": {
            "text/plain": [
              "<Figure size 1152x864 with 1 Axes>"
            ],
            "image/png": "[encoded data removed]"
          },
          "metadata": {}
        }
      ]
    },
    {
      "cell_type": "markdown",
      "source": [
        "El grafico entonces nos indica que necesitamos al menos 9 o 10 caracteristicas iniciales para poder explicar al menos el 80% aproximadamente del fenomeno."
      ],
      "metadata": {
        "id": "00QYnC4Cmon4"
      }
    },
    {
      "cell_type": "code",
      "source": [
        "correl=principalDf.corr()\n",
        "correl=round(correl,5)\n",
        "correl"
      ],
      "metadata": {
        "id": "3ZL3m3T5nQ88",
        "colab": {
          "base_uri": "https://localhost:8080/",
          "height": 488
        },
        "outputId": "6795102f-6dc4-4086-e9ec-5960c1a68e70"
      },
      "execution_count": null,
      "outputs": [
        {
          "output_type": "execute_result",
          "data": {
            "text/plain": [
              "         0        1        2        3        4        5        6        7   \\\n",
              "0   1.00000 -0.00004  0.00004 -0.00023 -0.00013  0.00007  0.00030 -0.00009   \n",
              "1  -0.00004  1.00000  0.00003 -0.00001  0.00000 -0.00007  0.00003 -0.00023   \n",
              "2   0.00004  0.00003  1.00000  0.00017 -0.00009 -0.00009  0.00037  0.00031   \n",
              "3  -0.00023 -0.00001  0.00017  1.00000 -0.00003  0.00009  0.00017  0.00012   \n",
              "4  -0.00013  0.00000 -0.00009 -0.00003  1.00000 -0.00014  0.00012 -0.00004   \n",
              "5   0.00007 -0.00007 -0.00009  0.00009 -0.00014  1.00000  0.00009 -0.00013   \n",
              "6   0.00030  0.00003  0.00037  0.00017  0.00012  0.00009  1.00000  0.00021   \n",
              "7  -0.00009 -0.00023  0.00031  0.00012 -0.00004 -0.00013  0.00021  1.00000   \n",
              "8  -0.00028 -0.00008  0.00002 -0.00029  0.00035 -0.00003  0.00028 -0.00038   \n",
              "9   0.00011 -0.00004  0.00017  0.00006  0.00035 -0.00001 -0.00060 -0.00000   \n",
              "10 -0.00015 -0.00054 -0.00038  0.00042 -0.00028 -0.00031  0.00010  0.00023   \n",
              "11  0.00038  0.00010  0.00019  0.00011 -0.00034 -0.00015  0.00008 -0.00006   \n",
              "12 -0.00025 -0.00005 -0.00011  0.00021  0.00015 -0.00040  0.00032 -0.00004   \n",
              "13 -0.00036  0.00019 -0.00041 -0.00005 -0.00024  0.00085 -0.00044  0.00009   \n",
              "\n",
              "         8        9        10       11       12       13  \n",
              "0  -0.00028  0.00011 -0.00015  0.00038 -0.00025 -0.00036  \n",
              "1  -0.00008 -0.00004 -0.00054  0.00010 -0.00005  0.00019  \n",
              "2   0.00002  0.00017 -0.00038  0.00019 -0.00011 -0.00041  \n",
              "3  -0.00029  0.00006  0.00042  0.00011  0.00021 -0.00005  \n",
              "4   0.00035  0.00035 -0.00028 -0.00034  0.00015 -0.00024  \n",
              "5  -0.00003 -0.00001 -0.00031 -0.00015 -0.00040  0.00085  \n",
              "6   0.00028 -0.00060  0.00010  0.00008  0.00032 -0.00044  \n",
              "7  -0.00038 -0.00000  0.00023 -0.00006 -0.00004  0.00009  \n",
              "8   1.00000  0.00036 -0.00001  0.00023  0.00014 -0.00014  \n",
              "9   0.00036  1.00000  0.00015 -0.00064  0.00035  0.00014  \n",
              "10 -0.00001  0.00015  1.00000  0.00035  0.00049 -0.00038  \n",
              "11  0.00023 -0.00064  0.00035  1.00000 -0.00029  0.00014  \n",
              "12  0.00014  0.00035  0.00049 -0.00029  1.00000 -0.00011  \n",
              "13 -0.00014  0.00014 -0.00038  0.00014 -0.00011  1.00000  "
            ],
            "text/html": [
              "\n",
              "  <div id=\"df-0284ea88-24a7-413a-9952-45623c50172c\">\n",
              "    <div class=\"colab-df-container\">\n",
              "      <div>\n",
              "<style scoped>\n",
              "    .dataframe tbody tr th:only-of-type {\n",
              "        vertical-align: middle;\n",
              "    }\n",
              "\n",
              "    .dataframe tbody tr th {\n",
              "        vertical-align: top;\n",
              "    }\n",
              "\n",
              "    .dataframe thead th {\n",
              "        text-align: right;\n",
              "    }\n",
              "</style>\n",
              "<table border=\"1\" class=\"dataframe\">\n",
              "  <thead>\n",
              "    <tr style=\"text-align: right;\">\n",
              "      <th></th>\n",
              "      <th>0</th>\n",
              "      <th>1</th>\n",
              "      <th>2</th>\n",
              "      <th>3</th>\n",
              "      <th>4</th>\n",
              "      <th>5</th>\n",
              "      <th>6</th>\n",
              "      <th>7</th>\n",
              "      <th>8</th>\n",
              "      <th>9</th>\n",
              "      <th>10</th>\n",
              "      <th>11</th>\n",
              "      <th>12</th>\n",
              "      <th>13</th>\n",
              "    </tr>\n",
              "  </thead>\n",
              "  <tbody>\n",
              "    <tr>\n",
              "      <th>0</th>\n",
              "      <td>1.00000</td>\n",
              "      <td>-0.00004</td>\n",
              "      <td>0.00004</td>\n",
              "      <td>-0.00023</td>\n",
              "      <td>-0.00013</td>\n",
              "      <td>0.00007</td>\n",
              "      <td>0.00030</td>\n",
              "      <td>-0.00009</td>\n",
              "      <td>-0.00028</td>\n",
              "      <td>0.00011</td>\n",
              "      <td>-0.00015</td>\n",
              "      <td>0.00038</td>\n",
              "      <td>-0.00025</td>\n",
              "      <td>-0.00036</td>\n",
              "    </tr>\n",
              "    <tr>\n",
              "      <th>1</th>\n",
              "      <td>-0.00004</td>\n",
              "      <td>1.00000</td>\n",
              "      <td>0.00003</td>\n",
              "      <td>-0.00001</td>\n",
              "      <td>0.00000</td>\n",
              "      <td>-0.00007</td>\n",
              "      <td>0.00003</td>\n",
              "      <td>-0.00023</td>\n",
              "      <td>-0.00008</td>\n",
              "      <td>-0.00004</td>\n",
              "      <td>-0.00054</td>\n",
              "      <td>0.00010</td>\n",
              "      <td>-0.00005</td>\n",
              "      <td>0.00019</td>\n",
              "    </tr>\n",
              "    <tr>\n",
              "      <th>2</th>\n",
              "      <td>0.00004</td>\n",
              "      <td>0.00003</td>\n",
              "      <td>1.00000</td>\n",
              "      <td>0.00017</td>\n",
              "      <td>-0.00009</td>\n",
              "      <td>-0.00009</td>\n",
              "      <td>0.00037</td>\n",
              "      <td>0.00031</td>\n",
              "      <td>0.00002</td>\n",
              "      <td>0.00017</td>\n",
              "      <td>-0.00038</td>\n",
              "      <td>0.00019</td>\n",
              "      <td>-0.00011</td>\n",
              "      <td>-0.00041</td>\n",
              "    </tr>\n",
              "    <tr>\n",
              "      <th>3</th>\n",
              "      <td>-0.00023</td>\n",
              "      <td>-0.00001</td>\n",
              "      <td>0.00017</td>\n",
              "      <td>1.00000</td>\n",
              "      <td>-0.00003</td>\n",
              "      <td>0.00009</td>\n",
              "      <td>0.00017</td>\n",
              "      <td>0.00012</td>\n",
              "      <td>-0.00029</td>\n",
              "      <td>0.00006</td>\n",
              "      <td>0.00042</td>\n",
              "      <td>0.00011</td>\n",
              "      <td>0.00021</td>\n",
              "      <td>-0.00005</td>\n",
              "    </tr>\n",
              "    <tr>\n",
              "      <th>4</th>\n",
              "      <td>-0.00013</td>\n",
              "      <td>0.00000</td>\n",
              "      <td>-0.00009</td>\n",
              "      <td>-0.00003</td>\n",
              "      <td>1.00000</td>\n",
              "      <td>-0.00014</td>\n",
              "      <td>0.00012</td>\n",
              "      <td>-0.00004</td>\n",
              "      <td>0.00035</td>\n",
              "      <td>0.00035</td>\n",
              "      <td>-0.00028</td>\n",
              "      <td>-0.00034</td>\n",
              "      <td>0.00015</td>\n",
              "      <td>-0.00024</td>\n",
              "    </tr>\n",
              "    <tr>\n",
              "      <th>5</th>\n",
              "      <td>0.00007</td>\n",
              "      <td>-0.00007</td>\n",
              "      <td>-0.00009</td>\n",
              "      <td>0.00009</td>\n",
              "      <td>-0.00014</td>\n",
              "      <td>1.00000</td>\n",
              "      <td>0.00009</td>\n",
              "      <td>-0.00013</td>\n",
              "      <td>-0.00003</td>\n",
              "      <td>-0.00001</td>\n",
              "      <td>-0.00031</td>\n",
              "      <td>-0.00015</td>\n",
              "      <td>-0.00040</td>\n",
              "      <td>0.00085</td>\n",
              "    </tr>\n",
              "    <tr>\n",
              "      <th>6</th>\n",
              "      <td>0.00030</td>\n",
              "      <td>0.00003</td>\n",
              "      <td>0.00037</td>\n",
              "      <td>0.00017</td>\n",
              "      <td>0.00012</td>\n",
              "      <td>0.00009</td>\n",
              "      <td>1.00000</td>\n",
              "      <td>0.00021</td>\n",
              "      <td>0.00028</td>\n",
              "      <td>-0.00060</td>\n",
              "      <td>0.00010</td>\n",
              "      <td>0.00008</td>\n",
              "      <td>0.00032</td>\n",
              "      <td>-0.00044</td>\n",
              "    </tr>\n",
              "    <tr>\n",
              "      <th>7</th>\n",
              "      <td>-0.00009</td>\n",
              "      <td>-0.00023</td>\n",
              "      <td>0.00031</td>\n",
              "      <td>0.00012</td>\n",
              "      <td>-0.00004</td>\n",
              "      <td>-0.00013</td>\n",
              "      <td>0.00021</td>\n",
              "      <td>1.00000</td>\n",
              "      <td>-0.00038</td>\n",
              "      <td>-0.00000</td>\n",
              "      <td>0.00023</td>\n",
              "      <td>-0.00006</td>\n",
              "      <td>-0.00004</td>\n",
              "      <td>0.00009</td>\n",
              "    </tr>\n",
              "    <tr>\n",
              "      <th>8</th>\n",
              "      <td>-0.00028</td>\n",
              "      <td>-0.00008</td>\n",
              "      <td>0.00002</td>\n",
              "      <td>-0.00029</td>\n",
              "      <td>0.00035</td>\n",
              "      <td>-0.00003</td>\n",
              "      <td>0.00028</td>\n",
              "      <td>-0.00038</td>\n",
              "      <td>1.00000</td>\n",
              "      <td>0.00036</td>\n",
              "      <td>-0.00001</td>\n",
              "      <td>0.00023</td>\n",
              "      <td>0.00014</td>\n",
              "      <td>-0.00014</td>\n",
              "    </tr>\n",
              "    <tr>\n",
              "      <th>9</th>\n",
              "      <td>0.00011</td>\n",
              "      <td>-0.00004</td>\n",
              "      <td>0.00017</td>\n",
              "      <td>0.00006</td>\n",
              "      <td>0.00035</td>\n",
              "      <td>-0.00001</td>\n",
              "      <td>-0.00060</td>\n",
              "      <td>-0.00000</td>\n",
              "      <td>0.00036</td>\n",
              "      <td>1.00000</td>\n",
              "      <td>0.00015</td>\n",
              "      <td>-0.00064</td>\n",
              "      <td>0.00035</td>\n",
              "      <td>0.00014</td>\n",
              "    </tr>\n",
              "    <tr>\n",
              "      <th>10</th>\n",
              "      <td>-0.00015</td>\n",
              "      <td>-0.00054</td>\n",
              "      <td>-0.00038</td>\n",
              "      <td>0.00042</td>\n",
              "      <td>-0.00028</td>\n",
              "      <td>-0.00031</td>\n",
              "      <td>0.00010</td>\n",
              "      <td>0.00023</td>\n",
              "      <td>-0.00001</td>\n",
              "      <td>0.00015</td>\n",
              "      <td>1.00000</td>\n",
              "      <td>0.00035</td>\n",
              "      <td>0.00049</td>\n",
              "      <td>-0.00038</td>\n",
              "    </tr>\n",
              "    <tr>\n",
              "      <th>11</th>\n",
              "      <td>0.00038</td>\n",
              "      <td>0.00010</td>\n",
              "      <td>0.00019</td>\n",
              "      <td>0.00011</td>\n",
              "      <td>-0.00034</td>\n",
              "      <td>-0.00015</td>\n",
              "      <td>0.00008</td>\n",
              "      <td>-0.00006</td>\n",
              "      <td>0.00023</td>\n",
              "      <td>-0.00064</td>\n",
              "      <td>0.00035</td>\n",
              "      <td>1.00000</td>\n",
              "      <td>-0.00029</td>\n",
              "      <td>0.00014</td>\n",
              "    </tr>\n",
              "    <tr>\n",
              "      <th>12</th>\n",
              "      <td>-0.00025</td>\n",
              "      <td>-0.00005</td>\n",
              "      <td>-0.00011</td>\n",
              "      <td>0.00021</td>\n",
              "      <td>0.00015</td>\n",
              "      <td>-0.00040</td>\n",
              "      <td>0.00032</td>\n",
              "      <td>-0.00004</td>\n",
              "      <td>0.00014</td>\n",
              "      <td>0.00035</td>\n",
              "      <td>0.00049</td>\n",
              "      <td>-0.00029</td>\n",
              "      <td>1.00000</td>\n",
              "      <td>-0.00011</td>\n",
              "    </tr>\n",
              "    <tr>\n",
              "      <th>13</th>\n",
              "      <td>-0.00036</td>\n",
              "      <td>0.00019</td>\n",
              "      <td>-0.00041</td>\n",
              "      <td>-0.00005</td>\n",
              "      <td>-0.00024</td>\n",
              "      <td>0.00085</td>\n",
              "      <td>-0.00044</td>\n",
              "      <td>0.00009</td>\n",
              "      <td>-0.00014</td>\n",
              "      <td>0.00014</td>\n",
              "      <td>-0.00038</td>\n",
              "      <td>0.00014</td>\n",
              "      <td>-0.00011</td>\n",
              "      <td>1.00000</td>\n",
              "    </tr>\n",
              "  </tbody>\n",
              "</table>\n",
              "</div>\n",
              "      <button class=\"colab-df-convert\" onclick=\"convertToInteractive('df-0284ea88-24a7-413a-9952-45623c50172c')\"\n",
              "              title=\"Convert this dataframe to an interactive table.\"\n",
              "              style=\"display:none;\">\n",
              "        \n",
              "  <svg xmlns=\"http://www.w3.org/2000/svg\" height=\"24px\"viewBox=\"0 0 24 24\"\n",
              "       width=\"24px\">\n",
              "    <path d=\"M0 0h24v24H0V0z\" fill=\"none\"/>\n",
              "    <path d=\"M18.56 5.44l.94 2.06.94-2.06 2.06-.94-2.06-.94-.94-2.06-.94 2.06-2.06.94zm-11 1L8.5 8.5l.94-2.06 2.06-.94-2.06-.94L8.5 2.5l-.94 2.06-2.06.94zm10 10l.94 2.06.94-2.06 2.06-.94-2.06-.94-.94-2.06-.94 2.06-2.06.94z\"/><path d=\"M17.41 7.96l-1.37-1.37c-.4-.4-.92-.59-1.43-.59-.52 0-1.04.2-1.43.59L10.3 9.45l-7.72 7.72c-.78.78-.78 2.05 0 2.83L4 21.41c.39.39.9.59 1.41.59.51 0 1.02-.2 1.41-.59l7.78-7.78 2.81-2.81c.8-.78.8-2.07 0-2.86zM5.41 20L4 18.59l7.72-7.72 1.47 1.35L5.41 20z\"/>\n",
              "  </svg>\n",
              "      </button>\n",
              "      \n",
              "  <style>\n",
              "    .colab-df-container {\n",
              "      display:flex;\n",
              "      flex-wrap:wrap;\n",
              "      gap: 12px;\n",
              "    }\n",
              "\n",
              "    .colab-df-convert {\n",
              "      background-color: #E8F0FE;\n",
              "      border: none;\n",
              "      border-radius: 50%;\n",
              "      cursor: pointer;\n",
              "      display: none;\n",
              "      fill: #1967D2;\n",
              "      height: 32px;\n",
              "      padding: 0 0 0 0;\n",
              "      width: 32px;\n",
              "    }\n",
              "\n",
              "    .colab-df-convert:hover {\n",
              "      background-color: #E2EBFA;\n",
              "      box-shadow: 0px 1px 2px rgba(60, 64, 67, 0.3), 0px 1px 3px 1px rgba(60, 64, 67, 0.15);\n",
              "      fill: #174EA6;\n",
              "    }\n",
              "\n",
              "    [theme=dark] .colab-df-convert {\n",
              "      background-color: #3B4455;\n",
              "      fill: #D2E3FC;\n",
              "    }\n",
              "\n",
              "    [theme=dark] .colab-df-convert:hover {\n",
              "      background-color: #434B5C;\n",
              "      box-shadow: 0px 1px 3px 1px rgba(0, 0, 0, 0.15);\n",
              "      filter: drop-shadow(0px 1px 2px rgba(0, 0, 0, 0.3));\n",
              "      fill: #FFFFFF;\n",
              "    }\n",
              "  </style>\n",
              "\n",
              "      <script>\n",
              "        const buttonEl =\n",
              "          document.querySelector('#df-0284ea88-24a7-413a-9952-45623c50172c button.colab-df-convert');\n",
              "        buttonEl.style.display =\n",
              "          google.colab.kernel.accessAllowed ? 'block' : 'none';\n",
              "\n",
              "        async function convertToInteractive(key) {\n",
              "          const element = document.querySelector('#df-0284ea88-24a7-413a-9952-45623c50172c');\n",
              "          const dataTable =\n",
              "            await google.colab.kernel.invokeFunction('convertToInteractive',\n",
              "                                                     [key], {});\n",
              "          if (!dataTable) return;\n",
              "\n",
              "          const docLinkHtml = 'Like what you see? Visit the ' +\n",
              "            '<a target=\"_blank\" href=https://colab.research.google.com/notebooks/data_table.ipynb>data table notebook</a>'\n",
              "            + ' to learn more about interactive tables.';\n",
              "          element.innerHTML = '';\n",
              "          dataTable['output_type'] = 'display_data';\n",
              "          await google.colab.output.renderOutput(dataTable, element);\n",
              "          const docLink = document.createElement('div');\n",
              "          docLink.innerHTML = docLinkHtml;\n",
              "          element.appendChild(docLink);\n",
              "        }\n",
              "      </script>\n",
              "    </div>\n",
              "  </div>\n",
              "  "
            ]
          },
          "metadata": {},
          "execution_count": 74
        }
      ]
    },
    {
      "cell_type": "code",
      "source": [
        "from sklearn.preprocessing import StandardScaler\n",
        "scaler=StandardScaler()\n",
        "df_scaled=pd.DataFrame(scaler.fit_transform(df), columns=df.columns)\n",
        "df_scaled.head()"
      ],
      "metadata": {
        "id": "Ja0azOGFnQ22",
        "colab": {
          "base_uri": "https://localhost:8080/",
          "height": 250
        },
        "outputId": "9554e3e0-d862-4486-ce4b-8bcb4650be50"
      },
      "execution_count": null,
      "outputs": [
        {
          "output_type": "execute_result",
          "data": {
            "text/plain": [
              "        age       sex        cp  trestbps      chol       fbs   restecg  \\\n",
              "0  0.952197  0.681005  1.973123  0.763956 -0.256334  2.394438 -1.005832   \n",
              "1 -1.915313  0.681005  1.002577 -0.092738  0.072199 -0.417635  0.898962   \n",
              "2 -1.474158 -1.468418  0.032031 -0.092738 -0.816773 -0.417635 -1.005832   \n",
              "3  0.180175  0.681005  0.032031 -0.663867 -0.198357 -0.417635  0.898962   \n",
              "4  0.290464 -1.468418 -0.938515 -0.663867  2.082050 -0.417635  0.898962   \n",
              "\n",
              "    thalach     exang   oldpeak     slope        ca      thal    target  \n",
              "0  0.015443 -0.696631  1.087338 -2.274579 -0.714429 -2.148873  0.914529  \n",
              "1  1.633471 -0.696631  2.122573 -2.274579 -0.714429 -0.512922  0.914529  \n",
              "2  0.977514 -0.696631  0.310912  0.976352 -0.714429 -0.512922  0.914529  \n",
              "3  1.239897 -0.696631 -0.206705  0.976352 -0.714429 -0.512922  0.914529  \n",
              "4  0.583939  1.435481 -0.379244  0.976352 -0.714429 -0.512922  0.914529  "
            ],
            "text/html": [
              "\n",
              "  <div id=\"df-32098f2f-3d48-4039-a4d3-33534576b58f\">\n",
              "    <div class=\"colab-df-container\">\n",
              "      <div>\n",
              "<style scoped>\n",
              "    .dataframe tbody tr th:only-of-type {\n",
              "        vertical-align: middle;\n",
              "    }\n",
              "\n",
              "    .dataframe tbody tr th {\n",
              "        vertical-align: top;\n",
              "    }\n",
              "\n",
              "    .dataframe thead th {\n",
              "        text-align: right;\n",
              "    }\n",
              "</style>\n",
              "<table border=\"1\" class=\"dataframe\">\n",
              "  <thead>\n",
              "    <tr style=\"text-align: right;\">\n",
              "      <th></th>\n",
              "      <th>age</th>\n",
              "      <th>sex</th>\n",
              "      <th>cp</th>\n",
              "      <th>trestbps</th>\n",
              "      <th>chol</th>\n",
              "      <th>fbs</th>\n",
              "      <th>restecg</th>\n",
              "      <th>thalach</th>\n",
              "      <th>exang</th>\n",
              "      <th>oldpeak</th>\n",
              "      <th>slope</th>\n",
              "      <th>ca</th>\n",
              "      <th>thal</th>\n",
              "      <th>target</th>\n",
              "    </tr>\n",
              "  </thead>\n",
              "  <tbody>\n",
              "    <tr>\n",
              "      <th>0</th>\n",
              "      <td>0.952197</td>\n",
              "      <td>0.681005</td>\n",
              "      <td>1.973123</td>\n",
              "      <td>0.763956</td>\n",
              "      <td>-0.256334</td>\n",
              "      <td>2.394438</td>\n",
              "      <td>-1.005832</td>\n",
              "      <td>0.015443</td>\n",
              "      <td>-0.696631</td>\n",
              "      <td>1.087338</td>\n",
              "      <td>-2.274579</td>\n",
              "      <td>-0.714429</td>\n",
              "      <td>-2.148873</td>\n",
              "      <td>0.914529</td>\n",
              "    </tr>\n",
              "    <tr>\n",
              "      <th>1</th>\n",
              "      <td>-1.915313</td>\n",
              "      <td>0.681005</td>\n",
              "      <td>1.002577</td>\n",
              "      <td>-0.092738</td>\n",
              "      <td>0.072199</td>\n",
              "      <td>-0.417635</td>\n",
              "      <td>0.898962</td>\n",
              "      <td>1.633471</td>\n",
              "      <td>-0.696631</td>\n",
              "      <td>2.122573</td>\n",
              "      <td>-2.274579</td>\n",
              "      <td>-0.714429</td>\n",
              "      <td>-0.512922</td>\n",
              "      <td>0.914529</td>\n",
              "    </tr>\n",
              "    <tr>\n",
              "      <th>2</th>\n",
              "      <td>-1.474158</td>\n",
              "      <td>-1.468418</td>\n",
              "      <td>0.032031</td>\n",
              "      <td>-0.092738</td>\n",
              "      <td>-0.816773</td>\n",
              "      <td>-0.417635</td>\n",
              "      <td>-1.005832</td>\n",
              "      <td>0.977514</td>\n",
              "      <td>-0.696631</td>\n",
              "      <td>0.310912</td>\n",
              "      <td>0.976352</td>\n",
              "      <td>-0.714429</td>\n",
              "      <td>-0.512922</td>\n",
              "      <td>0.914529</td>\n",
              "    </tr>\n",
              "    <tr>\n",
              "      <th>3</th>\n",
              "      <td>0.180175</td>\n",
              "      <td>0.681005</td>\n",
              "      <td>0.032031</td>\n",
              "      <td>-0.663867</td>\n",
              "      <td>-0.198357</td>\n",
              "      <td>-0.417635</td>\n",
              "      <td>0.898962</td>\n",
              "      <td>1.239897</td>\n",
              "      <td>-0.696631</td>\n",
              "      <td>-0.206705</td>\n",
              "      <td>0.976352</td>\n",
              "      <td>-0.714429</td>\n",
              "      <td>-0.512922</td>\n",
              "      <td>0.914529</td>\n",
              "    </tr>\n",
              "    <tr>\n",
              "      <th>4</th>\n",
              "      <td>0.290464</td>\n",
              "      <td>-1.468418</td>\n",
              "      <td>-0.938515</td>\n",
              "      <td>-0.663867</td>\n",
              "      <td>2.082050</td>\n",
              "      <td>-0.417635</td>\n",
              "      <td>0.898962</td>\n",
              "      <td>0.583939</td>\n",
              "      <td>1.435481</td>\n",
              "      <td>-0.379244</td>\n",
              "      <td>0.976352</td>\n",
              "      <td>-0.714429</td>\n",
              "      <td>-0.512922</td>\n",
              "      <td>0.914529</td>\n",
              "    </tr>\n",
              "  </tbody>\n",
              "</table>\n",
              "</div>\n",
              "      <button class=\"colab-df-convert\" onclick=\"convertToInteractive('df-32098f2f-3d48-4039-a4d3-33534576b58f')\"\n",
              "              title=\"Convert this dataframe to an interactive table.\"\n",
              "              style=\"display:none;\">\n",
              "        \n",
              "  <svg xmlns=\"http://www.w3.org/2000/svg\" height=\"24px\"viewBox=\"0 0 24 24\"\n",
              "       width=\"24px\">\n",
              "    <path d=\"M0 0h24v24H0V0z\" fill=\"none\"/>\n",
              "    <path d=\"M18.56 5.44l.94 2.06.94-2.06 2.06-.94-2.06-.94-.94-2.06-.94 2.06-2.06.94zm-11 1L8.5 8.5l.94-2.06 2.06-.94-2.06-.94L8.5 2.5l-.94 2.06-2.06.94zm10 10l.94 2.06.94-2.06 2.06-.94-2.06-.94-.94-2.06-.94 2.06-2.06.94z\"/><path d=\"M17.41 7.96l-1.37-1.37c-.4-.4-.92-.59-1.43-.59-.52 0-1.04.2-1.43.59L10.3 9.45l-7.72 7.72c-.78.78-.78 2.05 0 2.83L4 21.41c.39.39.9.59 1.41.59.51 0 1.02-.2 1.41-.59l7.78-7.78 2.81-2.81c.8-.78.8-2.07 0-2.86zM5.41 20L4 18.59l7.72-7.72 1.47 1.35L5.41 20z\"/>\n",
              "  </svg>\n",
              "      </button>\n",
              "      \n",
              "  <style>\n",
              "    .colab-df-container {\n",
              "      display:flex;\n",
              "      flex-wrap:wrap;\n",
              "      gap: 12px;\n",
              "    }\n",
              "\n",
              "    .colab-df-convert {\n",
              "      background-color: #E8F0FE;\n",
              "      border: none;\n",
              "      border-radius: 50%;\n",
              "      cursor: pointer;\n",
              "      display: none;\n",
              "      fill: #1967D2;\n",
              "      height: 32px;\n",
              "      padding: 0 0 0 0;\n",
              "      width: 32px;\n",
              "    }\n",
              "\n",
              "    .colab-df-convert:hover {\n",
              "      background-color: #E2EBFA;\n",
              "      box-shadow: 0px 1px 2px rgba(60, 64, 67, 0.3), 0px 1px 3px 1px rgba(60, 64, 67, 0.15);\n",
              "      fill: #174EA6;\n",
              "    }\n",
              "\n",
              "    [theme=dark] .colab-df-convert {\n",
              "      background-color: #3B4455;\n",
              "      fill: #D2E3FC;\n",
              "    }\n",
              "\n",
              "    [theme=dark] .colab-df-convert:hover {\n",
              "      background-color: #434B5C;\n",
              "      box-shadow: 0px 1px 3px 1px rgba(0, 0, 0, 0.15);\n",
              "      filter: drop-shadow(0px 1px 2px rgba(0, 0, 0, 0.3));\n",
              "      fill: #FFFFFF;\n",
              "    }\n",
              "  </style>\n",
              "\n",
              "      <script>\n",
              "        const buttonEl =\n",
              "          document.querySelector('#df-32098f2f-3d48-4039-a4d3-33534576b58f button.colab-df-convert');\n",
              "        buttonEl.style.display =\n",
              "          google.colab.kernel.accessAllowed ? 'block' : 'none';\n",
              "\n",
              "        async function convertToInteractive(key) {\n",
              "          const element = document.querySelector('#df-32098f2f-3d48-4039-a4d3-33534576b58f');\n",
              "          const dataTable =\n",
              "            await google.colab.kernel.invokeFunction('convertToInteractive',\n",
              "                                                     [key], {});\n",
              "          if (!dataTable) return;\n",
              "\n",
              "          const docLinkHtml = 'Like what you see? Visit the ' +\n",
              "            '<a target=\"_blank\" href=https://colab.research.google.com/notebooks/data_table.ipynb>data table notebook</a>'\n",
              "            + ' to learn more about interactive tables.';\n",
              "          element.innerHTML = '';\n",
              "          dataTable['output_type'] = 'display_data';\n",
              "          await google.colab.output.renderOutput(dataTable, element);\n",
              "          const docLink = document.createElement('div');\n",
              "          docLink.innerHTML = docLinkHtml;\n",
              "          element.appendChild(docLink);\n",
              "        }\n",
              "      </script>\n",
              "    </div>\n",
              "  </div>\n",
              "  "
            ]
          },
          "metadata": {},
          "execution_count": 75
        }
      ]
    },
    {
      "cell_type": "markdown",
      "source": [
        "Se estandarizan los valores obtenidos en el proceso de la busqueda de las nuevas componentes."
      ],
      "metadata": {
        "id": "PJt6ZXPrnf_q"
      }
    },
    {
      "cell_type": "code",
      "source": [
        "#to scale the data using z-score \n",
        "from sklearn.preprocessing import StandardScaler\n",
        "\n",
        "#Importing PCA\n",
        "from sklearn.decomposition import PCA\n",
        "\n",
        "scaler=StandardScaler()\n",
        "data_scaled=pd.DataFrame(scaler.fit_transform(df), columns=df.columns)"
      ],
      "metadata": {
        "id": "SDwRTyzOWrv5"
      },
      "execution_count": null,
      "outputs": []
    },
    {
      "cell_type": "code",
      "source": [
        "data_scaled.head()"
      ],
      "metadata": {
        "id": "jw4AsrurXLYL",
        "colab": {
          "base_uri": "https://localhost:8080/",
          "height": 250
        },
        "outputId": "bf78882d-4482-4163-a210-06324ee85637"
      },
      "execution_count": null,
      "outputs": [
        {
          "output_type": "execute_result",
          "data": {
            "text/plain": [
              "        age       sex        cp  trestbps      chol       fbs   restecg  \\\n",
              "0  0.952197  0.681005  1.973123  0.763956 -0.256334  2.394438 -1.005832   \n",
              "1 -1.915313  0.681005  1.002577 -0.092738  0.072199 -0.417635  0.898962   \n",
              "2 -1.474158 -1.468418  0.032031 -0.092738 -0.816773 -0.417635 -1.005832   \n",
              "3  0.180175  0.681005  0.032031 -0.663867 -0.198357 -0.417635  0.898962   \n",
              "4  0.290464 -1.468418 -0.938515 -0.663867  2.082050 -0.417635  0.898962   \n",
              "\n",
              "    thalach     exang   oldpeak     slope        ca      thal    target  \n",
              "0  0.015443 -0.696631  1.087338 -2.274579 -0.714429 -2.148873  0.914529  \n",
              "1  1.633471 -0.696631  2.122573 -2.274579 -0.714429 -0.512922  0.914529  \n",
              "2  0.977514 -0.696631  0.310912  0.976352 -0.714429 -0.512922  0.914529  \n",
              "3  1.239897 -0.696631 -0.206705  0.976352 -0.714429 -0.512922  0.914529  \n",
              "4  0.583939  1.435481 -0.379244  0.976352 -0.714429 -0.512922  0.914529  "
            ],
            "text/html": [
              "\n",
              "  <div id=\"df-901993d9-0670-4296-b291-1481075e3a0f\">\n",
              "    <div class=\"colab-df-container\">\n",
              "      <div>\n",
              "<style scoped>\n",
              "    .dataframe tbody tr th:only-of-type {\n",
              "        vertical-align: middle;\n",
              "    }\n",
              "\n",
              "    .dataframe tbody tr th {\n",
              "        vertical-align: top;\n",
              "    }\n",
              "\n",
              "    .dataframe thead th {\n",
              "        text-align: right;\n",
              "    }\n",
              "</style>\n",
              "<table border=\"1\" class=\"dataframe\">\n",
              "  <thead>\n",
              "    <tr style=\"text-align: right;\">\n",
              "      <th></th>\n",
              "      <th>age</th>\n",
              "      <th>sex</th>\n",
              "      <th>cp</th>\n",
              "      <th>trestbps</th>\n",
              "      <th>chol</th>\n",
              "      <th>fbs</th>\n",
              "      <th>restecg</th>\n",
              "      <th>thalach</th>\n",
              "      <th>exang</th>\n",
              "      <th>oldpeak</th>\n",
              "      <th>slope</th>\n",
              "      <th>ca</th>\n",
              "      <th>thal</th>\n",
              "      <th>target</th>\n",
              "    </tr>\n",
              "  </thead>\n",
              "  <tbody>\n",
              "    <tr>\n",
              "      <th>0</th>\n",
              "      <td>0.952197</td>\n",
              "      <td>0.681005</td>\n",
              "      <td>1.973123</td>\n",
              "      <td>0.763956</td>\n",
              "      <td>-0.256334</td>\n",
              "      <td>2.394438</td>\n",
              "      <td>-1.005832</td>\n",
              "      <td>0.015443</td>\n",
              "      <td>-0.696631</td>\n",
              "      <td>1.087338</td>\n",
              "      <td>-2.274579</td>\n",
              "      <td>-0.714429</td>\n",
              "      <td>-2.148873</td>\n",
              "      <td>0.914529</td>\n",
              "    </tr>\n",
              "    <tr>\n",
              "      <th>1</th>\n",
              "      <td>-1.915313</td>\n",
              "      <td>0.681005</td>\n",
              "      <td>1.002577</td>\n",
              "      <td>-0.092738</td>\n",
              "      <td>0.072199</td>\n",
              "      <td>-0.417635</td>\n",
              "      <td>0.898962</td>\n",
              "      <td>1.633471</td>\n",
              "      <td>-0.696631</td>\n",
              "      <td>2.122573</td>\n",
              "      <td>-2.274579</td>\n",
              "      <td>-0.714429</td>\n",
              "      <td>-0.512922</td>\n",
              "      <td>0.914529</td>\n",
              "    </tr>\n",
              "    <tr>\n",
              "      <th>2</th>\n",
              "      <td>-1.474158</td>\n",
              "      <td>-1.468418</td>\n",
              "      <td>0.032031</td>\n",
              "      <td>-0.092738</td>\n",
              "      <td>-0.816773</td>\n",
              "      <td>-0.417635</td>\n",
              "      <td>-1.005832</td>\n",
              "      <td>0.977514</td>\n",
              "      <td>-0.696631</td>\n",
              "      <td>0.310912</td>\n",
              "      <td>0.976352</td>\n",
              "      <td>-0.714429</td>\n",
              "      <td>-0.512922</td>\n",
              "      <td>0.914529</td>\n",
              "    </tr>\n",
              "    <tr>\n",
              "      <th>3</th>\n",
              "      <td>0.180175</td>\n",
              "      <td>0.681005</td>\n",
              "      <td>0.032031</td>\n",
              "      <td>-0.663867</td>\n",
              "      <td>-0.198357</td>\n",
              "      <td>-0.417635</td>\n",
              "      <td>0.898962</td>\n",
              "      <td>1.239897</td>\n",
              "      <td>-0.696631</td>\n",
              "      <td>-0.206705</td>\n",
              "      <td>0.976352</td>\n",
              "      <td>-0.714429</td>\n",
              "      <td>-0.512922</td>\n",
              "      <td>0.914529</td>\n",
              "    </tr>\n",
              "    <tr>\n",
              "      <th>4</th>\n",
              "      <td>0.290464</td>\n",
              "      <td>-1.468418</td>\n",
              "      <td>-0.938515</td>\n",
              "      <td>-0.663867</td>\n",
              "      <td>2.082050</td>\n",
              "      <td>-0.417635</td>\n",
              "      <td>0.898962</td>\n",
              "      <td>0.583939</td>\n",
              "      <td>1.435481</td>\n",
              "      <td>-0.379244</td>\n",
              "      <td>0.976352</td>\n",
              "      <td>-0.714429</td>\n",
              "      <td>-0.512922</td>\n",
              "      <td>0.914529</td>\n",
              "    </tr>\n",
              "  </tbody>\n",
              "</table>\n",
              "</div>\n",
              "      <button class=\"colab-df-convert\" onclick=\"convertToInteractive('df-901993d9-0670-4296-b291-1481075e3a0f')\"\n",
              "              title=\"Convert this dataframe to an interactive table.\"\n",
              "              style=\"display:none;\">\n",
              "        \n",
              "  <svg xmlns=\"http://www.w3.org/2000/svg\" height=\"24px\"viewBox=\"0 0 24 24\"\n",
              "       width=\"24px\">\n",
              "    <path d=\"M0 0h24v24H0V0z\" fill=\"none\"/>\n",
              "    <path d=\"M18.56 5.44l.94 2.06.94-2.06 2.06-.94-2.06-.94-.94-2.06-.94 2.06-2.06.94zm-11 1L8.5 8.5l.94-2.06 2.06-.94-2.06-.94L8.5 2.5l-.94 2.06-2.06.94zm10 10l.94 2.06.94-2.06 2.06-.94-2.06-.94-.94-2.06-.94 2.06-2.06.94z\"/><path d=\"M17.41 7.96l-1.37-1.37c-.4-.4-.92-.59-1.43-.59-.52 0-1.04.2-1.43.59L10.3 9.45l-7.72 7.72c-.78.78-.78 2.05 0 2.83L4 21.41c.39.39.9.59 1.41.59.51 0 1.02-.2 1.41-.59l7.78-7.78 2.81-2.81c.8-.78.8-2.07 0-2.86zM5.41 20L4 18.59l7.72-7.72 1.47 1.35L5.41 20z\"/>\n",
              "  </svg>\n",
              "      </button>\n",
              "      \n",
              "  <style>\n",
              "    .colab-df-container {\n",
              "      display:flex;\n",
              "      flex-wrap:wrap;\n",
              "      gap: 12px;\n",
              "    }\n",
              "\n",
              "    .colab-df-convert {\n",
              "      background-color: #E8F0FE;\n",
              "      border: none;\n",
              "      border-radius: 50%;\n",
              "      cursor: pointer;\n",
              "      display: none;\n",
              "      fill: #1967D2;\n",
              "      height: 32px;\n",
              "      padding: 0 0 0 0;\n",
              "      width: 32px;\n",
              "    }\n",
              "\n",
              "    .colab-df-convert:hover {\n",
              "      background-color: #E2EBFA;\n",
              "      box-shadow: 0px 1px 2px rgba(60, 64, 67, 0.3), 0px 1px 3px 1px rgba(60, 64, 67, 0.15);\n",
              "      fill: #174EA6;\n",
              "    }\n",
              "\n",
              "    [theme=dark] .colab-df-convert {\n",
              "      background-color: #3B4455;\n",
              "      fill: #D2E3FC;\n",
              "    }\n",
              "\n",
              "    [theme=dark] .colab-df-convert:hover {\n",
              "      background-color: #434B5C;\n",
              "      box-shadow: 0px 1px 3px 1px rgba(0, 0, 0, 0.15);\n",
              "      filter: drop-shadow(0px 1px 2px rgba(0, 0, 0, 0.3));\n",
              "      fill: #FFFFFF;\n",
              "    }\n",
              "  </style>\n",
              "\n",
              "      <script>\n",
              "        const buttonEl =\n",
              "          document.querySelector('#df-901993d9-0670-4296-b291-1481075e3a0f button.colab-df-convert');\n",
              "        buttonEl.style.display =\n",
              "          google.colab.kernel.accessAllowed ? 'block' : 'none';\n",
              "\n",
              "        async function convertToInteractive(key) {\n",
              "          const element = document.querySelector('#df-901993d9-0670-4296-b291-1481075e3a0f');\n",
              "          const dataTable =\n",
              "            await google.colab.kernel.invokeFunction('convertToInteractive',\n",
              "                                                     [key], {});\n",
              "          if (!dataTable) return;\n",
              "\n",
              "          const docLinkHtml = 'Like what you see? Visit the ' +\n",
              "            '<a target=\"_blank\" href=https://colab.research.google.com/notebooks/data_table.ipynb>data table notebook</a>'\n",
              "            + ' to learn more about interactive tables.';\n",
              "          element.innerHTML = '';\n",
              "          dataTable['output_type'] = 'display_data';\n",
              "          await google.colab.output.renderOutput(dataTable, element);\n",
              "          const docLink = document.createElement('div');\n",
              "          docLink.innerHTML = docLinkHtml;\n",
              "          element.appendChild(docLink);\n",
              "        }\n",
              "      </script>\n",
              "    </div>\n",
              "  </div>\n",
              "  "
            ]
          },
          "metadata": {},
          "execution_count": 77
        }
      ]
    },
    {
      "cell_type": "code",
      "source": [
        "#Definición del número de componentes principales a generar\n",
        "n=data_scaled.shape[1]\n",
        "\n",
        "#Encontrar los componentes principales de los datos\n",
        "pca = PCA(n_components=n, random_state=1)\n",
        "data_pca1 = pd.DataFrame(pca.fit_transform(data_scaled))\n",
        "\n",
        "#El porcentaje de varianza explicado por cada componente principal\n",
        "exp_var = pca.explained_variance_ratio_"
      ],
      "metadata": {
        "id": "GzgHlZ42nfRx"
      },
      "execution_count": null,
      "outputs": []
    },
    {
      "cell_type": "code",
      "source": [
        "import pandas as pd\n",
        "import numpy as np\n",
        "import matplotlib.pyplot as plt\n",
        "import seaborn as sns\n",
        "# visualizar los componentes individuales explicados\n",
        "plt.figure(figsize = (10,10))\n",
        "plt.plot( pca.explained_variance_ratio_.cumsum(), marker = 'o', linestyle = '--')\n",
        "plt.title(\"Variaciones explicadas por componentes\")\n",
        "plt.xlabel(\"Número de componentes\")\n",
        "plt.ylabel(\"Varianza acumulada explicada\")"
      ],
      "metadata": {
        "id": "MyrxxlKRnQ0Q",
        "colab": {
          "base_uri": "https://localhost:8080/",
          "height": 643
        },
        "outputId": "2b81f2ed-6688-4dd0-b730-1aaeccef5a7b"
      },
      "execution_count": null,
      "outputs": [
        {
          "output_type": "execute_result",
          "data": {
            "text/plain": [
              "Text(0, 0.5, 'Varianza acumulada explicada')"
            ]
          },
          "metadata": {},
          "execution_count": 79
        },
        {
          "output_type": "display_data",
          "data": {
            "text/plain": [
              "<Figure size 720x720 with 1 Axes>"
            ],
            "image/png": "[encoded data removed]"
          },
          "metadata": {}
        }
      ]
    },
    {
      "cell_type": "code",
      "source": [
        "# encontrar el menor número de componentes que pueden explicar más del 70% de varianza\n",
        "sum = 0\n",
        "for ix, i in enumerate(exp_var):\n",
        "  sum = sum + i\n",
        "  if(sum>0.70):\n",
        "    print(\"Número de PC que explican al menos el 70 % de la varianza: \", ix+1)\n",
        "    break"
      ],
      "metadata": {
        "id": "Tg0Ku3-lYIoN",
        "colab": {
          "base_uri": "https://localhost:8080/"
        },
        "outputId": "679b833d-a399-4327-8d07-9ebf0e28d6d1"
      },
      "execution_count": null,
      "outputs": [
        {
          "output_type": "stream",
          "name": "stdout",
          "text": [
            "Número de PC que explican al menos el 70 % de la varianza:  7\n"
          ]
        }
      ]
    },
    {
      "cell_type": "code",
      "source": [
        "pc_comps = ['PC1','PC2','PC3','PC4','PC5','PC6','PC7']\n",
        "data_pca = pd.DataFrame(np.round(pca.components_[:7,:],2),index=pc_comps,columns=data_scaled.columns)\n",
        "data_pca.T"
      ],
      "metadata": {
        "id": "pHpxTkSPYUtd",
        "colab": {
          "base_uri": "https://localhost:8080/",
          "height": 488
        },
        "outputId": "92c3b332-8ca4-41bd-fdbb-4e1ec3c1aa8d"
      },
      "execution_count": null,
      "outputs": [
        {
          "output_type": "execute_result",
          "data": {
            "text/plain": [
              "           PC1   PC2   PC3   PC4   PC5   PC6   PC7\n",
              "age       0.25  0.44 -0.07 -0.07 -0.31 -0.13 -0.22\n",
              "sex       0.12 -0.39  0.56  0.08  0.06  0.06 -0.15\n",
              "cp       -0.27  0.27  0.23  0.38  0.16 -0.20 -0.22\n",
              "trestbps  0.15  0.44  0.20  0.09  0.19 -0.18  0.33\n",
              "chol      0.09  0.36 -0.18 -0.51  0.32 -0.10  0.05\n",
              "fbs       0.05  0.31  0.47  0.16 -0.23  0.25  0.52\n",
              "restecg  -0.11 -0.21 -0.20  0.19 -0.40 -0.67  0.39\n",
              "thalach  -0.37 -0.00  0.27 -0.13  0.32 -0.12  0.09\n",
              "exang     0.34 -0.21 -0.12 -0.10  0.04  0.24  0.46\n",
              "oldpeak   0.37  0.03 -0.09  0.37  0.25 -0.17 -0.11\n",
              "slope    -0.33 -0.04  0.20 -0.50 -0.24 -0.06  0.06\n",
              "ca        0.26  0.09  0.30 -0.19 -0.43 -0.18 -0.33\n",
              "thal      0.22 -0.19  0.24 -0.24  0.34 -0.50  0.07\n",
              "target   -0.44  0.15 -0.12  0.12  0.01  0.01  0.03"
            ],
            "text/html": [
              "\n",
              "  <div id=\"df-6e3a181a-2e8e-4c50-a6cd-fa473638e0fd\">\n",
              "    <div class=\"colab-df-container\">\n",
              "      <div>\n",
              "<style scoped>\n",
              "    .dataframe tbody tr th:only-of-type {\n",
              "        vertical-align: middle;\n",
              "    }\n",
              "\n",
              "    .dataframe tbody tr th {\n",
              "        vertical-align: top;\n",
              "    }\n",
              "\n",
              "    .dataframe thead th {\n",
              "        text-align: right;\n",
              "    }\n",
              "</style>\n",
              "<table border=\"1\" class=\"dataframe\">\n",
              "  <thead>\n",
              "    <tr style=\"text-align: right;\">\n",
              "      <th></th>\n",
              "      <th>PC1</th>\n",
              "      <th>PC2</th>\n",
              "      <th>PC3</th>\n",
              "      <th>PC4</th>\n",
              "      <th>PC5</th>\n",
              "      <th>PC6</th>\n",
              "      <th>PC7</th>\n",
              "    </tr>\n",
              "  </thead>\n",
              "  <tbody>\n",
              "    <tr>\n",
              "      <th>age</th>\n",
              "      <td>0.25</td>\n",
              "      <td>0.44</td>\n",
              "      <td>-0.07</td>\n",
              "      <td>-0.07</td>\n",
              "      <td>-0.31</td>\n",
              "      <td>-0.13</td>\n",
              "      <td>-0.22</td>\n",
              "    </tr>\n",
              "    <tr>\n",
              "      <th>sex</th>\n",
              "      <td>0.12</td>\n",
              "      <td>-0.39</td>\n",
              "      <td>0.56</td>\n",
              "      <td>0.08</td>\n",
              "      <td>0.06</td>\n",
              "      <td>0.06</td>\n",
              "      <td>-0.15</td>\n",
              "    </tr>\n",
              "    <tr>\n",
              "      <th>cp</th>\n",
              "      <td>-0.27</td>\n",
              "      <td>0.27</td>\n",
              "      <td>0.23</td>\n",
              "      <td>0.38</td>\n",
              "      <td>0.16</td>\n",
              "      <td>-0.20</td>\n",
              "      <td>-0.22</td>\n",
              "    </tr>\n",
              "    <tr>\n",
              "      <th>trestbps</th>\n",
              "      <td>0.15</td>\n",
              "      <td>0.44</td>\n",
              "      <td>0.20</td>\n",
              "      <td>0.09</td>\n",
              "      <td>0.19</td>\n",
              "      <td>-0.18</td>\n",
              "      <td>0.33</td>\n",
              "    </tr>\n",
              "    <tr>\n",
              "      <th>chol</th>\n",
              "      <td>0.09</td>\n",
              "      <td>0.36</td>\n",
              "      <td>-0.18</td>\n",
              "      <td>-0.51</td>\n",
              "      <td>0.32</td>\n",
              "      <td>-0.10</td>\n",
              "      <td>0.05</td>\n",
              "    </tr>\n",
              "    <tr>\n",
              "      <th>fbs</th>\n",
              "      <td>0.05</td>\n",
              "      <td>0.31</td>\n",
              "      <td>0.47</td>\n",
              "      <td>0.16</td>\n",
              "      <td>-0.23</td>\n",
              "      <td>0.25</td>\n",
              "      <td>0.52</td>\n",
              "    </tr>\n",
              "    <tr>\n",
              "      <th>restecg</th>\n",
              "      <td>-0.11</td>\n",
              "      <td>-0.21</td>\n",
              "      <td>-0.20</td>\n",
              "      <td>0.19</td>\n",
              "      <td>-0.40</td>\n",
              "      <td>-0.67</td>\n",
              "      <td>0.39</td>\n",
              "    </tr>\n",
              "    <tr>\n",
              "      <th>thalach</th>\n",
              "      <td>-0.37</td>\n",
              "      <td>-0.00</td>\n",
              "      <td>0.27</td>\n",
              "      <td>-0.13</td>\n",
              "      <td>0.32</td>\n",
              "      <td>-0.12</td>\n",
              "      <td>0.09</td>\n",
              "    </tr>\n",
              "    <tr>\n",
              "      <th>exang</th>\n",
              "      <td>0.34</td>\n",
              "      <td>-0.21</td>\n",
              "      <td>-0.12</td>\n",
              "      <td>-0.10</td>\n",
              "      <td>0.04</td>\n",
              "      <td>0.24</td>\n",
              "      <td>0.46</td>\n",
              "    </tr>\n",
              "    <tr>\n",
              "      <th>oldpeak</th>\n",
              "      <td>0.37</td>\n",
              "      <td>0.03</td>\n",
              "      <td>-0.09</td>\n",
              "      <td>0.37</td>\n",
              "      <td>0.25</td>\n",
              "      <td>-0.17</td>\n",
              "      <td>-0.11</td>\n",
              "    </tr>\n",
              "    <tr>\n",
              "      <th>slope</th>\n",
              "      <td>-0.33</td>\n",
              "      <td>-0.04</td>\n",
              "      <td>0.20</td>\n",
              "      <td>-0.50</td>\n",
              "      <td>-0.24</td>\n",
              "      <td>-0.06</td>\n",
              "      <td>0.06</td>\n",
              "    </tr>\n",
              "    <tr>\n",
              "      <th>ca</th>\n",
              "      <td>0.26</td>\n",
              "      <td>0.09</td>\n",
              "      <td>0.30</td>\n",
              "      <td>-0.19</td>\n",
              "      <td>-0.43</td>\n",
              "      <td>-0.18</td>\n",
              "      <td>-0.33</td>\n",
              "    </tr>\n",
              "    <tr>\n",
              "      <th>thal</th>\n",
              "      <td>0.22</td>\n",
              "      <td>-0.19</td>\n",
              "      <td>0.24</td>\n",
              "      <td>-0.24</td>\n",
              "      <td>0.34</td>\n",
              "      <td>-0.50</td>\n",
              "      <td>0.07</td>\n",
              "    </tr>\n",
              "    <tr>\n",
              "      <th>target</th>\n",
              "      <td>-0.44</td>\n",
              "      <td>0.15</td>\n",
              "      <td>-0.12</td>\n",
              "      <td>0.12</td>\n",
              "      <td>0.01</td>\n",
              "      <td>0.01</td>\n",
              "      <td>0.03</td>\n",
              "    </tr>\n",
              "  </tbody>\n",
              "</table>\n",
              "</div>\n",
              "      <button class=\"colab-df-convert\" onclick=\"convertToInteractive('df-6e3a181a-2e8e-4c50-a6cd-fa473638e0fd')\"\n",
              "              title=\"Convert this dataframe to an interactive table.\"\n",
              "              style=\"display:none;\">\n",
              "        \n",
              "  <svg xmlns=\"http://www.w3.org/2000/svg\" height=\"24px\"viewBox=\"0 0 24 24\"\n",
              "       width=\"24px\">\n",
              "    <path d=\"M0 0h24v24H0V0z\" fill=\"none\"/>\n",
              "    <path d=\"M18.56 5.44l.94 2.06.94-2.06 2.06-.94-2.06-.94-.94-2.06-.94 2.06-2.06.94zm-11 1L8.5 8.5l.94-2.06 2.06-.94-2.06-.94L8.5 2.5l-.94 2.06-2.06.94zm10 10l.94 2.06.94-2.06 2.06-.94-2.06-.94-.94-2.06-.94 2.06-2.06.94z\"/><path d=\"M17.41 7.96l-1.37-1.37c-.4-.4-.92-.59-1.43-.59-.52 0-1.04.2-1.43.59L10.3 9.45l-7.72 7.72c-.78.78-.78 2.05 0 2.83L4 21.41c.39.39.9.59 1.41.59.51 0 1.02-.2 1.41-.59l7.78-7.78 2.81-2.81c.8-.78.8-2.07 0-2.86zM5.41 20L4 18.59l7.72-7.72 1.47 1.35L5.41 20z\"/>\n",
              "  </svg>\n",
              "      </button>\n",
              "      \n",
              "  <style>\n",
              "    .colab-df-container {\n",
              "      display:flex;\n",
              "      flex-wrap:wrap;\n",
              "      gap: 12px;\n",
              "    }\n",
              "\n",
              "    .colab-df-convert {\n",
              "      background-color: #E8F0FE;\n",
              "      border: none;\n",
              "      border-radius: 50%;\n",
              "      cursor: pointer;\n",
              "      display: none;\n",
              "      fill: #1967D2;\n",
              "      height: 32px;\n",
              "      padding: 0 0 0 0;\n",
              "      width: 32px;\n",
              "    }\n",
              "\n",
              "    .colab-df-convert:hover {\n",
              "      background-color: #E2EBFA;\n",
              "      box-shadow: 0px 1px 2px rgba(60, 64, 67, 0.3), 0px 1px 3px 1px rgba(60, 64, 67, 0.15);\n",
              "      fill: #174EA6;\n",
              "    }\n",
              "\n",
              "    [theme=dark] .colab-df-convert {\n",
              "      background-color: #3B4455;\n",
              "      fill: #D2E3FC;\n",
              "    }\n",
              "\n",
              "    [theme=dark] .colab-df-convert:hover {\n",
              "      background-color: #434B5C;\n",
              "      box-shadow: 0px 1px 3px 1px rgba(0, 0, 0, 0.15);\n",
              "      filter: drop-shadow(0px 1px 2px rgba(0, 0, 0, 0.3));\n",
              "      fill: #FFFFFF;\n",
              "    }\n",
              "  </style>\n",
              "\n",
              "      <script>\n",
              "        const buttonEl =\n",
              "          document.querySelector('#df-6e3a181a-2e8e-4c50-a6cd-fa473638e0fd button.colab-df-convert');\n",
              "        buttonEl.style.display =\n",
              "          google.colab.kernel.accessAllowed ? 'block' : 'none';\n",
              "\n",
              "        async function convertToInteractive(key) {\n",
              "          const element = document.querySelector('#df-6e3a181a-2e8e-4c50-a6cd-fa473638e0fd');\n",
              "          const dataTable =\n",
              "            await google.colab.kernel.invokeFunction('convertToInteractive',\n",
              "                                                     [key], {});\n",
              "          if (!dataTable) return;\n",
              "\n",
              "          const docLinkHtml = 'Like what you see? Visit the ' +\n",
              "            '<a target=\"_blank\" href=https://colab.research.google.com/notebooks/data_table.ipynb>data table notebook</a>'\n",
              "            + ' to learn more about interactive tables.';\n",
              "          element.innerHTML = '';\n",
              "          dataTable['output_type'] = 'display_data';\n",
              "          await google.colab.output.renderOutput(dataTable, element);\n",
              "          const docLink = document.createElement('div');\n",
              "          docLink.innerHTML = docLinkHtml;\n",
              "          element.appendChild(docLink);\n",
              "        }\n",
              "      </script>\n",
              "    </div>\n",
              "  </div>\n",
              "  "
            ]
          },
          "metadata": {},
          "execution_count": 81
        }
      ]
    },
    {
      "cell_type": "code",
      "source": [
        "def color_high(val):\n",
        "    if val <-0.25: # usted puede decidir cualquier valor según su comprensión\n",
        "        return 'background: pink'\n",
        "    elif val >0.25:\n",
        "        return 'background: skyblue'   \n",
        "    \n",
        "data_pca.T.style.applymap(color_high)"
      ],
      "metadata": {
        "id": "_3bZMoaaYiI2",
        "colab": {
          "base_uri": "https://localhost:8080/",
          "height": 488
        },
        "outputId": "cb3701f3-9c58-4b97-c178-03d5e70e4832"
      },
      "execution_count": null,
      "outputs": [
        {
          "output_type": "execute_result",
          "data": {
            "text/plain": [
              "<pandas.io.formats.style.Styler at 0x7f85394d89d0>"
            ],
            "text/html": [
              "<style type=\"text/css\">\n",
              "#T_e83b1_row0_col1, #T_e83b1_row1_col2, #T_e83b1_row2_col1, #T_e83b1_row2_col3, #T_e83b1_row3_col1, #T_e83b1_row3_col6, #T_e83b1_row4_col1, #T_e83b1_row4_col4, #T_e83b1_row5_col1, #T_e83b1_row5_col2, #T_e83b1_row5_col6, #T_e83b1_row6_col6, #T_e83b1_row7_col2, #T_e83b1_row7_col4, #T_e83b1_row8_col0, #T_e83b1_row8_col6, #T_e83b1_row9_col0, #T_e83b1_row9_col3, #T_e83b1_row11_col0, #T_e83b1_row11_col2, #T_e83b1_row12_col4 {\n",
              "  background: skyblue;\n",
              "}\n",
              "#T_e83b1_row0_col4, #T_e83b1_row1_col1, #T_e83b1_row2_col0, #T_e83b1_row4_col3, #T_e83b1_row6_col4, #T_e83b1_row6_col5, #T_e83b1_row7_col0, #T_e83b1_row10_col0, #T_e83b1_row10_col3, #T_e83b1_row11_col4, #T_e83b1_row11_col6, #T_e83b1_row12_col5, #T_e83b1_row13_col0 {\n",
              "  background: pink;\n",
              "}\n",
              "</style>\n",
              "<table id=\"T_e83b1_\" class=\"dataframe\">\n",
              "  <thead>\n",
              "    <tr>\n",
              "      <th class=\"blank level0\" >&nbsp;</th>\n",
              "      <th class=\"col_heading level0 col0\" >PC1</th>\n",
              "      <th class=\"col_heading level0 col1\" >PC2</th>\n",
              "      <th class=\"col_heading level0 col2\" >PC3</th>\n",
              "      <th class=\"col_heading level0 col3\" >PC4</th>\n",
              "      <th class=\"col_heading level0 col4\" >PC5</th>\n",
              "      <th class=\"col_heading level0 col5\" >PC6</th>\n",
              "      <th class=\"col_heading level0 col6\" >PC7</th>\n",
              "    </tr>\n",
              "  </thead>\n",
              "  <tbody>\n",
              "    <tr>\n",
              "      <th id=\"T_e83b1_level0_row0\" class=\"row_heading level0 row0\" >age</th>\n",
              "      <td id=\"T_e83b1_row0_col0\" class=\"data row0 col0\" >0.250000</td>\n",
              "      <td id=\"T_e83b1_row0_col1\" class=\"data row0 col1\" >0.440000</td>\n",
              "      <td id=\"T_e83b1_row0_col2\" class=\"data row0 col2\" >-0.070000</td>\n",
              "      <td id=\"T_e83b1_row0_col3\" class=\"data row0 col3\" >-0.070000</td>\n",
              "      <td id=\"T_e83b1_row0_col4\" class=\"data row0 col4\" >-0.310000</td>\n",
              "      <td id=\"T_e83b1_row0_col5\" class=\"data row0 col5\" >-0.130000</td>\n",
              "      <td id=\"T_e83b1_row0_col6\" class=\"data row0 col6\" >-0.220000</td>\n",
              "    </tr>\n",
              "    <tr>\n",
              "      <th id=\"T_e83b1_level0_row1\" class=\"row_heading level0 row1\" >sex</th>\n",
              "      <td id=\"T_e83b1_row1_col0\" class=\"data row1 col0\" >0.120000</td>\n",
              "      <td id=\"T_e83b1_row1_col1\" class=\"data row1 col1\" >-0.390000</td>\n",
              "      <td id=\"T_e83b1_row1_col2\" class=\"data row1 col2\" >0.560000</td>\n",
              "      <td id=\"T_e83b1_row1_col3\" class=\"data row1 col3\" >0.080000</td>\n",
              "      <td id=\"T_e83b1_row1_col4\" class=\"data row1 col4\" >0.060000</td>\n",
              "      <td id=\"T_e83b1_row1_col5\" class=\"data row1 col5\" >0.060000</td>\n",
              "      <td id=\"T_e83b1_row1_col6\" class=\"data row1 col6\" >-0.150000</td>\n",
              "    </tr>\n",
              "    <tr>\n",
              "      <th id=\"T_e83b1_level0_row2\" class=\"row_heading level0 row2\" >cp</th>\n",
              "      <td id=\"T_e83b1_row2_col0\" class=\"data row2 col0\" >-0.270000</td>\n",
              "      <td id=\"T_e83b1_row2_col1\" class=\"data row2 col1\" >0.270000</td>\n",
              "      <td id=\"T_e83b1_row2_col2\" class=\"data row2 col2\" >0.230000</td>\n",
              "      <td id=\"T_e83b1_row2_col3\" class=\"data row2 col3\" >0.380000</td>\n",
              "      <td id=\"T_e83b1_row2_col4\" class=\"data row2 col4\" >0.160000</td>\n",
              "      <td id=\"T_e83b1_row2_col5\" class=\"data row2 col5\" >-0.200000</td>\n",
              "      <td id=\"T_e83b1_row2_col6\" class=\"data row2 col6\" >-0.220000</td>\n",
              "    </tr>\n",
              "    <tr>\n",
              "      <th id=\"T_e83b1_level0_row3\" class=\"row_heading level0 row3\" >trestbps</th>\n",
              "      <td id=\"T_e83b1_row3_col0\" class=\"data row3 col0\" >0.150000</td>\n",
              "      <td id=\"T_e83b1_row3_col1\" class=\"data row3 col1\" >0.440000</td>\n",
              "      <td id=\"T_e83b1_row3_col2\" class=\"data row3 col2\" >0.200000</td>\n",
              "      <td id=\"T_e83b1_row3_col3\" class=\"data row3 col3\" >0.090000</td>\n",
              "      <td id=\"T_e83b1_row3_col4\" class=\"data row3 col4\" >0.190000</td>\n",
              "      <td id=\"T_e83b1_row3_col5\" class=\"data row3 col5\" >-0.180000</td>\n",
              "      <td id=\"T_e83b1_row3_col6\" class=\"data row3 col6\" >0.330000</td>\n",
              "    </tr>\n",
              "    <tr>\n",
              "      <th id=\"T_e83b1_level0_row4\" class=\"row_heading level0 row4\" >chol</th>\n",
              "      <td id=\"T_e83b1_row4_col0\" class=\"data row4 col0\" >0.090000</td>\n",
              "      <td id=\"T_e83b1_row4_col1\" class=\"data row4 col1\" >0.360000</td>\n",
              "      <td id=\"T_e83b1_row4_col2\" class=\"data row4 col2\" >-0.180000</td>\n",
              "      <td id=\"T_e83b1_row4_col3\" class=\"data row4 col3\" >-0.510000</td>\n",
              "      <td id=\"T_e83b1_row4_col4\" class=\"data row4 col4\" >0.320000</td>\n",
              "      <td id=\"T_e83b1_row4_col5\" class=\"data row4 col5\" >-0.100000</td>\n",
              "      <td id=\"T_e83b1_row4_col6\" class=\"data row4 col6\" >0.050000</td>\n",
              "    </tr>\n",
              "    <tr>\n",
              "      <th id=\"T_e83b1_level0_row5\" class=\"row_heading level0 row5\" >fbs</th>\n",
              "      <td id=\"T_e83b1_row5_col0\" class=\"data row5 col0\" >0.050000</td>\n",
              "      <td id=\"T_e83b1_row5_col1\" class=\"data row5 col1\" >0.310000</td>\n",
              "      <td id=\"T_e83b1_row5_col2\" class=\"data row5 col2\" >0.470000</td>\n",
              "      <td id=\"T_e83b1_row5_col3\" class=\"data row5 col3\" >0.160000</td>\n",
              "      <td id=\"T_e83b1_row5_col4\" class=\"data row5 col4\" >-0.230000</td>\n",
              "      <td id=\"T_e83b1_row5_col5\" class=\"data row5 col5\" >0.250000</td>\n",
              "      <td id=\"T_e83b1_row5_col6\" class=\"data row5 col6\" >0.520000</td>\n",
              "    </tr>\n",
              "    <tr>\n",
              "      <th id=\"T_e83b1_level0_row6\" class=\"row_heading level0 row6\" >restecg</th>\n",
              "      <td id=\"T_e83b1_row6_col0\" class=\"data row6 col0\" >-0.110000</td>\n",
              "      <td id=\"T_e83b1_row6_col1\" class=\"data row6 col1\" >-0.210000</td>\n",
              "      <td id=\"T_e83b1_row6_col2\" class=\"data row6 col2\" >-0.200000</td>\n",
              "      <td id=\"T_e83b1_row6_col3\" class=\"data row6 col3\" >0.190000</td>\n",
              "      <td id=\"T_e83b1_row6_col4\" class=\"data row6 col4\" >-0.400000</td>\n",
              "      <td id=\"T_e83b1_row6_col5\" class=\"data row6 col5\" >-0.670000</td>\n",
              "      <td id=\"T_e83b1_row6_col6\" class=\"data row6 col6\" >0.390000</td>\n",
              "    </tr>\n",
              "    <tr>\n",
              "      <th id=\"T_e83b1_level0_row7\" class=\"row_heading level0 row7\" >thalach</th>\n",
              "      <td id=\"T_e83b1_row7_col0\" class=\"data row7 col0\" >-0.370000</td>\n",
              "      <td id=\"T_e83b1_row7_col1\" class=\"data row7 col1\" >-0.000000</td>\n",
              "      <td id=\"T_e83b1_row7_col2\" class=\"data row7 col2\" >0.270000</td>\n",
              "      <td id=\"T_e83b1_row7_col3\" class=\"data row7 col3\" >-0.130000</td>\n",
              "      <td id=\"T_e83b1_row7_col4\" class=\"data row7 col4\" >0.320000</td>\n",
              "      <td id=\"T_e83b1_row7_col5\" class=\"data row7 col5\" >-0.120000</td>\n",
              "      <td id=\"T_e83b1_row7_col6\" class=\"data row7 col6\" >0.090000</td>\n",
              "    </tr>\n",
              "    <tr>\n",
              "      <th id=\"T_e83b1_level0_row8\" class=\"row_heading level0 row8\" >exang</th>\n",
              "      <td id=\"T_e83b1_row8_col0\" class=\"data row8 col0\" >0.340000</td>\n",
              "      <td id=\"T_e83b1_row8_col1\" class=\"data row8 col1\" >-0.210000</td>\n",
              "      <td id=\"T_e83b1_row8_col2\" class=\"data row8 col2\" >-0.120000</td>\n",
              "      <td id=\"T_e83b1_row8_col3\" class=\"data row8 col3\" >-0.100000</td>\n",
              "      <td id=\"T_e83b1_row8_col4\" class=\"data row8 col4\" >0.040000</td>\n",
              "      <td id=\"T_e83b1_row8_col5\" class=\"data row8 col5\" >0.240000</td>\n",
              "      <td id=\"T_e83b1_row8_col6\" class=\"data row8 col6\" >0.460000</td>\n",
              "    </tr>\n",
              "    <tr>\n",
              "      <th id=\"T_e83b1_level0_row9\" class=\"row_heading level0 row9\" >oldpeak</th>\n",
              "      <td id=\"T_e83b1_row9_col0\" class=\"data row9 col0\" >0.370000</td>\n",
              "      <td id=\"T_e83b1_row9_col1\" class=\"data row9 col1\" >0.030000</td>\n",
              "      <td id=\"T_e83b1_row9_col2\" class=\"data row9 col2\" >-0.090000</td>\n",
              "      <td id=\"T_e83b1_row9_col3\" class=\"data row9 col3\" >0.370000</td>\n",
              "      <td id=\"T_e83b1_row9_col4\" class=\"data row9 col4\" >0.250000</td>\n",
              "      <td id=\"T_e83b1_row9_col5\" class=\"data row9 col5\" >-0.170000</td>\n",
              "      <td id=\"T_e83b1_row9_col6\" class=\"data row9 col6\" >-0.110000</td>\n",
              "    </tr>\n",
              "    <tr>\n",
              "      <th id=\"T_e83b1_level0_row10\" class=\"row_heading level0 row10\" >slope</th>\n",
              "      <td id=\"T_e83b1_row10_col0\" class=\"data row10 col0\" >-0.330000</td>\n",
              "      <td id=\"T_e83b1_row10_col1\" class=\"data row10 col1\" >-0.040000</td>\n",
              "      <td id=\"T_e83b1_row10_col2\" class=\"data row10 col2\" >0.200000</td>\n",
              "      <td id=\"T_e83b1_row10_col3\" class=\"data row10 col3\" >-0.500000</td>\n",
              "      <td id=\"T_e83b1_row10_col4\" class=\"data row10 col4\" >-0.240000</td>\n",
              "      <td id=\"T_e83b1_row10_col5\" class=\"data row10 col5\" >-0.060000</td>\n",
              "      <td id=\"T_e83b1_row10_col6\" class=\"data row10 col6\" >0.060000</td>\n",
              "    </tr>\n",
              "    <tr>\n",
              "      <th id=\"T_e83b1_level0_row11\" class=\"row_heading level0 row11\" >ca</th>\n",
              "      <td id=\"T_e83b1_row11_col0\" class=\"data row11 col0\" >0.260000</td>\n",
              "      <td id=\"T_e83b1_row11_col1\" class=\"data row11 col1\" >0.090000</td>\n",
              "      <td id=\"T_e83b1_row11_col2\" class=\"data row11 col2\" >0.300000</td>\n",
              "      <td id=\"T_e83b1_row11_col3\" class=\"data row11 col3\" >-0.190000</td>\n",
              "      <td id=\"T_e83b1_row11_col4\" class=\"data row11 col4\" >-0.430000</td>\n",
              "      <td id=\"T_e83b1_row11_col5\" class=\"data row11 col5\" >-0.180000</td>\n",
              "      <td id=\"T_e83b1_row11_col6\" class=\"data row11 col6\" >-0.330000</td>\n",
              "    </tr>\n",
              "    <tr>\n",
              "      <th id=\"T_e83b1_level0_row12\" class=\"row_heading level0 row12\" >thal</th>\n",
              "      <td id=\"T_e83b1_row12_col0\" class=\"data row12 col0\" >0.220000</td>\n",
              "      <td id=\"T_e83b1_row12_col1\" class=\"data row12 col1\" >-0.190000</td>\n",
              "      <td id=\"T_e83b1_row12_col2\" class=\"data row12 col2\" >0.240000</td>\n",
              "      <td id=\"T_e83b1_row12_col3\" class=\"data row12 col3\" >-0.240000</td>\n",
              "      <td id=\"T_e83b1_row12_col4\" class=\"data row12 col4\" >0.340000</td>\n",
              "      <td id=\"T_e83b1_row12_col5\" class=\"data row12 col5\" >-0.500000</td>\n",
              "      <td id=\"T_e83b1_row12_col6\" class=\"data row12 col6\" >0.070000</td>\n",
              "    </tr>\n",
              "    <tr>\n",
              "      <th id=\"T_e83b1_level0_row13\" class=\"row_heading level0 row13\" >target</th>\n",
              "      <td id=\"T_e83b1_row13_col0\" class=\"data row13 col0\" >-0.440000</td>\n",
              "      <td id=\"T_e83b1_row13_col1\" class=\"data row13 col1\" >0.150000</td>\n",
              "      <td id=\"T_e83b1_row13_col2\" class=\"data row13 col2\" >-0.120000</td>\n",
              "      <td id=\"T_e83b1_row13_col3\" class=\"data row13 col3\" >0.120000</td>\n",
              "      <td id=\"T_e83b1_row13_col4\" class=\"data row13 col4\" >0.010000</td>\n",
              "      <td id=\"T_e83b1_row13_col5\" class=\"data row13 col5\" >0.010000</td>\n",
              "      <td id=\"T_e83b1_row13_col6\" class=\"data row13 col6\" >0.030000</td>\n",
              "    </tr>\n",
              "  </tbody>\n",
              "</table>\n"
            ]
          },
          "metadata": {},
          "execution_count": 82
        }
      ]
    },
    {
      "cell_type": "code",
      "source": [
        "plt.figure(figsize = (7,7))\n",
        "sns.scatterplot(x=data_pca1[0],y=data_pca1[1])\n",
        "plt.xlabel(\"PC1\")\n",
        "plt.ylabel(\"PC2\")"
      ],
      "metadata": {
        "id": "mRPdzHVGYl2p",
        "colab": {
          "base_uri": "https://localhost:8080/",
          "height": 462
        },
        "outputId": "6492ea4b-6755-413d-8591-07f20a3b2fd8"
      },
      "execution_count": null,
      "outputs": [
        {
          "output_type": "execute_result",
          "data": {
            "text/plain": [
              "Text(0, 0.5, 'PC2')"
            ]
          },
          "metadata": {},
          "execution_count": 83
        },
        {
          "output_type": "display_data",
          "data": {
            "text/plain": [
              "<Figure size 504x504 with 1 Axes>"
            ],
            "image/png": "[encoded data removed]"
          },
          "metadata": {}
        }
      ]
    },
    {
      "cell_type": "markdown",
      "source": [
        "En el grafico entonces apreciamos la varianza explicada por los componentes definidos. Vemos que necesitamos 12 componentes para explicar el fenomeno al 100%, sujeto a los datos recolectados, claramente.\n",
        "\n",
        "Se toma entonces de entrenar al modelo con las 14 caracteristicas del inicio del muestreo conveniencia."
      ],
      "metadata": {
        "id": "4v7Z4KeqoIdy"
      }
    },
    {
      "cell_type": "code",
      "source": [
        "print(df.groupby('target').size())     "
      ],
      "metadata": {
        "id": "Od_QOKAwhHxu",
        "colab": {
          "base_uri": "https://localhost:8080/"
        },
        "outputId": "6b67e68c-5545-4e8f-e92f-b2ff2c4e59bd"
      },
      "execution_count": null,
      "outputs": [
        {
          "output_type": "stream",
          "name": "stdout",
          "text": [
            "target\n",
            "0    138\n",
            "1    165\n",
            "dtype: int64\n"
          ]
        }
      ]
    },
    {
      "cell_type": "markdown",
      "source": [
        "Esto son 165 enfermos bajo sus respectivos datos y 138 que no estan enfermos."
      ],
      "metadata": {
        "id": "--__hsyQhJEo"
      }
    },
    {
      "cell_type": "markdown",
      "source": [
        "**Importante.** Aunque definimos las nuevas variables o conglomerados a partir de PCA, queda faltando la combinacion lineal que representa el valor de cada variable para los 303 datos, que junto a la variable target constituyen el dataframe que se divide en entrenamiento y prueba para aplciar el modelo de K-vecinos mas cercanos."
      ],
      "metadata": {
        "id": "pmAJqkHklGUZ"
      }
    },
    {
      "cell_type": "markdown",
      "metadata": {
        "id": "Mgvlemj7oy70"
      },
      "source": [
        "# 10. Clasidicación ce K-Nearest Neighbour (KNN)\n"
      ]
    },
    {
      "cell_type": "markdown",
      "source": [
        "## 10.1 Teoría K-vecinos más cercanos - KNN"
      ],
      "metadata": {
        "id": "jnRus-FBkg-g"
      }
    },
    {
      "cell_type": "markdown",
      "source": [
        "Es un clasificador de aprendizaje supervisado no paramétrico, que utiliza la proximidad para hacer clasificaciones o predicciones sobre la agrupación de un punto de datos individual. Si bien se puede usar para problemas de regresión o clasificación, generalmente se usa como un algoritmo de clasificación, partiendo de la suposición de que se pueden encontrar puntos similares cerca uno del otro."
      ],
      "metadata": {
        "id": "3MmFZwaqklO7"
      }
    },
    {
      "cell_type": "code",
      "source": [
        "from sklearn.model_selection import train_test_split\n",
        "\n",
        "x_train, x_test, y_train, y_test = train_test_split(x_data, y, test_size = 0.20 ,random_state=0)"
      ],
      "metadata": {
        "id": "cx0hIbOJpLN1"
      },
      "execution_count": null,
      "outputs": []
    },
    {
      "cell_type": "code",
      "source": [
        "#transpose matrices\n",
        "x_train = x_train.T\n",
        "y_train = y_train.T\n",
        "x_test = x_test.T\n",
        "y_test = y_test.T"
      ],
      "metadata": {
        "id": "tOQkNxb3n2Dh"
      },
      "execution_count": null,
      "outputs": []
    },
    {
      "cell_type": "code",
      "execution_count": null,
      "metadata": {
        "id": "c9uYUvcxpabt",
        "colab": {
          "base_uri": "https://localhost:8080/"
        },
        "outputId": "e53ce485-6e34-4404-d7f7-ed9c38e82877"
      },
      "outputs": [
        {
          "output_type": "stream",
          "name": "stdout",
          "text": [
            "2 Puntaje NN: 72.13%\n"
          ]
        }
      ],
      "source": [
        "# KNN Model\n",
        "from sklearn.neighbors import KNeighborsClassifier\n",
        "knn = KNeighborsClassifier(n_neighbors = 13)  # n_neighbors means k\n",
        "knn.fit(x_train.T, y_train.T)\n",
        "prediction = knn.predict(x_test.T)\n",
        "\n",
        "print(\"{} Puntaje NN: {:.2f}%\".format(2, knn.score(x_test.T, y_test.T)*100))"
      ]
    },
    {
      "cell_type": "code",
      "execution_count": null,
      "metadata": {
        "id": "puewjKBVpf88",
        "colab": {
          "base_uri": "https://localhost:8080/",
          "height": 717
        },
        "outputId": "cefee58e-4c14-4d48-902d-2b272bb12cf9"
      },
      "outputs": [
        {
          "output_type": "display_data",
          "data": {
            "text/plain": [
              "<Figure size 1152x864 with 1 Axes>"
            ],
            "image/png": "[encoded data removed]"
          },
          "metadata": {}
        }
      ],
      "source": [
        "# try ro find best k value\n",
        "\n",
        "scoreList = []\n",
        "for i in range(1,20):\n",
        "    knn2 = KNeighborsClassifier(n_neighbors = i)  # n_neighbors means k\n",
        "    knn2.fit(x_train.T, y_train.T)\n",
        "    scoreList.append(knn2.score(x_test.T, y_test.T))\n",
        "    \n",
        "plt.plot(range(1,20), scoreList)\n",
        "plt.xticks(np.arange(1,20,1))\n",
        "plt.xlabel(\"K-Valoe\")\n",
        "plt.ylabel(\"Puntaje\")\n",
        "plt.show()"
      ]
    },
    {
      "cell_type": "markdown",
      "source": [
        "## 10.2 Matriz de confusión\n",
        "Ahora utilizaremos la matriz de confusión que nos dira que tan efectivo fue el modelo, un reporte y el accuracy."
      ],
      "metadata": {
        "id": "VF9v_ydRzDt9"
      }
    },
    {
      "cell_type": "code",
      "source": [
        "from sklearn.metrics import confusion_matrix\n"
      ],
      "metadata": {
        "id": "3FyuypvYzDt_"
      },
      "execution_count": null,
      "outputs": []
    },
    {
      "cell_type": "code",
      "source": [
        "from sklearn import feature_extraction, model_selection, naive_bayes, metrics\n",
        "from collections import Counter\n",
        "from sklearn import feature_extraction, model_selection, naive_bayes, metrics\n",
        "\n",
        "matrizConfusion1 = metrics.confusion_matrix(y_train.T, knn.predict(x_train.T))\n",
        "pd.DataFrame(data = matrizConfusion1, columns = ['', ''],\n",
        "            index = ['', ''])\n",
        "\n",
        "\n"
      ],
      "metadata": {
        "id": "4T_8o-oR4V6O",
        "colab": {
          "base_uri": "https://localhost:8080/",
          "height": 95
        },
        "outputId": "462c7e47-7c8d-4b9d-9fa9-ce0b6ec99919"
      },
      "execution_count": null,
      "outputs": [
        {
          "output_type": "execute_result",
          "data": {
            "text/plain": [
              "        \n",
              "  69  42\n",
              "  34  97"
            ],
            "text/html": [
              "\n",
              "  <div id=\"df-31ea780b-6d51-4889-b071-e6d3e5867977\">\n",
              "    <div class=\"colab-df-container\">\n",
              "      <div>\n",
              "<style scoped>\n",
              "    .dataframe tbody tr th:only-of-type {\n",
              "        vertical-align: middle;\n",
              "    }\n",
              "\n",
              "    .dataframe tbody tr th {\n",
              "        vertical-align: top;\n",
              "    }\n",
              "\n",
              "    .dataframe thead th {\n",
              "        text-align: right;\n",
              "    }\n",
              "</style>\n",
              "<table border=\"1\" class=\"dataframe\">\n",
              "  <thead>\n",
              "    <tr style=\"text-align: right;\">\n",
              "      <th></th>\n",
              "      <th></th>\n",
              "      <th></th>\n",
              "    </tr>\n",
              "  </thead>\n",
              "  <tbody>\n",
              "    <tr>\n",
              "      <th></th>\n",
              "      <td>69</td>\n",
              "      <td>42</td>\n",
              "    </tr>\n",
              "    <tr>\n",
              "      <th></th>\n",
              "      <td>34</td>\n",
              "      <td>97</td>\n",
              "    </tr>\n",
              "  </tbody>\n",
              "</table>\n",
              "</div>\n",
              "      <button class=\"colab-df-convert\" onclick=\"convertToInteractive('df-31ea780b-6d51-4889-b071-e6d3e5867977')\"\n",
              "              title=\"Convert this dataframe to an interactive table.\"\n",
              "              style=\"display:none;\">\n",
              "        \n",
              "  <svg xmlns=\"http://www.w3.org/2000/svg\" height=\"24px\"viewBox=\"0 0 24 24\"\n",
              "       width=\"24px\">\n",
              "    <path d=\"M0 0h24v24H0V0z\" fill=\"none\"/>\n",
              "    <path d=\"M18.56 5.44l.94 2.06.94-2.06 2.06-.94-2.06-.94-.94-2.06-.94 2.06-2.06.94zm-11 1L8.5 8.5l.94-2.06 2.06-.94-2.06-.94L8.5 2.5l-.94 2.06-2.06.94zm10 10l.94 2.06.94-2.06 2.06-.94-2.06-.94-.94-2.06-.94 2.06-2.06.94z\"/><path d=\"M17.41 7.96l-1.37-1.37c-.4-.4-.92-.59-1.43-.59-.52 0-1.04.2-1.43.59L10.3 9.45l-7.72 7.72c-.78.78-.78 2.05 0 2.83L4 21.41c.39.39.9.59 1.41.59.51 0 1.02-.2 1.41-.59l7.78-7.78 2.81-2.81c.8-.78.8-2.07 0-2.86zM5.41 20L4 18.59l7.72-7.72 1.47 1.35L5.41 20z\"/>\n",
              "  </svg>\n",
              "      </button>\n",
              "      \n",
              "  <style>\n",
              "    .colab-df-container {\n",
              "      display:flex;\n",
              "      flex-wrap:wrap;\n",
              "      gap: 12px;\n",
              "    }\n",
              "\n",
              "    .colab-df-convert {\n",
              "      background-color: #E8F0FE;\n",
              "      border: none;\n",
              "      border-radius: 50%;\n",
              "      cursor: pointer;\n",
              "      display: none;\n",
              "      fill: #1967D2;\n",
              "      height: 32px;\n",
              "      padding: 0 0 0 0;\n",
              "      width: 32px;\n",
              "    }\n",
              "\n",
              "    .colab-df-convert:hover {\n",
              "      background-color: #E2EBFA;\n",
              "      box-shadow: 0px 1px 2px rgba(60, 64, 67, 0.3), 0px 1px 3px 1px rgba(60, 64, 67, 0.15);\n",
              "      fill: #174EA6;\n",
              "    }\n",
              "\n",
              "    [theme=dark] .colab-df-convert {\n",
              "      background-color: #3B4455;\n",
              "      fill: #D2E3FC;\n",
              "    }\n",
              "\n",
              "    [theme=dark] .colab-df-convert:hover {\n",
              "      background-color: #434B5C;\n",
              "      box-shadow: 0px 1px 3px 1px rgba(0, 0, 0, 0.15);\n",
              "      filter: drop-shadow(0px 1px 2px rgba(0, 0, 0, 0.3));\n",
              "      fill: #FFFFFF;\n",
              "    }\n",
              "  </style>\n",
              "\n",
              "      <script>\n",
              "        const buttonEl =\n",
              "          document.querySelector('#df-31ea780b-6d51-4889-b071-e6d3e5867977 button.colab-df-convert');\n",
              "        buttonEl.style.display =\n",
              "          google.colab.kernel.accessAllowed ? 'block' : 'none';\n",
              "\n",
              "        async function convertToInteractive(key) {\n",
              "          const element = document.querySelector('#df-31ea780b-6d51-4889-b071-e6d3e5867977');\n",
              "          const dataTable =\n",
              "            await google.colab.kernel.invokeFunction('convertToInteractive',\n",
              "                                                     [key], {});\n",
              "          if (!dataTable) return;\n",
              "\n",
              "          const docLinkHtml = 'Like what you see? Visit the ' +\n",
              "            '<a target=\"_blank\" href=https://colab.research.google.com/notebooks/data_table.ipynb>data table notebook</a>'\n",
              "            + ' to learn more about interactive tables.';\n",
              "          element.innerHTML = '';\n",
              "          dataTable['output_type'] = 'display_data';\n",
              "          await google.colab.output.renderOutput(dataTable, element);\n",
              "          const docLink = document.createElement('div');\n",
              "          docLink.innerHTML = docLinkHtml;\n",
              "          element.appendChild(docLink);\n",
              "        }\n",
              "      </script>\n",
              "    </div>\n",
              "  </div>\n",
              "  "
            ]
          },
          "metadata": {},
          "execution_count": 98
        }
      ]
    },
    {
      "cell_type": "markdown",
      "source": [
        "## 10.3 Predecir a partir del modelo creado "
      ],
      "metadata": {
        "id": "ifexBGcTb4lO"
      }
    },
    {
      "cell_type": "code",
      "source": [
        "# print(knn.predict([[23, 1, 0, 120, 110, 0, 1, 188, 0, 0.2, 0, 0, 3 ]]))"
      ],
      "metadata": {
        "id": "-vvhsEhoCDAQ"
      },
      "execution_count": null,
      "outputs": []
    },
    {
      "cell_type": "markdown",
      "source": [
        "# 11. Comparacion de modelos "
      ],
      "metadata": {
        "id": "cyYUJQuDLrzw"
      }
    },
    {
      "cell_type": "code",
      "source": [
        "print(\"Precisión de Naive Bayes = \",accuracy_score(y_test, y_pred))\n",
        "\n",
        "print(\"Presición de KNN =\",knn.score(x_test.T, y_test.T))\n",
        "\n"
      ],
      "metadata": {
        "id": "z1xXkVlXZT0h",
        "colab": {
          "base_uri": "https://localhost:8080/"
        },
        "outputId": "98d18b52-670f-46dd-8fed-394793df9477"
      },
      "execution_count": null,
      "outputs": [
        {
          "output_type": "stream",
          "name": "stdout",
          "text": [
            "Precisión de Naive Bayes =  0.8524590163934426\n",
            "Presición de KNN = 0.7213114754098361\n"
          ]
        }
      ]
    },
    {
      "cell_type": "code",
      "source": [
        "import numpy as np\n",
        "import matplotlib.pyplot as plt\n",
        "\n",
        "a = accuracy_score(y_test, y_pred)\n",
        "b = knn.score(x_test.T, y_test.T)\n",
        "an = 0.7\n",
        "\n",
        "etiquetas = ['Naive bayes', 'KNN']\n",
        "valores = [a, b]\n",
        "\n",
        "fig, ax = plt.subplots()\n",
        "ax.bar(etiquetas, valores, an)\n",
        "ax.annotate('85.24%', xy =(0,a))\n",
        "ax.annotate('72.13%', xy =(1,b))\n",
        "ax.set_title('Comparación de Presición entre modelos')\n",
        "ax.set_ylabel('precisión')\n",
        "ax.set_xlabel('Modelos')\n"
      ],
      "metadata": {
        "id": "H2IJWGPtLtq5",
        "colab": {
          "base_uri": "https://localhost:8080/",
          "height": 752
        },
        "outputId": "1e43ac9d-3e5a-4aac-b090-b7ff31263e46"
      },
      "execution_count": null,
      "outputs": [
        {
          "output_type": "execute_result",
          "data": {
            "text/plain": [
              "Text(0.5, 0, 'Modelos')"
            ]
          },
          "metadata": {},
          "execution_count": 101
        },
        {
          "output_type": "display_data",
          "data": {
            "text/plain": [
              "<Figure size 1152x864 with 1 Axes>"
            ],
            "image/png": "[encoded data removed]"
          },
          "metadata": {}
        }
      ]
    },
    {
      "cell_type": "markdown",
      "source": [
        "Nuestros modelos funcionan bien, pero el mejor es Naive Bayes con un 85,24 % de precisión.\n",
        "\n",
        "\n"
      ],
      "metadata": {
        "id": "hgfFMkxUSt8B"
      }
    }
  ],
  "metadata": {
    "colab": {
      "collapsed_sections": [
        "bRQwMS03egav",
        "H0pbsUyqD8oU",
        "VsJGaA5kHtsF"
      ],
      "provenance": [],
      "toc_visible": true,
      "include_colab_link": true
    },
    "kernelspec": {
      "display_name": "Python 3",
      "name": "python3"
    },
    "language_info": {
      "name": "python"
    }
  },
  "nbformat": 4,
  "nbformat_minor": 0
}